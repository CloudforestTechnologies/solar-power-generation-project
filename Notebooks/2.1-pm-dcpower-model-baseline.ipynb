{
 "metadata": {
  "language_info": {
   "codemirror_mode": {
    "name": "ipython",
    "version": 3
   },
   "file_extension": ".py",
   "mimetype": "text/x-python",
   "name": "python",
   "nbconvert_exporter": "python",
   "pygments_lexer": "ipython3",
   "version": "3.6.6-final"
  },
  "orig_nbformat": 2,
  "kernelspec": {
   "name": "python3",
   "display_name": "Python 3"
  }
 },
 "nbformat": 4,
 "nbformat_minor": 2,
 "cells": [
  {
   "cell_type": "code",
   "execution_count": 4,
   "metadata": {},
   "outputs": [
    {
     "output_type": "stream",
     "name": "stdout",
     "text": [
      "0.22.2.post1 1.17.4 1.1.2\n"
     ]
    }
   ],
   "source": [
    "# Module Importations\n",
    "import numpy as np\n",
    "import pandas as pd\n",
    "import sklearn\n",
    "from sklearn.linear_model import LinearRegression\n",
    "from sklearn.metrics import mean_absolute_error\n",
    "from sklearn.metrics import mean_squared_error\n",
    "\n",
    "# Print versioning information\n",
    "print(sklearn.__version__, np.__version__, pd.__version__) "
   ]
  },
  {
   "cell_type": "code",
   "execution_count": 5,
   "metadata": {},
   "outputs": [],
   "source": [
    "# Custom Module Imports\n",
    "from Source.data import load_data"
   ]
  },
  {
   "cell_type": "code",
   "execution_count": null,
   "metadata": {},
   "outputs": [],
   "source": [
    "# Constants"
   ]
  },
  {
   "cell_type": "code",
   "execution_count": 6,
   "metadata": {},
   "outputs": [
    {
     "output_type": "stream",
     "name": "stdout",
     "text": [
      "Loaded pickled dataframe ...\n                DATE_TIME  PLANT_ID       SOURCE_KEY  DC_POWER  AC_POWER  \\\n0     2020-05-15 00:00:00   4135001  1BY6WEcLGh8j5v7       0.0       0.0   \n1     2020-05-15 00:00:00   4135001  1IF53ai7Xc0U56Y       0.0       0.0   \n2     2020-05-15 00:00:00   4135001  3PZuoBAID5Wc2HD       0.0       0.0   \n3     2020-05-15 00:00:00   4135001  7JYdWkrLSPkdwr4       0.0       0.0   \n4     2020-05-15 00:00:00   4135001  McdE0feGgRqW7Ca       0.0       0.0   \n...                   ...       ...              ...       ...       ...   \n68773 2020-06-17 23:45:00   4135001  uHbuxQJl8lW7ozc       0.0       0.0   \n68774 2020-06-17 23:45:00   4135001  wCURE6d3bPkepu2       0.0       0.0   \n68775 2020-06-17 23:45:00   4135001  z9Y9gH1T5YWrNuG       0.0       0.0   \n68776 2020-06-17 23:45:00   4135001  zBIq5rxdHJRwDNY       0.0       0.0   \n68777 2020-06-17 23:45:00   4135001  zVJPv84UY57bAof       0.0       0.0   \n\n       DAILY_YIELD  TOTAL_YIELD CELL_NO TIME_OF_DAY   AMB_TEMP   MOD_TEMP  \\\n0            0.000    6259559.0       1    00:00:00  25.184316  22.857507   \n1            0.000    6183645.0       2    00:00:00  25.184316  22.857507   \n2            0.000    6987759.0       3    00:00:00  25.184316  22.857507   \n3            0.000    7602960.0       3    00:00:00  25.184316  22.857507   \n4            0.000    7158964.0       5    00:00:00  25.184316  22.857507   \n...            ...          ...     ...         ...        ...        ...   \n68773     5967.000    7287002.0      17    23:45:00  23.202871  22.535908   \n68774     5147.625    7028601.0      18    23:45:00  23.202871  22.535908   \n68775     5819.000    7251204.0      19    23:45:00  23.202871  22.535908   \n68776     5817.000    6583369.0      20    23:45:00  23.202871  22.535908   \n68777     5910.000    7363272.0      21    23:45:00  23.202871  22.535908   \n\n       IRRADIATION   PLANT  \n0              0.0  plant1  \n1              0.0  plant1  \n2              0.0  plant1  \n3              0.0  plant1  \n4              0.0  plant1  \n...            ...     ...  \n68773          0.0  plant2  \n68774          0.0  plant2  \n68775          0.0  plant2  \n68776          0.0  plant2  \n68777          0.0  plant2  \n\n[137556 rows x 13 columns]\n"
     ]
    }
   ],
   "source": [
    "# Load data from pickle\n",
    "original_dataset_df = load_data.load_pickled_data('full_data_df.pkl')\n",
    "\n",
    "print(original_dataset_df)"
   ]
  },
  {
   "cell_type": "code",
   "execution_count": null,
   "metadata": {},
   "outputs": [],
   "source": []
  }
 ]
}