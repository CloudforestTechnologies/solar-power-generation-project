{
 "metadata": {
  "language_info": {
   "codemirror_mode": {
    "name": "ipython",
    "version": 3
   },
   "file_extension": ".py",
   "mimetype": "text/x-python",
   "name": "python",
   "nbconvert_exporter": "python",
   "pygments_lexer": "ipython3",
   "version": "3.6.6-final"
  },
  "orig_nbformat": 2,
  "kernelspec": {
   "name": "python3",
   "display_name": "Python 3"
  }
 },
 "nbformat": 4,
 "nbformat_minor": 2,
 "cells": [
  {
   "cell_type": "code",
   "execution_count": 1,
   "metadata": {},
   "outputs": [
    {
     "output_type": "stream",
     "name": "stdout",
     "text": [
      "0.22.2.post1 1.19.4 1.1.4\n"
     ]
    }
   ],
   "source": [
    "# Module Importations\n",
    "import numpy as np\n",
    "import pandas as pd\n",
    "import sklearn\n",
    "from sklearn.linear_model import LinearRegression\n",
    "from sklearn.metrics import mean_absolute_error\n",
    "from sklearn.metrics import mean_squared_error\n",
    "\n",
    "# Print versioning information\n",
    "print(sklearn.__version__, np.__version__, pd.__version__) "
   ]
  },
  {
   "cell_type": "code",
   "execution_count": 6,
   "metadata": {},
   "outputs": [],
   "source": [
    "# Custom Module Imports\n",
    "from Source.data import load_data\n",
    "from Source.data import split_data"
   ]
  },
  {
   "cell_type": "code",
   "execution_count": 3,
   "metadata": {},
   "outputs": [],
   "source": [
    "# Constants"
   ]
  },
  {
   "cell_type": "code",
   "execution_count": 5,
   "metadata": {},
   "outputs": [
    {
     "output_type": "stream",
     "name": "stdout",
     "text": [
      "Loaded pickled dataframe ...\n"
     ]
    }
   ],
   "source": [
    "# Load data from pickle\n",
    "original_dataset_df = load_data.load_pickled_data('full_data_df.pkl')"
   ]
  },
  {
   "cell_type": "code",
   "execution_count": 7,
   "metadata": {},
   "outputs": [],
   "source": [
    "# Split data into training / evaluation sets\n",
    "training_set, evaluation_set = split_data.split_train_eval(original_dataset_df, 0.8)"
   ]
  },
  {
   "cell_type": "code",
   "execution_count": 9,
   "metadata": {},
   "outputs": [
    {
     "output_type": "stream",
     "name": "stdout",
     "text": [
      "<class 'pandas.core.frame.DataFrame'>\nInt64Index: 27512 entries, 129536 to 121958\nData columns (total 13 columns):\n #   Column       Non-Null Count  Dtype         \n---  ------       --------------  -----         \n 0   DATE_TIME    27512 non-null  datetime64[ns]\n 1   PLANT_ID     27512 non-null  int64         \n 2   SOURCE_KEY   27512 non-null  object        \n 3   DC_POWER     27512 non-null  float64       \n 4   AC_POWER     27512 non-null  float64       \n 5   DAILY_YIELD  27512 non-null  float64       \n 6   TOTAL_YIELD  27512 non-null  float64       \n 7   CELL_NO      27512 non-null  object        \n 8   TIME_OF_DAY  27512 non-null  object        \n 9   AMB_TEMP     27512 non-null  float64       \n 10  MOD_TEMP     27512 non-null  float64       \n 11  IRRADIATION  27512 non-null  float64       \n 12  PLANT        27512 non-null  object        \ndtypes: datetime64[ns](1), float64(7), int64(1), object(4)\nmemory usage: 4.2+ MB\nNone\n<class 'pandas.core.frame.DataFrame'>\nInt64Index: 110044 entries, 23464 to 76347\nData columns (total 13 columns):\n #   Column       Non-Null Count   Dtype         \n---  ------       --------------   -----         \n 0   DATE_TIME    110044 non-null  datetime64[ns]\n 1   PLANT_ID     110044 non-null  int64         \n 2   SOURCE_KEY   110044 non-null  object        \n 3   DC_POWER     110044 non-null  float64       \n 4   AC_POWER     110044 non-null  float64       \n 5   DAILY_YIELD  110044 non-null  float64       \n 6   TOTAL_YIELD  110044 non-null  float64       \n 7   CELL_NO      110044 non-null  object        \n 8   TIME_OF_DAY  110044 non-null  object        \n 9   AMB_TEMP     110044 non-null  float64       \n 10  MOD_TEMP     110044 non-null  float64       \n 11  IRRADIATION  110044 non-null  float64       \n 12  PLANT        110044 non-null  object        \ndtypes: datetime64[ns](1), float64(7), int64(1), object(4)\nmemory usage: 11.8+ MB\nNone\n"
     ]
    }
   ],
   "source": [
    "print(training_set.info())\n",
    "print(evaluation_set.info())"
   ]
  },
  {
   "cell_type": "code",
   "execution_count": null,
   "metadata": {},
   "outputs": [],
   "source": []
  }
 ]
}