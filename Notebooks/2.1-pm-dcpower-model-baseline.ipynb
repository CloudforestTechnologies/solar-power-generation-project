{
 "metadata": {
  "language_info": {
   "codemirror_mode": {
    "name": "ipython",
    "version": 3
   },
   "file_extension": ".py",
   "mimetype": "text/x-python",
   "name": "python",
   "nbconvert_exporter": "python",
   "pygments_lexer": "ipython3",
   "version": "3.6.6-final"
  },
  "orig_nbformat": 2,
  "kernelspec": {
   "name": "python3",
   "display_name": "Python 3",
   "language": "python"
  }
 },
 "nbformat": 4,
 "nbformat_minor": 2,
 "cells": [
  {
   "cell_type": "code",
   "execution_count": 1,
   "metadata": {},
   "outputs": [
    {
     "output_type": "stream",
     "name": "stdout",
     "text": [
      "0.22.2.post1 1.19.4 1.1.4\n"
     ]
    }
   ],
   "source": [
    "# Module Importations\n",
    "import numpy as np\n",
    "import pandas as pd\n",
    "import sklearn\n",
    "from sklearn.linear_model import LinearRegression\n",
    "from sklearn.metrics import mean_absolute_error\n",
    "from sklearn.metrics import mean_squared_error\n",
    "from sklearn.model_selection import cross_val_score\n",
    "from sklearn.preprocessing import PolynomialFeatures\n",
    "\n",
    "# Print versioning information\n",
    "print(sklearn.__version__, np.__version__, pd.__version__) "
   ]
  },
  {
   "cell_type": "code",
   "execution_count": 2,
   "metadata": {},
   "outputs": [],
   "source": [
    "# Custom Module Imports\n",
    "from Source.data import load_data\n",
    "from Source.data import split_data\n",
    "from Source.models import model_evaluation\n",
    "from Source.models import sklearn_helpers"
   ]
  },
  {
   "cell_type": "code",
   "execution_count": 3,
   "metadata": {},
   "outputs": [],
   "source": [
    "# Constants"
   ]
  },
  {
   "cell_type": "code",
   "execution_count": 4,
   "metadata": {},
   "outputs": [
    {
     "output_type": "stream",
     "name": "stdout",
     "text": [
      "Loaded pickled dataframe ...\n"
     ]
    }
   ],
   "source": [
    "# Load data from pickle\n",
    "original_dataset_df = load_data.load_pickled_data('full_data_df.pkl')"
   ]
  },
  {
   "cell_type": "code",
   "execution_count": 5,
   "metadata": {},
   "outputs": [
    {
     "output_type": "stream",
     "name": "stdout",
     "text": [
      "                 DATE_TIME  PLANT_ID       SOURCE_KEY  DC_POWER  AC_POWER  \\\n0      2020-05-15 00:00:00   4135001  1BY6WEcLGh8j5v7       0.0       0.0   \n1      2020-05-15 00:00:00   4135001  1IF53ai7Xc0U56Y       0.0       0.0   \n2      2020-05-15 00:00:00   4135001  3PZuoBAID5Wc2HD       0.0       0.0   \n3      2020-05-15 00:00:00   4135001  7JYdWkrLSPkdwr4       0.0       0.0   \n4      2020-05-15 00:00:00   4135001  McdE0feGgRqW7Ca       0.0       0.0   \n...                    ...       ...              ...       ...       ...   \n137551 2020-06-17 23:45:00   4135001  uHbuxQJl8lW7ozc       0.0       0.0   \n137552 2020-06-17 23:45:00   4135001  wCURE6d3bPkepu2       0.0       0.0   \n137553 2020-06-17 23:45:00   4135001  z9Y9gH1T5YWrNuG       0.0       0.0   \n137554 2020-06-17 23:45:00   4135001  zBIq5rxdHJRwDNY       0.0       0.0   \n137555 2020-06-17 23:45:00   4135001  zVJPv84UY57bAof       0.0       0.0   \n\n        DAILY_YIELD  TOTAL_YIELD CELL_NO  TIME_OF_DAY   AMB_TEMP   MOD_TEMP  \\\n0             0.000    6259559.0      01     0.000000  25.184316  22.857507   \n1             0.000    6183645.0      02     0.000000  25.184316  22.857507   \n2             0.000    6987759.0      03     0.000000  25.184316  22.857507   \n3             0.000    7602960.0      03     0.000000  25.184316  22.857507   \n4             0.000    7158964.0      05     0.000000  25.184316  22.857507   \n...             ...          ...     ...          ...        ...        ...   \n137551     5967.000    7287002.0      17     0.989583  23.202871  22.535908   \n137552     5147.625    7028601.0      18     0.989583  23.202871  22.535908   \n137553     5819.000    7251204.0      19     0.989583  23.202871  22.535908   \n137554     5817.000    6583369.0      20     0.989583  23.202871  22.535908   \n137555     5910.000    7363272.0      21     0.989583  23.202871  22.535908   \n\n        IRRADIATION   PLANT  \n0               0.0  plant1  \n1               0.0  plant1  \n2               0.0  plant1  \n3               0.0  plant1  \n4               0.0  plant1  \n...             ...     ...  \n137551          0.0  plant2  \n137552          0.0  plant2  \n137553          0.0  plant2  \n137554          0.0  plant2  \n137555          0.0  plant2  \n\n[137556 rows x 13 columns]\n"
     ]
    }
   ],
   "source": [
    "# Data Munging - Convert time of day to float\n",
    "def convert_time_to_float(time):\n",
    "    return time.hour / 24.0 + time.minute / (24.0*60.0) + time.second / (24.0*60.0*60.0) + time.microsecond / (24.0*60.0*60.0*1000000.0)\n",
    "\n",
    "original_dataset_df['TIME_OF_DAY'] = original_dataset_df.apply(lambda row: convert_time_to_float(row['DATE_TIME']), axis = 1)\n",
    "\n",
    "print(original_dataset_df)"
   ]
  },
  {
   "cell_type": "code",
   "execution_count": 6,
   "metadata": {},
   "outputs": [
    {
     "output_type": "stream",
     "name": "stdout",
     "text": [
      "                 DATE_TIME  PLANT_ID       SOURCE_KEY  DC_POWER  AC_POWER  \\\n0      2020-05-15 00:00:00   4135001  1BY6WEcLGh8j5v7       0.0       0.0   \n1      2020-05-15 00:00:00   4135001  1IF53ai7Xc0U56Y       0.0       0.0   \n2      2020-05-15 00:00:00   4135001  3PZuoBAID5Wc2HD       0.0       0.0   \n3      2020-05-15 00:00:00   4135001  7JYdWkrLSPkdwr4       0.0       0.0   \n4      2020-05-15 00:00:00   4135001  McdE0feGgRqW7Ca       0.0       0.0   \n...                    ...       ...              ...       ...       ...   \n137551 2020-06-17 23:45:00   4135001  uHbuxQJl8lW7ozc       0.0       0.0   \n137552 2020-06-17 23:45:00   4135001  wCURE6d3bPkepu2       0.0       0.0   \n137553 2020-06-17 23:45:00   4135001  z9Y9gH1T5YWrNuG       0.0       0.0   \n137554 2020-06-17 23:45:00   4135001  zBIq5rxdHJRwDNY       0.0       0.0   \n137555 2020-06-17 23:45:00   4135001  zVJPv84UY57bAof       0.0       0.0   \n\n        DAILY_YIELD  TOTAL_YIELD CELL_NO  TIME_OF_DAY   AMB_TEMP   MOD_TEMP  \\\n0             0.000    6259559.0      01     0.000000  25.184316  22.857507   \n1             0.000    6183645.0      02     0.000000  25.184316  22.857507   \n2             0.000    6987759.0      03     0.000000  25.184316  22.857507   \n3             0.000    7602960.0      03     0.000000  25.184316  22.857507   \n4             0.000    7158964.0      05     0.000000  25.184316  22.857507   \n...             ...          ...     ...          ...        ...        ...   \n137551     5967.000    7287002.0      17     0.989583  23.202871  22.535908   \n137552     5147.625    7028601.0      18     0.989583  23.202871  22.535908   \n137553     5819.000    7251204.0      19     0.989583  23.202871  22.535908   \n137554     5817.000    6583369.0      20     0.989583  23.202871  22.535908   \n137555     5910.000    7363272.0      21     0.989583  23.202871  22.535908   \n\n        IRRADIATION  PLANT  \n0               0.0      1  \n1               0.0      1  \n2               0.0      1  \n3               0.0      1  \n4               0.0      1  \n...             ...    ...  \n137551          0.0      2  \n137552          0.0      2  \n137553          0.0      2  \n137554          0.0      2  \n137555          0.0      2  \n\n[137556 rows x 13 columns]\n"
     ]
    }
   ],
   "source": [
    "# Data Munging - Convert Plant to Int\n",
    "\n",
    "def convert_plant_to_int(plant):\n",
    "    \n",
    "    if plant == \"plant1\":\n",
    "        return 1\n",
    "    else:\n",
    "        return 2    \n",
    "\n",
    "original_dataset_df['PLANT'] = original_dataset_df.apply(lambda row: convert_plant_to_int(row['PLANT']), axis = 1)\n",
    "\n",
    "print(original_dataset_df)"
   ]
  },
  {
   "cell_type": "code",
   "execution_count": 7,
   "metadata": {},
   "outputs": [
    {
     "output_type": "stream",
     "name": "stdout",
     "text": [
      "Original Data Items: 137556\nTraining Data Items: 110045\nEvaluation Data Items: 27511\n"
     ]
    }
   ],
   "source": [
    "# Split data into training / evaluation sets\n",
    "training_set, evaluation_set = split_data.split_train_eval(original_dataset_df, 0.2)"
   ]
  },
  {
   "cell_type": "code",
   "execution_count": 8,
   "metadata": {},
   "outputs": [
    {
     "output_type": "stream",
     "name": "stdout",
     "text": [
      "           DC_POWER CELL_NO  TIME_OF_DAY   AMB_TEMP   MOD_TEMP  IRRADIATION  \\\n23464      0.000000      05     0.041667  23.478941  22.007802     0.000000   \n82416      0.000000      12     0.229167  23.216699  21.191993     0.000000   \n131200     0.000000      03     0.968750  24.652915  23.913763     0.000000   \n120917     0.000000      15     0.093750  24.696277  23.876865     0.000000   \n98459   3486.857143      17     0.364583  25.788373  28.674120     0.215449   \n\n        PLANT  \n23464       1  \n82416       2  \n131200      2  \n120917      2  \n98459       2  \n"
     ]
    }
   ],
   "source": [
    "# Drop unrequired data columns\n",
    "\n",
    "# Identify columns to drop \n",
    "columns_to_drop = ['DATE_TIME', 'PLANT_ID', 'SOURCE_KEY', 'AC_POWER', 'DAILY_YIELD', 'TOTAL_YIELD']\n",
    "\n",
    "training_set = training_set.drop(columns_to_drop, axis = 1)\n",
    "evaluation_set = evaluation_set.drop(columns_to_drop, axis = 1)\n",
    "\n",
    "print(evaluation_set.head(5))"
   ]
  },
  {
   "cell_type": "code",
   "execution_count": 9,
   "metadata": {},
   "outputs": [],
   "source": [
    "# Create DC Power Target datasets\n",
    "\n",
    "# Modify training set\n",
    "dc_power_training_data = training_set.drop('DC_POWER', axis = 1)\n",
    "dc_label_data = training_set['DC_POWER'].copy()\n",
    "\n",
    "# Modify evaluation set\n",
    "dc_evaluation_data = evaluation_set.drop('DC_POWER', axis = 1)\n",
    "dc_eval_label_data = evaluation_set['DC_POWER'].copy()"
   ]
  },
  {
   "cell_type": "code",
   "execution_count": 10,
   "metadata": {},
   "outputs": [
    {
     "output_type": "stream",
     "name": "stdout",
     "text": [
      "Save Path: C:\\Developer\\electric_motor_thermal_modelling\\Models\\WJ_LinReg_DC_2020_12_18-14_56_05.pkl\n",
      "WJ_LinReg_DC_2020_12_18-14_56_05.pkl rmse mean (cv): 1322.4137001754764\n",
      "WJ_LinReg_DC_2020_12_18-14_56_05.pkl rmse std (cv): 15.553634245007927\n",
      "WJ_LinReg_DC_2020_12_18-14_56_05.pkl mae mean (cv): 691.8947488375384\n",
      "WJ_LinReg_DC_2020_12_18-14_56_05.pkl mae (cv): 9.433653337987451\n"
     ]
    }
   ],
   "source": [
    "# Linear Regression Model (Target - DC Power)\n",
    "lin_reg_dc = LinearRegression()\n",
    "model_name = \"LinReg_DC\"\n",
    "\n",
    "# Train model\n",
    "lin_reg_dc.fit(dc_power_training_data, dc_label_data)\n",
    "\n",
    "# Save model\n",
    "model_name = sklearn_helpers.name_model(model_name)\n",
    "sklearn_helpers.save_model(lin_reg_dc, model_name)\n",
    "\n",
    "# Compute RMSE via cross validation\n",
    "scores_mse = cross_val_score(lin_reg_dc, dc_power_training_data, dc_label_data, scoring = \"neg_mean_squared_error\", cv = 5)\n",
    "scores_rmse = np.sqrt(-scores_mse)\n",
    "\n",
    "# Compute MAE via cross validation\n",
    "scores_mae = cross_val_score(lin_reg_dc, dc_power_training_data, dc_label_data, scoring = \"neg_mean_absolute_error\", cv = 5)\n",
    "scores_mae = -1 * scores_mae\n",
    "\n",
    "# Visualise cross validation results\n",
    "print(model_name, \"rmse mean (cv):\", scores_rmse.mean())\n",
    "print(model_name, \"rmse std (cv):\", scores_rmse.std())\n",
    "\n",
    "print(model_name, \"mae mean (cv):\", scores_mae.mean())\n",
    "print(model_name, \"mae (cv):\", scores_mae.std())"
   ]
  },
  {
   "cell_type": "code",
   "execution_count": 11,
   "metadata": {},
   "outputs": [
    {
     "output_type": "stream",
     "name": "stdout",
     "text": [
      "Cell_no Coef:  1.1808872444195757\nTime of Day Coef:  80.95278604763084\nAmb Temp Coef:  -102.71970025356467\nMod Temp Coef:  105.03360231841546\nIrradiation Coef:  9363.511030818054\nPlant Coef:  26.42004886454447\nWJ_LinReg_DC_2020_12_18-14_56_05.pkl rmse (Eval): 1297.550312811934\nWJ_LinReg_DC_2020_12_18-14_56_05.pkl mae (Eval): 676.8300452316188\nWJ_LinReg_DC_2020_12_18-14_56_05.pkl r2 (Eval): 0.896825460687761\n"
     ]
    }
   ],
   "source": [
    "# Model Evaluation - Linear Regr (Target - DC Power)\n",
    "\n",
    "# Describe model coefficients\n",
    "print(\"Cell_no Coef: \", lin_reg_dc.coef_[0])\n",
    "print(\"Time of Day Coef: \", lin_reg_dc.coef_[1])\n",
    "print(\"Amb Temp Coef: \", lin_reg_dc.coef_[2])\n",
    "print(\"Mod Temp Coef: \", lin_reg_dc.coef_[3])\n",
    "print(\"Irradiation Coef: \", lin_reg_dc.coef_[4])\n",
    "print(\"Plant Coef: \", lin_reg_dc.coef_[5])\n",
    "\n",
    "# Evaluate model\n",
    "dc_power_pred_eval = lin_reg_dc.predict(dc_evaluation_data)\n",
    "model_evaluation.evaluate_model(model_name, dc_eval_label_data, dc_power_pred_eval)"
   ]
  },
  {
   "cell_type": "code",
   "execution_count": 12,
   "metadata": {},
   "outputs": [
    {
     "output_type": "stream",
     "name": "stdout",
     "text": [
      "LinRegPoly_DC rmse mean (cv): 1197.7440312946387\nLinRegPoly_DC rmse std (cv): 13.603250846581462\nLinRegPoly_DC mae mean (cv): 656.1798886451742\nLinRegPoly_DC mae (cv): 6.851284258821517\n"
     ]
    }
   ],
   "source": [
    "# Polynomial Regression (Target - DC Power)\n",
    "lin_reg_poly_dc = LinearRegression()\n",
    "\n",
    "# Create Polynomial Dataset\n",
    "poly_features = PolynomialFeatures(degree = 2, include_bias = False)\n",
    "dc_training_poly = poly_features.fit_transform(dc_power_training_data)\n",
    "\n",
    "# Train Model\n",
    "lin_reg_poly_dc.fit(dc_training_poly, dc_label_data)\n",
    "\n",
    "model_name = \"LinRegPoly_DC\"\n",
    "\n",
    "# Compute RMSE via cross validation\n",
    "scores_mse = cross_val_score(lin_reg_poly_dc, dc_training_poly, dc_label_data, scoring = \"neg_mean_squared_error\", cv = 5)\n",
    "scores_rmse = np.sqrt(-scores_mse)\n",
    "\n",
    "# Compute MAE via cross validation\n",
    "scores_mae = cross_val_score(lin_reg_poly_dc, dc_training_poly, dc_label_data, scoring = \"neg_mean_absolute_error\", cv = 5)\n",
    "scores_mae = -1 * scores_mae\n",
    "\n",
    "# Visualise cross validation results\n",
    "print(model_name, \"rmse mean (cv):\", scores_rmse.mean())\n",
    "print(model_name, \"rmse std (cv):\", scores_rmse.std())\n",
    "\n",
    "print(model_name, \"mae mean (cv):\", scores_mae.mean())\n",
    "print(model_name, \"mae (cv):\", scores_mae.std())"
   ]
  },
  {
   "cell_type": "code",
   "execution_count": 13,
   "metadata": {},
   "outputs": [
    {
     "output_type": "stream",
     "name": "stdout",
     "text": [
      "[-1.70200321e+00  9.05123071e+03  8.28311591e+02 -2.01390393e+02\n",
      "  2.03162007e+04 -1.73059965e+02 -9.54497658e-02  2.74757124e+00\n",
      "  3.30993032e-01 -1.80754253e-01  7.61630781e+00 -9.53282158e-01\n",
      " -3.16995305e+03  1.03437939e+02 -4.39033826e+02  2.00541032e+04\n",
      "  9.85043058e+02 -1.78352445e+01  8.05052310e+00 -2.62149468e+02\n",
      " -7.17846101e+01  2.90147144e-02  1.59026900e+01  1.39571163e+02\n",
      " -5.51626261e+03 -5.34751678e+03 -5.19179894e+02]\n",
      "LinRegPoly_DC rmse (Eval): 1173.1783999940685\n",
      "LinRegPoly_DC mae (Eval): 642.3607270320235\n",
      "LinRegPoly_DC r2 (Eval): 0.915656379067132\n"
     ]
    }
   ],
   "source": [
    "# Polynomial Regression - Model Evaluation (Target - DC Power)\n",
    "\n",
    "# Describe model coefficients\n",
    "print(lin_reg_poly_dc.coef_)\n",
    "\n",
    "# Evaluate model (includes poly conversion of input data)\n",
    "dc_eval_poly = poly_features.fit_transform(dc_evaluation_data)\n",
    "dc_power_pred_eval = lin_reg_poly_dc.predict(dc_eval_poly)\n",
    "model_evaluation.evaluate_model(model_name, dc_eval_label_data, dc_power_pred_eval)"
   ]
  },
  {
   "cell_type": "code",
   "execution_count": null,
   "metadata": {},
   "outputs": [],
   "source": []
  }
 ]
}