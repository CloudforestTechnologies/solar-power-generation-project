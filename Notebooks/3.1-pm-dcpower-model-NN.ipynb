{
 "metadata": {
  "language_info": {
   "codemirror_mode": {
    "name": "ipython",
    "version": 3
   },
   "file_extension": ".py",
   "mimetype": "text/x-python",
   "name": "python",
   "nbconvert_exporter": "python",
   "pygments_lexer": "ipython3",
   "version": "3.6.6-final"
  },
  "orig_nbformat": 2,
  "kernelspec": {
   "name": "python3",
   "display_name": "Python 3",
   "language": "python"
  }
 },
 "nbformat": 4,
 "nbformat_minor": 2,
 "cells": [
  {
   "cell_type": "code",
   "execution_count": 1,
   "metadata": {},
   "outputs": [
    {
     "output_type": "stream",
     "name": "stderr",
     "text": [
      "Using TensorFlow backend.\n",
      "0.22.2.post1 1.19.4\n",
      "keras.__version__= 2.3.1\n"
     ]
    }
   ],
   "source": [
    "# Module Importations\n",
    "import sklearn\n",
    "from sklearn.metrics import mean_absolute_error\n",
    "from sklearn.metrics import mean_squared_error\n",
    "from sklearn.model_selection import train_test_split\n",
    "from sklearn.model_selection import RandomizedSearchCV\n",
    "import keras\n",
    "import numpy as np\n",
    "\n",
    "# Print versioning information\n",
    "print(sklearn.__version__, np.__version__) \n",
    "print('keras.__version__=', keras.__version__)"
   ]
  },
  {
   "cell_type": "code",
   "execution_count": 2,
   "metadata": {},
   "outputs": [],
   "source": [
    "# Custom Module Imports\n",
    "from Source.data import load_data\n",
    "from Source.data import split_data"
   ]
  },
  {
   "cell_type": "code",
   "execution_count": 3,
   "metadata": {},
   "outputs": [
    {
     "output_type": "stream",
     "name": "stdout",
     "text": [
      "Loaded pickled dataframe ...\n"
     ]
    }
   ],
   "source": [
    "# Load dataset\n",
    "original_dataset_df = load_data.load_pickled_data('full_data_df.pkl')"
   ]
  },
  {
   "cell_type": "code",
   "execution_count": 4,
   "metadata": {},
   "outputs": [
    {
     "output_type": "stream",
     "name": "stdout",
     "text": [
      "                 DATE_TIME  PLANT_ID       SOURCE_KEY  DC_POWER  AC_POWER  \\\n0      2020-05-15 00:00:00   4135001  1BY6WEcLGh8j5v7       0.0       0.0   \n1      2020-05-15 00:00:00   4135001  1IF53ai7Xc0U56Y       0.0       0.0   \n2      2020-05-15 00:00:00   4135001  3PZuoBAID5Wc2HD       0.0       0.0   \n3      2020-05-15 00:00:00   4135001  7JYdWkrLSPkdwr4       0.0       0.0   \n4      2020-05-15 00:00:00   4135001  McdE0feGgRqW7Ca       0.0       0.0   \n...                    ...       ...              ...       ...       ...   \n137551 2020-06-17 23:45:00   4135001  uHbuxQJl8lW7ozc       0.0       0.0   \n137552 2020-06-17 23:45:00   4135001  wCURE6d3bPkepu2       0.0       0.0   \n137553 2020-06-17 23:45:00   4135001  z9Y9gH1T5YWrNuG       0.0       0.0   \n137554 2020-06-17 23:45:00   4135001  zBIq5rxdHJRwDNY       0.0       0.0   \n137555 2020-06-17 23:45:00   4135001  zVJPv84UY57bAof       0.0       0.0   \n\n        DAILY_YIELD  TOTAL_YIELD CELL_NO  TIME_OF_DAY   AMB_TEMP   MOD_TEMP  \\\n0             0.000    6259559.0      01     0.000000  25.184316  22.857507   \n1             0.000    6183645.0      02     0.000000  25.184316  22.857507   \n2             0.000    6987759.0      03     0.000000  25.184316  22.857507   \n3             0.000    7602960.0      03     0.000000  25.184316  22.857507   \n4             0.000    7158964.0      05     0.000000  25.184316  22.857507   \n...             ...          ...     ...          ...        ...        ...   \n137551     5967.000    7287002.0      17     0.989583  23.202871  22.535908   \n137552     5147.625    7028601.0      18     0.989583  23.202871  22.535908   \n137553     5819.000    7251204.0      19     0.989583  23.202871  22.535908   \n137554     5817.000    6583369.0      20     0.989583  23.202871  22.535908   \n137555     5910.000    7363272.0      21     0.989583  23.202871  22.535908   \n\n        IRRADIATION   PLANT  \n0               0.0  plant1  \n1               0.0  plant1  \n2               0.0  plant1  \n3               0.0  plant1  \n4               0.0  plant1  \n...             ...     ...  \n137551          0.0  plant2  \n137552          0.0  plant2  \n137553          0.0  plant2  \n137554          0.0  plant2  \n137555          0.0  plant2  \n\n[137556 rows x 13 columns]\n"
     ]
    }
   ],
   "source": [
    "# Data Munging - Convert time of day to float\n",
    "\n",
    "def convert_time_to_float(time):\n",
    "    return time.hour / 24.0 + time.minute / (24.0*60.0) + time.second / (24.0*60.0*60.0) + time.microsecond / (24.0*60.0*60.0*1000000.0)\n",
    "\n",
    "original_dataset_df['TIME_OF_DAY'] = original_dataset_df.apply(lambda row: convert_time_to_float(row['DATE_TIME']), axis = 1)\n",
    "\n",
    "print(original_dataset_df)"
   ]
  },
  {
   "cell_type": "code",
   "execution_count": 5,
   "metadata": {},
   "outputs": [
    {
     "output_type": "stream",
     "name": "stdout",
     "text": [
      "                 DATE_TIME  PLANT_ID       SOURCE_KEY  DC_POWER  AC_POWER  \\\n0      2020-05-15 00:00:00   4135001  1BY6WEcLGh8j5v7       0.0       0.0   \n1      2020-05-15 00:00:00   4135001  1IF53ai7Xc0U56Y       0.0       0.0   \n2      2020-05-15 00:00:00   4135001  3PZuoBAID5Wc2HD       0.0       0.0   \n3      2020-05-15 00:00:00   4135001  7JYdWkrLSPkdwr4       0.0       0.0   \n4      2020-05-15 00:00:00   4135001  McdE0feGgRqW7Ca       0.0       0.0   \n...                    ...       ...              ...       ...       ...   \n137551 2020-06-17 23:45:00   4135001  uHbuxQJl8lW7ozc       0.0       0.0   \n137552 2020-06-17 23:45:00   4135001  wCURE6d3bPkepu2       0.0       0.0   \n137553 2020-06-17 23:45:00   4135001  z9Y9gH1T5YWrNuG       0.0       0.0   \n137554 2020-06-17 23:45:00   4135001  zBIq5rxdHJRwDNY       0.0       0.0   \n137555 2020-06-17 23:45:00   4135001  zVJPv84UY57bAof       0.0       0.0   \n\n        DAILY_YIELD  TOTAL_YIELD CELL_NO  TIME_OF_DAY   AMB_TEMP   MOD_TEMP  \\\n0             0.000    6259559.0      01     0.000000  25.184316  22.857507   \n1             0.000    6183645.0      02     0.000000  25.184316  22.857507   \n2             0.000    6987759.0      03     0.000000  25.184316  22.857507   \n3             0.000    7602960.0      03     0.000000  25.184316  22.857507   \n4             0.000    7158964.0      05     0.000000  25.184316  22.857507   \n...             ...          ...     ...          ...        ...        ...   \n137551     5967.000    7287002.0      17     0.989583  23.202871  22.535908   \n137552     5147.625    7028601.0      18     0.989583  23.202871  22.535908   \n137553     5819.000    7251204.0      19     0.989583  23.202871  22.535908   \n137554     5817.000    6583369.0      20     0.989583  23.202871  22.535908   \n137555     5910.000    7363272.0      21     0.989583  23.202871  22.535908   \n\n        IRRADIATION  PLANT  \n0               0.0      1  \n1               0.0      1  \n2               0.0      1  \n3               0.0      1  \n4               0.0      1  \n...             ...    ...  \n137551          0.0      2  \n137552          0.0      2  \n137553          0.0      2  \n137554          0.0      2  \n137555          0.0      2  \n\n[137556 rows x 13 columns]\n"
     ]
    }
   ],
   "source": [
    "# Data Munging - Convert plant to int\n",
    "\n",
    "def convert_plant_to_int(plant):\n",
    "    \n",
    "    if plant == \"plant1\":\n",
    "        return 1\n",
    "    else:\n",
    "        return 2    \n",
    "\n",
    "original_dataset_df['PLANT'] = original_dataset_df.apply(lambda row: convert_plant_to_int(row['PLANT']), axis = 1)\n",
    "\n",
    "print(original_dataset_df)"
   ]
  },
  {
   "cell_type": "code",
   "execution_count": 6,
   "metadata": {},
   "outputs": [
    {
     "output_type": "stream",
     "name": "stdout",
     "text": [
      "Original Data Items: 137556\nTraining Data Items: 110045\nEvaluation Data Items: 27511\n"
     ]
    }
   ],
   "source": [
    "# Split into training / evaluation sets\n",
    "training_set, evaluation_set = split_data.split_train_eval(original_dataset_df, 0.2)"
   ]
  },
  {
   "cell_type": "code",
   "execution_count": 7,
   "metadata": {},
   "outputs": [
    {
     "output_type": "stream",
     "name": "stdout",
     "text": [
      "           DC_POWER CELL_NO  TIME_OF_DAY   AMB_TEMP   MOD_TEMP  IRRADIATION  \\\n23464      0.000000      05     0.041667  23.478941  22.007802     0.000000   \n82416      0.000000      12     0.229167  23.216699  21.191993     0.000000   \n131200     0.000000      03     0.968750  24.652915  23.913763     0.000000   \n120917     0.000000      15     0.093750  24.696277  23.876865     0.000000   \n98459   3486.857143      17     0.364583  25.788373  28.674120     0.215449   \n\n        PLANT  \n23464       1  \n82416       2  \n131200      2  \n120917      2  \n98459       2  \n"
     ]
    }
   ],
   "source": [
    "# Drop unrequired data columns\n",
    "\n",
    "# Identify columns to drop \n",
    "columns_to_drop = ['DATE_TIME', 'PLANT_ID', 'SOURCE_KEY', 'AC_POWER', 'DAILY_YIELD', 'TOTAL_YIELD']\n",
    "\n",
    "training_set = training_set.drop(columns_to_drop, axis = 1)\n",
    "evaluation_set = evaluation_set.drop(columns_to_drop, axis = 1)\n",
    "\n",
    "print(evaluation_set.head(5))"
   ]
  },
  {
   "cell_type": "code",
   "execution_count": null,
   "metadata": {},
   "outputs": [],
   "source": []
  }
 ]
}