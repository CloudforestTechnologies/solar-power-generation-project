{
 "metadata": {
  "language_info": {
   "codemirror_mode": {
    "name": "ipython",
    "version": 3
   },
   "file_extension": ".py",
   "mimetype": "text/x-python",
   "name": "python",
   "nbconvert_exporter": "python",
   "pygments_lexer": "ipython3",
   "version": "3.6.6-final"
  },
  "orig_nbformat": 2,
  "kernelspec": {
   "name": "python3",
   "display_name": "Python 3",
   "language": "python"
  }
 },
 "nbformat": 4,
 "nbformat_minor": 2,
 "cells": [
  {
   "cell_type": "code",
   "execution_count": 1,
   "metadata": {},
   "outputs": [
    {
     "output_type": "stream",
     "name": "stderr",
     "text": [
      "Using TensorFlow backend.\n",
      "sklearn version = 0.22.2.post1\n",
      "numpy version = 1.19.4\n",
      "keras version = 2.3.1\n"
     ]
    }
   ],
   "source": [
    "# Module Importations\n",
    "import sklearn\n",
    "from sklearn.metrics import mean_absolute_error\n",
    "from sklearn.metrics import mean_squared_error\n",
    "from sklearn.model_selection import train_test_split\n",
    "from sklearn.model_selection import RandomizedSearchCV\n",
    "import keras\n",
    "import numpy as np\n",
    "\n",
    "# Print versioning information\n",
    "print('sklearn version =', sklearn.__version__)\n",
    "print('numpy version =', np.__version__)  \n",
    "print('keras version =', keras.__version__)"
   ]
  },
  {
   "cell_type": "code",
   "execution_count": 2,
   "metadata": {},
   "outputs": [],
   "source": [
    "# Custom Module Imports\n",
    "from Source.data import load_data\n",
    "from Source.data import split_data\n",
    "from Source.models import model_evaluation\n",
    "from Source.models import keras_helpers"
   ]
  },
  {
   "cell_type": "code",
   "execution_count": 3,
   "metadata": {},
   "outputs": [],
   "source": [
    "# Constants\n",
    "DC_Power_Range = 13000\n",
    "TRAIN_MODELS = True"
   ]
  },
  {
   "cell_type": "code",
   "execution_count": 4,
   "metadata": {},
   "outputs": [
    {
     "output_type": "stream",
     "name": "stdout",
     "text": [
      "Loading pickled dataframe started ...\nLoading pickled dataframe complete ...\n"
     ]
    }
   ],
   "source": [
    "# Load dataset\n",
    "original_dataset_df = load_data.load_pickled_data('full_data_df.pkl')"
   ]
  },
  {
   "cell_type": "code",
   "execution_count": 5,
   "metadata": {},
   "outputs": [
    {
     "output_type": "stream",
     "name": "stdout",
     "text": [
      "                 DATE_TIME  PLANT_ID       SOURCE_KEY  DC_POWER  AC_POWER  \\\n0      2020-05-15 00:00:00   4135001  1BY6WEcLGh8j5v7       0.0       0.0   \n1      2020-05-15 00:00:00   4135001  1IF53ai7Xc0U56Y       0.0       0.0   \n2      2020-05-15 00:00:00   4135001  3PZuoBAID5Wc2HD       0.0       0.0   \n3      2020-05-15 00:00:00   4135001  7JYdWkrLSPkdwr4       0.0       0.0   \n4      2020-05-15 00:00:00   4135001  McdE0feGgRqW7Ca       0.0       0.0   \n...                    ...       ...              ...       ...       ...   \n137551 2020-06-17 23:45:00   4135001  uHbuxQJl8lW7ozc       0.0       0.0   \n137552 2020-06-17 23:45:00   4135001  wCURE6d3bPkepu2       0.0       0.0   \n137553 2020-06-17 23:45:00   4135001  z9Y9gH1T5YWrNuG       0.0       0.0   \n137554 2020-06-17 23:45:00   4135001  zBIq5rxdHJRwDNY       0.0       0.0   \n137555 2020-06-17 23:45:00   4135001  zVJPv84UY57bAof       0.0       0.0   \n\n        DAILY_YIELD  TOTAL_YIELD CELL_NO  TIME_OF_DAY   AMB_TEMP   MOD_TEMP  \\\n0             0.000    6259559.0      01     0.000000  25.184316  22.857507   \n1             0.000    6183645.0      02     0.000000  25.184316  22.857507   \n2             0.000    6987759.0      03     0.000000  25.184316  22.857507   \n3             0.000    7602960.0      03     0.000000  25.184316  22.857507   \n4             0.000    7158964.0      05     0.000000  25.184316  22.857507   \n...             ...          ...     ...          ...        ...        ...   \n137551     5967.000    7287002.0      17     0.989583  23.202871  22.535908   \n137552     5147.625    7028601.0      18     0.989583  23.202871  22.535908   \n137553     5819.000    7251204.0      19     0.989583  23.202871  22.535908   \n137554     5817.000    6583369.0      20     0.989583  23.202871  22.535908   \n137555     5910.000    7363272.0      21     0.989583  23.202871  22.535908   \n\n        IRRADIATION   PLANT  \n0               0.0  plant1  \n1               0.0  plant1  \n2               0.0  plant1  \n3               0.0  plant1  \n4               0.0  plant1  \n...             ...     ...  \n137551          0.0  plant2  \n137552          0.0  plant2  \n137553          0.0  plant2  \n137554          0.0  plant2  \n137555          0.0  plant2  \n\n[137556 rows x 13 columns]\n"
     ]
    }
   ],
   "source": [
    "# Data Munging - Convert time of day to float\n",
    "\n",
    "def convert_time_to_float(time):\n",
    "    return time.hour / 24.0 + time.minute / (24.0*60.0) + time.second / (24.0*60.0*60.0) + time.microsecond / (24.0*60.0*60.0*1000000.0)\n",
    "\n",
    "original_dataset_df['TIME_OF_DAY'] = original_dataset_df.apply(lambda row: convert_time_to_float(row['DATE_TIME']), axis = 1)\n",
    "\n",
    "print(original_dataset_df)"
   ]
  },
  {
   "cell_type": "code",
   "execution_count": 6,
   "metadata": {},
   "outputs": [
    {
     "output_type": "stream",
     "name": "stdout",
     "text": [
      "                 DATE_TIME  PLANT_ID       SOURCE_KEY  DC_POWER  AC_POWER  \\\n0      2020-05-15 00:00:00   4135001  1BY6WEcLGh8j5v7       0.0       0.0   \n1      2020-05-15 00:00:00   4135001  1IF53ai7Xc0U56Y       0.0       0.0   \n2      2020-05-15 00:00:00   4135001  3PZuoBAID5Wc2HD       0.0       0.0   \n3      2020-05-15 00:00:00   4135001  7JYdWkrLSPkdwr4       0.0       0.0   \n4      2020-05-15 00:00:00   4135001  McdE0feGgRqW7Ca       0.0       0.0   \n...                    ...       ...              ...       ...       ...   \n137551 2020-06-17 23:45:00   4135001  uHbuxQJl8lW7ozc       0.0       0.0   \n137552 2020-06-17 23:45:00   4135001  wCURE6d3bPkepu2       0.0       0.0   \n137553 2020-06-17 23:45:00   4135001  z9Y9gH1T5YWrNuG       0.0       0.0   \n137554 2020-06-17 23:45:00   4135001  zBIq5rxdHJRwDNY       0.0       0.0   \n137555 2020-06-17 23:45:00   4135001  zVJPv84UY57bAof       0.0       0.0   \n\n        DAILY_YIELD  TOTAL_YIELD CELL_NO  TIME_OF_DAY   AMB_TEMP   MOD_TEMP  \\\n0             0.000    6259559.0      01     0.000000  25.184316  22.857507   \n1             0.000    6183645.0      02     0.000000  25.184316  22.857507   \n2             0.000    6987759.0      03     0.000000  25.184316  22.857507   \n3             0.000    7602960.0      03     0.000000  25.184316  22.857507   \n4             0.000    7158964.0      05     0.000000  25.184316  22.857507   \n...             ...          ...     ...          ...        ...        ...   \n137551     5967.000    7287002.0      17     0.989583  23.202871  22.535908   \n137552     5147.625    7028601.0      18     0.989583  23.202871  22.535908   \n137553     5819.000    7251204.0      19     0.989583  23.202871  22.535908   \n137554     5817.000    6583369.0      20     0.989583  23.202871  22.535908   \n137555     5910.000    7363272.0      21     0.989583  23.202871  22.535908   \n\n        IRRADIATION  PLANT  \n0               0.0      1  \n1               0.0      1  \n2               0.0      1  \n3               0.0      1  \n4               0.0      1  \n...             ...    ...  \n137551          0.0      2  \n137552          0.0      2  \n137553          0.0      2  \n137554          0.0      2  \n137555          0.0      2  \n\n[137556 rows x 13 columns]\n"
     ]
    }
   ],
   "source": [
    "# Data Munging - Convert plant to int\n",
    "\n",
    "def convert_plant_to_int(plant):\n",
    "    \n",
    "    if plant == \"plant1\":\n",
    "        return 1\n",
    "    else:\n",
    "        return 2    \n",
    "\n",
    "original_dataset_df['PLANT'] = original_dataset_df.apply(lambda row: convert_plant_to_int(row['PLANT']), axis = 1)\n",
    "\n",
    "print(original_dataset_df)"
   ]
  },
  {
   "cell_type": "code",
   "execution_count": 7,
   "metadata": {},
   "outputs": [
    {
     "output_type": "stream",
     "name": "stdout",
     "text": [
      "Original Data Items: 137556\nTraining Data Items: 110045\nEvaluation Data Items: 27511\n"
     ]
    }
   ],
   "source": [
    "# Split into training / evaluation sets\n",
    "training_set, evaluation_set = split_data.split_train_eval(original_dataset_df, 0.2)"
   ]
  },
  {
   "cell_type": "code",
   "execution_count": 8,
   "metadata": {},
   "outputs": [
    {
     "output_type": "stream",
     "name": "stdout",
     "text": [
      "           DC_POWER CELL_NO  TIME_OF_DAY   AMB_TEMP   MOD_TEMP  IRRADIATION  \\\n23464      0.000000      05     0.041667  23.478941  22.007802     0.000000   \n82416      0.000000      12     0.229167  23.216699  21.191993     0.000000   \n131200     0.000000      03     0.968750  24.652915  23.913763     0.000000   \n120917     0.000000      15     0.093750  24.696277  23.876865     0.000000   \n98459   3486.857143      17     0.364583  25.788373  28.674120     0.215449   \n\n        PLANT  \n23464       1  \n82416       2  \n131200      2  \n120917      2  \n98459       2  \n"
     ]
    }
   ],
   "source": [
    "# Drop unrequired data columns\n",
    "\n",
    "# Identify columns to drop \n",
    "columns_to_drop = ['DATE_TIME', 'PLANT_ID', 'SOURCE_KEY', 'AC_POWER', 'DAILY_YIELD', 'TOTAL_YIELD']\n",
    "\n",
    "training_set = training_set.drop(columns_to_drop, axis = 1)\n",
    "evaluation_set = evaluation_set.drop(columns_to_drop, axis = 1)\n",
    "\n",
    "print(evaluation_set.head(5))"
   ]
  },
  {
   "cell_type": "code",
   "execution_count": 9,
   "metadata": {},
   "outputs": [],
   "source": [
    "# Create DC Power Target datasets\n",
    "\n",
    "# Modify training set\n",
    "dc_power_training_data = training_set.drop('DC_POWER', axis = 1)\n",
    "dc_label_data = training_set['DC_POWER'].copy()\n",
    "\n",
    "# Modify evaluation set\n",
    "dc_evaluation_data = evaluation_set.drop('DC_POWER', axis = 1)\n",
    "dc_eval_label_data = evaluation_set['DC_POWER'].copy()"
   ]
  },
  {
   "cell_type": "code",
   "execution_count": 10,
   "metadata": {},
   "outputs": [],
   "source": [
    "# Create train and test arrays\n",
    "X_train, X_test, y_train, y_test = train_test_split(dc_power_training_data, dc_label_data, test_size = 0.2, random_state = 0)"
   ]
  },
  {
   "cell_type": "code",
   "execution_count": 11,
   "metadata": {},
   "outputs": [
    {
     "output_type": "stream",
     "name": "stdout",
     "text": [
      "Building Model ...\n",
      "Hidden Layers: 2, Neurons: 6, LR: 0.001\n",
      "Train on 88036 samples, validate on 22009 samples\n",
      "Epoch 1/100\n",
      "88036/88036 [==============================] - 5s 53us/step - loss: 18491310.0159 - val_loss: 11308817.3979\n",
      "Epoch 2/100\n",
      "88036/88036 [==============================] - 5s 52us/step - loss: 10199480.2153 - val_loss: 8872179.6068\n",
      "Epoch 3/100\n",
      "88036/88036 [==============================] - 4s 46us/step - loss: 7227344.8212 - val_loss: 5377959.8805\n",
      "Epoch 4/100\n",
      "88036/88036 [==============================] - 4s 51us/step - loss: 3916240.0000 - val_loss: 2858813.6722\n",
      "Epoch 5/100\n",
      "88036/88036 [==============================] - 4s 51us/step - loss: 2407878.0971 - val_loss: 2152587.6903\n",
      "Epoch 6/100\n",
      "88036/88036 [==============================] - 4s 47us/step - loss: 2112115.4192 - val_loss: 2033279.7453\n",
      "Epoch 7/100\n",
      "88036/88036 [==============================] - 4s 48us/step - loss: 2015476.8339 - val_loss: 1955904.2043\n",
      "Epoch 8/100\n",
      "88036/88036 [==============================] - 4s 47us/step - loss: 1956633.0007 - val_loss: 1910177.7869\n",
      "Epoch 9/100\n",
      "88036/88036 [==============================] - 5s 60us/step - loss: 1922268.8251 - val_loss: 1882425.5076\n",
      "Epoch 10/100\n",
      "88036/88036 [==============================] - 4s 48us/step - loss: 1897869.7704 - val_loss: 1862666.2597\n",
      "Epoch 11/100\n",
      "88036/88036 [==============================] - 4s 47us/step - loss: 1879044.6377 - val_loss: 1846729.8570\n",
      "Epoch 12/100\n",
      "88036/88036 [==============================] - 4s 50us/step - loss: 1864820.1928 - val_loss: 1833930.4330\n",
      "Epoch 13/100\n",
      "88036/88036 [==============================] - 4s 50us/step - loss: 1851930.3638 - val_loss: 1823135.4740\n",
      "Epoch 14/100\n",
      "88036/88036 [==============================] - 5s 54us/step - loss: 1841878.5386 - val_loss: 1810850.4658\n",
      "Epoch 15/100\n",
      "88036/88036 [==============================] - 5s 53us/step - loss: 1832426.6736 - val_loss: 1801130.1086\n",
      "Epoch 16/100\n",
      "88036/88036 [==============================] - 4s 50us/step - loss: 1823478.1604 - val_loss: 1793217.6510\n",
      "Epoch 17/100\n",
      "88036/88036 [==============================] - 4s 51us/step - loss: 1815223.4750 - val_loss: 1784678.9784\n",
      "Epoch 18/100\n",
      "88036/88036 [==============================] - 4s 51us/step - loss: 1807236.2932 - val_loss: 1780891.4113\n",
      "Epoch 19/100\n",
      "88036/88036 [==============================] - 4s 51us/step - loss: 1800913.8606 - val_loss: 1771512.4748\n",
      "Epoch 20/100\n",
      "88036/88036 [==============================] - 4s 50us/step - loss: 1795003.4408 - val_loss: 1765060.7473\n",
      "Epoch 21/100\n",
      "88036/88036 [==============================] - 4s 49us/step - loss: 1789113.3122 - val_loss: 1761106.2476\n",
      "Epoch 22/100\n",
      "88036/88036 [==============================] - 5s 57us/step - loss: 1783838.9270 - val_loss: 1754261.3866\n",
      "Epoch 23/100\n",
      "88036/88036 [==============================] - 4s 48us/step - loss: 1778223.5569 - val_loss: 1749535.7674\n",
      "Epoch 24/100\n",
      "88036/88036 [==============================] - 5s 51us/step - loss: 1773463.5668 - val_loss: 1746253.8700\n",
      "Epoch 25/100\n",
      "88036/88036 [==============================] - 4s 49us/step - loss: 1769438.5056 - val_loss: 1742645.2940\n",
      "Epoch 26/100\n",
      "88036/88036 [==============================] - 4s 50us/step - loss: 1765521.3975 - val_loss: 1739215.4805\n",
      "Epoch 27/100\n",
      "88036/88036 [==============================] - 5s 54us/step - loss: 1761176.6136 - val_loss: 1731757.5928\n",
      "Epoch 28/100\n",
      "88036/88036 [==============================] - 4s 49us/step - loss: 1757360.7333 - val_loss: 1729154.1147\n",
      "Epoch 29/100\n",
      "88036/88036 [==============================] - 5s 52us/step - loss: 1753368.6776 - val_loss: 1724384.2804\n",
      "Epoch 30/100\n",
      "88036/88036 [==============================] - 4s 45us/step - loss: 1750180.1971 - val_loss: 1721800.0085\n",
      "Epoch 31/100\n",
      "88036/88036 [==============================] - 4s 47us/step - loss: 1746547.3971 - val_loss: 1722136.4976\n",
      "Epoch 32/100\n",
      "88036/88036 [==============================] - 5s 52us/step - loss: 1743051.6449 - val_loss: 1712482.0657\n",
      "Epoch 33/100\n",
      "88036/88036 [==============================] - 4s 47us/step - loss: 1738846.3462 - val_loss: 1709711.6152\n",
      "Epoch 34/100\n",
      "88036/88036 [==============================] - 4s 49us/step - loss: 1735779.8854 - val_loss: 1706538.8545\n",
      "Epoch 35/100\n",
      "88036/88036 [==============================] - 4s 48us/step - loss: 1732240.9305 - val_loss: 1706895.7929\n",
      "Epoch 36/100\n",
      "88036/88036 [==============================] - 5s 59us/step - loss: 1729479.1101 - val_loss: 1700299.4336\n",
      "Epoch 37/100\n",
      "88036/88036 [==============================] - 4s 47us/step - loss: 1726127.4859 - val_loss: 1696001.7804\n",
      "Epoch 38/100\n",
      "88036/88036 [==============================] - 4s 43us/step - loss: 1722962.8157 - val_loss: 1693369.3899\n",
      "Epoch 39/100\n",
      "88036/88036 [==============================] - 4s 46us/step - loss: 1719814.2182 - val_loss: 1696318.8258\n",
      "Epoch 40/100\n",
      "88036/88036 [==============================] - 4s 45us/step - loss: 1716654.1802 - val_loss: 1688150.0939\n",
      "Epoch 41/100\n",
      "88036/88036 [==============================] - 4s 48us/step - loss: 1713505.4746 - val_loss: 1684187.0158\n",
      "Epoch 42/100\n",
      "88036/88036 [==============================] - 4s 46us/step - loss: 1710815.1968 - val_loss: 1678886.3158\n",
      "Epoch 43/100\n",
      "88036/88036 [==============================] - 4s 47us/step - loss: 1707176.4493 - val_loss: 1675936.0083\n",
      "Epoch 44/100\n",
      "88036/88036 [==============================] - 4s 49us/step - loss: 1703622.9182 - val_loss: 1675606.0127\n",
      "Epoch 45/100\n",
      "88036/88036 [==============================] - 4s 48us/step - loss: 1700568.2388 - val_loss: 1672299.8514\n",
      "Epoch 46/100\n",
      "88036/88036 [==============================] - 4s 46us/step - loss: 1696978.8627 - val_loss: 1664246.7475\n",
      "Epoch 47/100\n",
      "88036/88036 [==============================] - 4s 44us/step - loss: 1693065.8989 - val_loss: 1662564.8708\n",
      "Epoch 48/100\n",
      "88036/88036 [==============================] - 4s 44us/step - loss: 1689792.9192 - val_loss: 1658041.3627\n",
      "Epoch 49/100\n",
      "88036/88036 [==============================] - 5s 59us/step - loss: 1686629.2083 - val_loss: 1654841.4716\n",
      "Epoch 50/100\n",
      "88036/88036 [==============================] - 4s 45us/step - loss: 1682821.3222 - val_loss: 1650003.8233\n",
      "Epoch 51/100\n",
      "88036/88036 [==============================] - 4s 46us/step - loss: 1679487.9397 - val_loss: 1645652.4664\n",
      "Epoch 52/100\n",
      "88036/88036 [==============================] - 4s 47us/step - loss: 1675412.8990 - val_loss: 1643629.1640\n",
      "Epoch 53/100\n",
      "88036/88036 [==============================] - 4s 47us/step - loss: 1671921.2826 - val_loss: 1638314.5434\n",
      "Epoch 54/100\n",
      "88036/88036 [==============================] - 4s 45us/step - loss: 1668298.7381 - val_loss: 1634525.9732\n",
      "Epoch 55/100\n",
      "88036/88036 [==============================] - 4s 46us/step - loss: 1663633.1306 - val_loss: 1631769.4635\n",
      "Epoch 56/100\n",
      "88036/88036 [==============================] - 4s 48us/step - loss: 1660683.0743 - val_loss: 1626173.4571\n",
      "Epoch 57/100\n",
      "88036/88036 [==============================] - 4s 46us/step - loss: 1657339.7925 - val_loss: 1625333.8427\n",
      "Epoch 58/100\n",
      "88036/88036 [==============================] - 4s 41us/step - loss: 1653092.3100 - val_loss: 1620448.4738\n",
      "Epoch 59/100\n",
      "88036/88036 [==============================] - 4s 46us/step - loss: 1649583.3583 - val_loss: 1616376.9998\n",
      "Epoch 60/100\n",
      "88036/88036 [==============================] - 4s 48us/step - loss: 1646087.3229 - val_loss: 1610868.9496\n",
      "Epoch 61/100\n",
      "88036/88036 [==============================] - 4s 43us/step - loss: 1642173.2819 - val_loss: 1606861.3665\n",
      "Epoch 62/100\n",
      "88036/88036 [==============================] - 4s 46us/step - loss: 1638851.9353 - val_loss: 1604363.4592\n",
      "Epoch 63/100\n",
      "88036/88036 [==============================] - 4s 51us/step - loss: 1634815.1385 - val_loss: 1600387.6358\n",
      "Epoch 64/100\n",
      "88036/88036 [==============================] - 5s 55us/step - loss: 1631971.5187 - val_loss: 1596589.0852\n",
      "Epoch 65/100\n",
      "88036/88036 [==============================] - 4s 43us/step - loss: 1628526.2612 - val_loss: 1593296.2289\n",
      "Epoch 66/100\n",
      "88036/88036 [==============================] - 3s 39us/step - loss: 1625030.5444 - val_loss: 1591585.4502\n",
      "Epoch 67/100\n",
      "88036/88036 [==============================] - 3s 38us/step - loss: 1622264.5870 - val_loss: 1592186.1083\n",
      "Epoch 68/100\n",
      "88036/88036 [==============================] - 4s 41us/step - loss: 1619785.1015 - val_loss: 1586558.5300\n",
      "Epoch 69/100\n",
      "88036/88036 [==============================] - 4s 44us/step - loss: 1616229.2486 - val_loss: 1580367.5874\n",
      "Epoch 70/100\n",
      "88036/88036 [==============================] - 4s 46us/step - loss: 1613654.4068 - val_loss: 1577577.2931\n",
      "Epoch 71/100\n",
      "88036/88036 [==============================] - 4s 44us/step - loss: 1610061.2205 - val_loss: 1589913.5685\n",
      "Epoch 72/100\n",
      "88036/88036 [==============================] - 4s 47us/step - loss: 1607871.7295 - val_loss: 1571360.0468\n",
      "Epoch 73/100\n",
      "88036/88036 [==============================] - 4s 44us/step - loss: 1604186.9373 - val_loss: 1568651.9105\n",
      "Epoch 74/100\n",
      "88036/88036 [==============================] - 4s 49us/step - loss: 1601682.8478 - val_loss: 1565717.7121\n",
      "Epoch 75/100\n",
      "88036/88036 [==============================] - 4s 51us/step - loss: 1598205.3070 - val_loss: 1563320.9341\n",
      "Epoch 76/100\n",
      "88036/88036 [==============================] - 4s 41us/step - loss: 1595863.2545 - val_loss: 1562287.5989\n",
      "Epoch 77/100\n",
      "88036/88036 [==============================] - 4s 42us/step - loss: 1593075.4625 - val_loss: 1560846.9308\n",
      "Epoch 78/100\n",
      "88036/88036 [==============================] - 4s 41us/step - loss: 1590484.8365 - val_loss: 1557245.9650\n",
      "Epoch 79/100\n",
      "88036/88036 [==============================] - 5s 59us/step - loss: 1587667.6242 - val_loss: 1552752.6298\n",
      "Epoch 80/100\n",
      "88036/88036 [==============================] - 4s 51us/step - loss: 1585547.0721 - val_loss: 1552617.2621\n",
      "Epoch 81/100\n",
      "88036/88036 [==============================] - 5s 55us/step - loss: 1582902.7466 - val_loss: 1549576.4773\n",
      "Epoch 82/100\n",
      "88036/88036 [==============================] - 4s 47us/step - loss: 1580973.2717 - val_loss: 1545449.8245\n",
      "Epoch 83/100\n",
      "88036/88036 [==============================] - 4s 48us/step - loss: 1578538.0073 - val_loss: 1543766.6359\n",
      "Epoch 84/100\n",
      "88036/88036 [==============================] - 4s 45us/step - loss: 1576049.4334 - val_loss: 1540739.7792\n",
      "Epoch 85/100\n",
      "88036/88036 [==============================] - 4s 44us/step - loss: 1573718.6104 - val_loss: 1541920.5042\n",
      "Epoch 86/100\n",
      "88036/88036 [==============================] - 4s 46us/step - loss: 1571688.8152 - val_loss: 1537526.1364\n",
      "Epoch 87/100\n",
      "88036/88036 [==============================] - 4s 45us/step - loss: 1569985.5940 - val_loss: 1535149.0924\n",
      "Epoch 88/100\n",
      "88036/88036 [==============================] - 4s 44us/step - loss: 1567965.7916 - val_loss: 1532939.1542\n",
      "Epoch 89/100\n",
      "88036/88036 [==============================] - 4s 46us/step - loss: 1566042.3415 - val_loss: 1531610.9092\n",
      "Epoch 90/100\n",
      "88036/88036 [==============================] - 4s 45us/step - loss: 1563975.1539 - val_loss: 1529584.1575\n",
      "Epoch 91/100\n",
      "88036/88036 [==============================] - 4s 46us/step - loss: 1561732.0355 - val_loss: 1528020.8506\n",
      "Epoch 92/100\n",
      "88036/88036 [==============================] - 4s 49us/step - loss: 1560015.9604 - val_loss: 1529610.9335\n",
      "Epoch 93/100\n",
      "88036/88036 [==============================] - 5s 54us/step - loss: 1558152.8317 - val_loss: 1524685.5672\n",
      "Epoch 94/100\n",
      "88036/88036 [==============================] - 4s 44us/step - loss: 1556375.2264 - val_loss: 1521194.2617\n",
      "Epoch 95/100\n",
      "88036/88036 [==============================] - 4s 44us/step - loss: 1554024.6481 - val_loss: 1519399.8163\n",
      "Epoch 96/100\n",
      "88036/88036 [==============================] - 4s 44us/step - loss: 1552143.5580 - val_loss: 1518819.1593\n",
      "Epoch 97/100\n",
      "88036/88036 [==============================] - 4s 45us/step - loss: 1550303.8968 - val_loss: 1516221.8668\n",
      "Epoch 98/100\n",
      "88036/88036 [==============================] - 4s 48us/step - loss: 1548170.5362 - val_loss: 1518899.8565\n",
      "Epoch 99/100\n",
      "88036/88036 [==============================] - 7s 80us/step - loss: 1546072.6620 - val_loss: 1513445.5431\n",
      "Epoch 100/100\n",
      "88036/88036 [==============================] - 6s 69us/step - loss: 1543846.1853 - val_loss: 1511164.4971\n"
     ]
    }
   ],
   "source": [
    "# Initial MLP (Target - DC Power)\n",
    "\n",
    "if TRAIN_MODELS == True:\n",
    "    # Clear existing models\n",
    "    keras.backend.clear_session()\n",
    "\n",
    "    # Build model\n",
    "    model = keras_helpers.build_multilayer_perceptron()\n",
    "\n",
    "    # Name model\n",
    "    model_type = \"MLP_DC\"\n",
    "    model_id = keras_helpers.name_model(model_type)\n",
    "    filepath_full = keras_helpers.make_save_string(model_id)\n",
    "\n",
    "    # Set save and earlystop callbacks\n",
    "    earlystop_cb = keras.callbacks.EarlyStopping(patience = 5)\n",
    "    checkpoint_cb = keras.callbacks.ModelCheckpoint(filepath = filepath_full, save_best_only = True)\n",
    "\n",
    "    # Train model\n",
    "    model.fit(X_train, y_train, epochs = 100, validation_data =(X_test, y_test), callbacks =[checkpoint_cb, earlystop_cb])"
   ]
  },
  {
   "cell_type": "code",
   "execution_count": 12,
   "metadata": {},
   "outputs": [
    {
     "output_type": "stream",
     "name": "stdout",
     "text": [
      "MLP_DC rmse (Eval): 1215.4424274903483\nMLP_DC mae (Eval): 607.0138938848193\nMLP_DC r2 (Eval): 0.909469918914368\nMLP_DC % Acc: 90.65044286545886\n"
     ]
    }
   ],
   "source": [
    "# Evaluate MLP Model\n",
    "\n",
    "if TRAIN_MODELS == False:\n",
    "    filepath_full = r'C:\\Developer\\solar-power-generation-project\\Models\\WJ_MLP_DC_2021_01_07-14_48_03.h5'\n",
    "\n",
    "# Load model\n",
    "model = keras.models.load_model(filepath_full)\n",
    "\n",
    "# Make predictions\n",
    "dc_pred_eval = model.predict(dc_evaluation_data)\n",
    "\n",
    "# Determine model prediction stats\n",
    "model_name = \"MLP_DC\"\n",
    "model_evaluation.evaluate_model(model_name, dc_eval_label_data, dc_pred_eval)\n",
    "\n",
    "# Calculate indicative accuracy\n",
    "rmse, mae, r2 = model_evaluation.return_model_evaluation_stats(dc_eval_label_data, dc_pred_eval)\n",
    "\n",
    "print(model_name, \"% Acc:\", ((1-(rmse/DC_Power_Range))*100))"
   ]
  },
  {
   "cell_type": "code",
   "execution_count": 13,
   "metadata": {},
   "outputs": [],
   "source": [
    "# Optimised MLP (Target - DC Power)\n",
    "\n",
    "if TRAIN_MODELS == True:\n",
    "    # Clear existing models\n",
    "    keras.backend.clear_session()\n",
    "\n",
    "    # Establish parameter distribution for tuning\n",
    "    param_distribs = {\n",
    "        \"n_hidden\":[1, 4, 8],\n",
    "        \"n_neurons\": np.arange(1, 100),\n",
    "        \"learning_rate\": [1e-1, 1e-2, 1e-3, 1e-4],\n",
    "    }\n",
    "\n",
    "    # Build model\n",
    "    wrapped_model = keras_helpers.wrap_model()\n",
    "\n",
    "    # Initialise random search\n",
    "    rnd_search_cv = RandomizedSearchCV(wrapped_model, param_distribs, n_iter = 10, cv = 3)\n",
    "\n",
    "    # Name model\n",
    "    model_type = \"MLP_Opt_DC\"\n",
    "    model_id = keras_helpers.name_model(model_type)\n",
    "    filepath_full = keras_helpers.make_save_string(model_id)\n",
    "\n",
    "    # Set save and earlystop callbacks\n",
    "    earlystop_cb = keras.callbacks.EarlyStopping(patience = 3)\n",
    "    checkpoint_cb = keras.callbacks.ModelCheckpoint(filepath = filepath_full, save_best_only = True)\n",
    "\n",
    "    # Train model\n",
    "    rnd_search_cv.fit(X_train, y_train, epochs = 1000, validation_data =(X_test, y_test), callbacks = [checkpoint_cb, earlystop_cb])"
   ]
  },
  {
   "cell_type": "code",
   "execution_count": 14,
   "metadata": {},
   "outputs": [
    {
     "output_type": "stream",
     "name": "stdout",
     "text": [
      "MLP_Opt_DC rmse (Eval): 1269.2830495465528\nMLP_Opt_DC mae (Eval): 687.3097760015734\nMLP_Opt_DC r2 (Eval): 0.9012718303274017\nMLP_Opt_DC % Acc: 90.2362842342573\n"
     ]
    }
   ],
   "source": [
    "# Evaluate MLP Model\n",
    "\n",
    "if TRAIN_MODELS == False:\n",
    "    filepath_full = r'C:\\Developer\\solar-power-generation-project\\Models\\WJ_MLP_Opt_DC_2021_01_07-14_53_35.h5'\n",
    "\n",
    "wrapped_model = keras.models.load_model(filepath_full)\n",
    "\n",
    "# Make predictions\n",
    "dc_pred_eval = wrapped_model.predict(dc_evaluation_data)\n",
    "\n",
    "model_name = \"MLP_Opt_DC\"\n",
    "model_evaluation.evaluate_model(model_name, dc_eval_label_data, dc_pred_eval)\n",
    "\n",
    "# Calculate indicative accuracy\n",
    "rmse, mae, r2 = model_evaluation.return_model_evaluation_stats(dc_eval_label_data, dc_pred_eval)\n",
    "\n",
    "print(model_name, \"% Acc:\", ((1-(rmse/DC_Power_Range))*100))"
   ]
  }
 ]
}