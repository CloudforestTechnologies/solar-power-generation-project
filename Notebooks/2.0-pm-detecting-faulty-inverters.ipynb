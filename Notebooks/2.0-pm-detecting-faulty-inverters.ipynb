{
 "metadata": {
  "language_info": {
   "codemirror_mode": {
    "name": "ipython",
    "version": 3
   },
   "file_extension": ".py",
   "mimetype": "text/x-python",
   "name": "python",
   "nbconvert_exporter": "python",
   "pygments_lexer": "ipython3",
   "version": "3.6.6"
  },
  "orig_nbformat": 2,
  "kernelspec": {
   "name": "python366jvsc74a57bd03f92393cf9312ed24f4ccae2fdf5dee1635074d2034ccfaec2d070f8b1ae4f04",
   "display_name": "Python 3.6.6 64-bit"
  }
 },
 "nbformat": 4,
 "nbformat_minor": 2,
 "cells": [
  {
   "cell_type": "code",
   "execution_count": 1,
   "metadata": {},
   "outputs": [
    {
     "output_type": "stream",
     "name": "stdout",
     "text": [
      "seaborn version = 0.10.0\nnumpy version = 1.19.4\npandas version = 1.1.4\n"
     ]
    }
   ],
   "source": [
    "# Module Importations\n",
    "from collections import Counter\n",
    "import datetime\n",
    "from matplotlib import pyplot as plt\n",
    "import numpy as np\n",
    "import pandas as pd \n",
    "import seaborn as sns\n",
    "\n",
    "# Print versioning information\n",
    "print('seaborn version =', sns.__version__)\n",
    "print('numpy version =', np.__version__)  \n",
    "print('pandas version =', pd.__version__)"
   ]
  },
  {
   "cell_type": "code",
   "execution_count": 2,
   "metadata": {},
   "outputs": [],
   "source": [
    "# Custom Modules\n",
    "from Source.data import load_data\n",
    "from Source.features import data_munging\n",
    "from Source.visualisation import figures_helper"
   ]
  },
  {
   "cell_type": "code",
   "execution_count": 3,
   "metadata": {},
   "outputs": [],
   "source": [
    "# Constants\n",
    "SAVE_FIGURES = True"
   ]
  },
  {
   "cell_type": "code",
   "execution_count": 4,
   "metadata": {},
   "outputs": [
    {
     "output_type": "stream",
     "name": "stdout",
     "text": [
      "Loading pickled dataframe started ...\n",
      "Loading pickled dataframe complete ...\n",
      "Loading pickled dataframe started ...\n",
      "Loading pickled dataframe complete ...\n"
     ]
    }
   ],
   "source": [
    "# Load Dataset\n",
    "df_plant1 = load_data.load_pickled_data(\"df_plant1_feat_eng.pkl\")\n",
    "df_plant2 = load_data.load_pickled_data(\"df_plant2_feat_eng.pkl\")"
   ]
  },
  {
   "source": [
    "# Identify Suspect Faulty Panels\n",
    "\n",
    "An assumption is that panels will have zero output if they are in a fault condition (as opposed to a lower output). This assumption is supported by a working principle of inverters that they will stop producing an output if the input voltage from the connected solar panel falls too low (so partial outputs are unlikely).\n",
    "\n",
    "Panels with larger numbers of zero-output instances may be faulty.\n",
    "\n",
    "This can be visualised with a cut-off region."
   ],
   "cell_type": "markdown",
   "metadata": {}
  },
  {
   "cell_type": "code",
   "execution_count": 10,
   "metadata": {},
   "outputs": [
    {
     "output_type": "execute_result",
     "data": {
      "text/plain": [
       "         SOURCE_KEY  ZERO_OUTPUTS\n",
       "0   1BY6WEcLGh8j5v7          1560\n",
       "1   1IF53ai7Xc0U56Y          1538\n",
       "2   3PZuoBAID5Wc2HD          1540\n",
       "3   7JYdWkrLSPkdwr4          1540\n",
       "4   McdE0feGgRqW7Ca          1540\n",
       "5   VHMLBKoKgIrUVDU          1541\n",
       "6   WRmjgnKYAwPKWDb          1540\n",
       "7   YxYtjZvoooNbGkE          1537\n",
       "8   ZnxXDlPa8U1GXgE          1540\n",
       "9   ZoEaEvLYb1n2sOq          1538\n",
       "10  adLQvlD726eNBSB          1534\n",
       "11  bvBOhCH3iADSZry          1563\n",
       "12  iCRJl6heRkivqQ3          1540\n",
       "13  ih0vzX44oOqAx2f          1538\n",
       "14  pkci93gMrogZuBj          1538\n",
       "15  rGa61gmuvPhdLxV          1537\n",
       "16  sjndEbLyjtCKgGv          1542\n",
       "17  uHbuxQJl8lW7ozc          1539\n",
       "18  wCURE6d3bPkepu2          1542\n",
       "19  z9Y9gH1T5YWrNuG          1546\n",
       "20  zBIq5rxdHJRwDNY          1542\n",
       "21  zVJPv84UY57bAof          1540"
      ],
      "text/html": "<div>\n<style scoped>\n    .dataframe tbody tr th:only-of-type {\n        vertical-align: middle;\n    }\n\n    .dataframe tbody tr th {\n        vertical-align: top;\n    }\n\n    .dataframe thead th {\n        text-align: right;\n    }\n</style>\n<table border=\"1\" class=\"dataframe\">\n  <thead>\n    <tr style=\"text-align: right;\">\n      <th></th>\n      <th>SOURCE_KEY</th>\n      <th>ZERO_OUTPUTS</th>\n    </tr>\n  </thead>\n  <tbody>\n    <tr>\n      <th>0</th>\n      <td>1BY6WEcLGh8j5v7</td>\n      <td>1560</td>\n    </tr>\n    <tr>\n      <th>1</th>\n      <td>1IF53ai7Xc0U56Y</td>\n      <td>1538</td>\n    </tr>\n    <tr>\n      <th>2</th>\n      <td>3PZuoBAID5Wc2HD</td>\n      <td>1540</td>\n    </tr>\n    <tr>\n      <th>3</th>\n      <td>7JYdWkrLSPkdwr4</td>\n      <td>1540</td>\n    </tr>\n    <tr>\n      <th>4</th>\n      <td>McdE0feGgRqW7Ca</td>\n      <td>1540</td>\n    </tr>\n    <tr>\n      <th>5</th>\n      <td>VHMLBKoKgIrUVDU</td>\n      <td>1541</td>\n    </tr>\n    <tr>\n      <th>6</th>\n      <td>WRmjgnKYAwPKWDb</td>\n      <td>1540</td>\n    </tr>\n    <tr>\n      <th>7</th>\n      <td>YxYtjZvoooNbGkE</td>\n      <td>1537</td>\n    </tr>\n    <tr>\n      <th>8</th>\n      <td>ZnxXDlPa8U1GXgE</td>\n      <td>1540</td>\n    </tr>\n    <tr>\n      <th>9</th>\n      <td>ZoEaEvLYb1n2sOq</td>\n      <td>1538</td>\n    </tr>\n    <tr>\n      <th>10</th>\n      <td>adLQvlD726eNBSB</td>\n      <td>1534</td>\n    </tr>\n    <tr>\n      <th>11</th>\n      <td>bvBOhCH3iADSZry</td>\n      <td>1563</td>\n    </tr>\n    <tr>\n      <th>12</th>\n      <td>iCRJl6heRkivqQ3</td>\n      <td>1540</td>\n    </tr>\n    <tr>\n      <th>13</th>\n      <td>ih0vzX44oOqAx2f</td>\n      <td>1538</td>\n    </tr>\n    <tr>\n      <th>14</th>\n      <td>pkci93gMrogZuBj</td>\n      <td>1538</td>\n    </tr>\n    <tr>\n      <th>15</th>\n      <td>rGa61gmuvPhdLxV</td>\n      <td>1537</td>\n    </tr>\n    <tr>\n      <th>16</th>\n      <td>sjndEbLyjtCKgGv</td>\n      <td>1542</td>\n    </tr>\n    <tr>\n      <th>17</th>\n      <td>uHbuxQJl8lW7ozc</td>\n      <td>1539</td>\n    </tr>\n    <tr>\n      <th>18</th>\n      <td>wCURE6d3bPkepu2</td>\n      <td>1542</td>\n    </tr>\n    <tr>\n      <th>19</th>\n      <td>z9Y9gH1T5YWrNuG</td>\n      <td>1546</td>\n    </tr>\n    <tr>\n      <th>20</th>\n      <td>zBIq5rxdHJRwDNY</td>\n      <td>1542</td>\n    </tr>\n    <tr>\n      <th>21</th>\n      <td>zVJPv84UY57bAof</td>\n      <td>1540</td>\n    </tr>\n  </tbody>\n</table>\n</div>"
     },
     "metadata": {},
     "execution_count": 10
    }
   ],
   "source": [
    "\n",
    "# Count number of zero instances per cell\n",
    "zero_outputs = df_plant1[df_plant1['DC_POWER'] == 0].groupby('SOURCE_KEY')['DATE_TIME'].count().reset_index().rename(columns = {'DATE_TIME' : 'ZERO_OUTPUTS'})\n",
    "zero_outputs.sort_values('ZERO_OUTPUTS', ascending = False)\n",
    "\n",
    "# Create a grouping of da"
   ]
  },
  {
   "cell_type": "code",
   "execution_count": null,
   "metadata": {},
   "outputs": [],
   "source": []
  }
 ]
}