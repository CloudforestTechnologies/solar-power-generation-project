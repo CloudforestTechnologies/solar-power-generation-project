{
 "metadata": {
  "language_info": {
   "codemirror_mode": {
    "name": "ipython",
    "version": 3
   },
   "file_extension": ".py",
   "mimetype": "text/x-python",
   "name": "python",
   "nbconvert_exporter": "python",
   "pygments_lexer": "ipython3",
   "version": "3.6.6-final"
  },
  "orig_nbformat": 2,
  "kernelspec": {
   "name": "Python 3.6.6 64-bit",
   "display_name": "Python 3.6.6 64-bit",
   "metadata": {
    "interpreter": {
     "hash": "3f92393cf9312ed24f4ccae2fdf5dee1635074d2034ccfaec2d070f8b1ae4f04"
    }
   }
  }
 },
 "nbformat": 4,
 "nbformat_minor": 2,
 "cells": [
  {
   "cell_type": "code",
   "execution_count": 1,
   "metadata": {},
   "outputs": [],
   "source": [
    "# Module Importations\n"
   ]
  },
  {
   "cell_type": "code",
   "execution_count": 1,
   "metadata": {},
   "outputs": [],
   "source": [
    "# Custom Module Importations\n",
    "from Source.data import load_data"
   ]
  },
  {
   "cell_type": "code",
   "execution_count": 3,
   "metadata": {},
   "outputs": [],
   "source": [
    "# Constants"
   ]
  },
  {
   "cell_type": "code",
   "execution_count": 7,
   "metadata": {},
   "outputs": [],
   "source": [
    "# Load datasets\n",
    "df_plant1_gen = load_data.load_data('Plant_1_Generation_Data.csv')\n",
    "df_plant1_weather = load_data.load_data('Plant_1_Weather_Sensor_Data.csv')"
   ]
  },
  {
   "cell_type": "code",
   "execution_count": 3,
   "metadata": {},
   "outputs": [
    {
     "output_type": "stream",
     "name": "stdout",
     "text": [
      "               count          mean            std        min           25%  \\\nPLANT_ID     68778.0  4.135001e+06       0.000000  4135001.0  4.135001e+06   \nDC_POWER     68778.0  3.147426e+03    4036.457169        0.0  0.000000e+00   \nAC_POWER     68778.0  3.078028e+02     394.396439        0.0  0.000000e+00   \nDAILY_YIELD  68778.0  3.295969e+03    3145.178309        0.0  0.000000e+00   \nTOTAL_YIELD  68778.0  6.978712e+06  416271.982856  6183645.0  6.512003e+06   \n\n                      50%           75%          max  \nPLANT_ID     4.135001e+06  4.135001e+06  4135001.000  \nDC_POWER     4.290000e+02  6.366964e+03    14471.125  \nAC_POWER     4.149375e+01  6.236187e+02     1410.950  \nDAILY_YIELD  2.658714e+03  6.274000e+03     9163.000  \nTOTAL_YIELD  7.146685e+06  7.268706e+06  7846821.000  \n"
     ]
    }
   ],
   "source": [
    "print(df_plant1_gen.describe().T)"
   ]
  },
  {
   "cell_type": "code",
   "execution_count": 12,
   "metadata": {},
   "outputs": [
    {
     "output_type": "stream",
     "name": "stdout",
     "text": [
      "           DATE_TIME  PLANT_ID       SOURCE_KEY  DC_POWER  AC_POWER  \\\n0   15-05-2020 00:00   4135001  1BY6WEcLGh8j5v7       0.0       0.0   \n1   15-05-2020 00:00   4135001  1IF53ai7Xc0U56Y       0.0       0.0   \n2   15-05-2020 00:00   4135001  3PZuoBAID5Wc2HD       0.0       0.0   \n3   15-05-2020 00:00   4135001  7JYdWkrLSPkdwr4       0.0       0.0   \n4   15-05-2020 00:00   4135001  McdE0feGgRqW7Ca       0.0       0.0   \n5   15-05-2020 00:00   4135001  VHMLBKoKgIrUVDU       0.0       0.0   \n6   15-05-2020 00:00   4135001  WRmjgnKYAwPKWDb       0.0       0.0   \n7   15-05-2020 00:00   4135001  ZnxXDlPa8U1GXgE       0.0       0.0   \n8   15-05-2020 00:00   4135001  ZoEaEvLYb1n2sOq       0.0       0.0   \n9   15-05-2020 00:00   4135001  adLQvlD726eNBSB       0.0       0.0   \n10  15-05-2020 00:00   4135001  bvBOhCH3iADSZry       0.0       0.0   \n11  15-05-2020 00:00   4135001  iCRJl6heRkivqQ3       0.0       0.0   \n12  15-05-2020 00:00   4135001  ih0vzX44oOqAx2f       0.0       0.0   \n13  15-05-2020 00:00   4135001  pkci93gMrogZuBj       0.0       0.0   \n14  15-05-2020 00:00   4135001  rGa61gmuvPhdLxV       0.0       0.0   \n15  15-05-2020 00:00   4135001  sjndEbLyjtCKgGv       0.0       0.0   \n16  15-05-2020 00:00   4135001  uHbuxQJl8lW7ozc       0.0       0.0   \n17  15-05-2020 00:00   4135001  wCURE6d3bPkepu2       0.0       0.0   \n18  15-05-2020 00:00   4135001  z9Y9gH1T5YWrNuG       0.0       0.0   \n19  15-05-2020 00:00   4135001  zBIq5rxdHJRwDNY       0.0       0.0   \n20  15-05-2020 00:00   4135001  zVJPv84UY57bAof       0.0       0.0   \n21  15-05-2020 00:15   4135001  1BY6WEcLGh8j5v7       0.0       0.0   \n22  15-05-2020 00:15   4135001  1IF53ai7Xc0U56Y       0.0       0.0   \n23  15-05-2020 00:15   4135001  3PZuoBAID5Wc2HD       0.0       0.0   \n24  15-05-2020 00:15   4135001  7JYdWkrLSPkdwr4       0.0       0.0   \n25  15-05-2020 00:15   4135001  McdE0feGgRqW7Ca       0.0       0.0   \n26  15-05-2020 00:15   4135001  VHMLBKoKgIrUVDU       0.0       0.0   \n27  15-05-2020 00:15   4135001  WRmjgnKYAwPKWDb       0.0       0.0   \n28  15-05-2020 00:15   4135001  ZnxXDlPa8U1GXgE       0.0       0.0   \n29  15-05-2020 00:15   4135001  ZoEaEvLYb1n2sOq       0.0       0.0   \n30  15-05-2020 00:15   4135001  adLQvlD726eNBSB       0.0       0.0   \n31  15-05-2020 00:15   4135001  bvBOhCH3iADSZry       0.0       0.0   \n32  15-05-2020 00:15   4135001  iCRJl6heRkivqQ3       0.0       0.0   \n33  15-05-2020 00:15   4135001  ih0vzX44oOqAx2f       0.0       0.0   \n34  15-05-2020 00:15   4135001  pkci93gMrogZuBj       0.0       0.0   \n35  15-05-2020 00:15   4135001  rGa61gmuvPhdLxV       0.0       0.0   \n36  15-05-2020 00:15   4135001  sjndEbLyjtCKgGv       0.0       0.0   \n37  15-05-2020 00:15   4135001  uHbuxQJl8lW7ozc       0.0       0.0   \n38  15-05-2020 00:15   4135001  wCURE6d3bPkepu2       0.0       0.0   \n39  15-05-2020 00:15   4135001  z9Y9gH1T5YWrNuG       0.0       0.0   \n\n    DAILY_YIELD  TOTAL_YIELD  \n0           0.0    6259559.0  \n1           0.0    6183645.0  \n2           0.0    6987759.0  \n3           0.0    7602960.0  \n4           0.0    7158964.0  \n5           0.0    7206408.0  \n6           0.0    7028673.0  \n7           0.0    6522172.0  \n8           0.0    7098099.0  \n9           0.0    6271355.0  \n10          0.0    6316803.0  \n11          0.0    7177992.0  \n12          0.0    6185184.0  \n13          0.0    7169102.0  \n14          0.0    7111493.0  \n15          0.0    7016832.0  \n16          0.0    7038681.0  \n17          0.0    6782598.0  \n18          0.0    7007866.0  \n19          0.0    6339380.0  \n20          0.0    7116151.0  \n21          0.0    6259559.0  \n22          0.0    6183645.0  \n23          0.0    6987759.0  \n24          0.0    7602960.0  \n25          0.0    7158964.0  \n26          0.0    7206408.0  \n27          0.0    7028673.0  \n28          0.0    6522172.0  \n29          0.0    7098099.0  \n30          0.0    6271355.0  \n31          0.0    6316803.0  \n32          0.0    7177992.0  \n33          0.0    6185184.0  \n34          0.0    7169102.0  \n35          0.0    7111493.0  \n36          0.0    7016832.0  \n37          0.0    7038681.0  \n38          0.0    6782598.0  \n39          0.0    7007866.0  \n"
     ]
    }
   ],
   "source": [
    "print(df_plant1_gen.head(40))"
   ]
  },
  {
   "cell_type": "code",
   "execution_count": 6,
   "metadata": {},
   "outputs": [
    {
     "output_type": "stream",
     "name": "stdout",
     "text": [
      "              DATE_TIME  PLANT_ID       SOURCE_KEY  DC_POWER  AC_POWER  \\\n0      15-05-2020 00:00   4135001  1BY6WEcLGh8j5v7       0.0       0.0   \n1      15-05-2020 00:00   4135001  1IF53ai7Xc0U56Y       0.0       0.0   \n2      15-05-2020 00:00   4135001  3PZuoBAID5Wc2HD       0.0       0.0   \n3      15-05-2020 00:00   4135001  7JYdWkrLSPkdwr4       0.0       0.0   \n4      15-05-2020 00:00   4135001  McdE0feGgRqW7Ca       0.0       0.0   \n...                 ...       ...              ...       ...       ...   \n68773  17-06-2020 23:45   4135001  uHbuxQJl8lW7ozc       0.0       0.0   \n68774  17-06-2020 23:45   4135001  wCURE6d3bPkepu2       0.0       0.0   \n68775  17-06-2020 23:45   4135001  z9Y9gH1T5YWrNuG       0.0       0.0   \n68776  17-06-2020 23:45   4135001  zBIq5rxdHJRwDNY       0.0       0.0   \n68777  17-06-2020 23:45   4135001  zVJPv84UY57bAof       0.0       0.0   \n\n       DAILY_YIELD  TOTAL_YIELD  \n0            0.000    6259559.0  \n1            0.000    6183645.0  \n2            0.000    6987759.0  \n3            0.000    7602960.0  \n4            0.000    7158964.0  \n...            ...          ...  \n68773     5967.000    7287002.0  \n68774     5147.625    7028601.0  \n68775     5819.000    7251204.0  \n68776     5817.000    6583369.0  \n68777     5910.000    7363272.0  \n\n[68778 rows x 7 columns]\n"
     ]
    }
   ],
   "source": [
    "print(df_plant1_gen)"
   ]
  },
  {
   "cell_type": "code",
   "execution_count": 9,
   "metadata": {},
   "outputs": [
    {
     "output_type": "stream",
     "name": "stdout",
     "text": [
      "                      count          mean        std           min  \\\nPLANT_ID             3182.0  4.135001e+06   0.000000  4.135001e+06   \nAMBIENT_TEMPERATURE  3182.0  2.553161e+01   3.354856  2.039850e+01   \nMODULE_TEMPERATURE   3182.0  3.109102e+01  12.261222  1.814042e+01   \nIRRADIATION          3182.0  2.283128e-01   0.300836  0.000000e+00   \n\n                              25%           50%           75%           max  \nPLANT_ID             4.135001e+06  4.135001e+06  4.135001e+06  4.135001e+06  \nAMBIENT_TEMPERATURE  2.270518e+01  2.461381e+01  2.792053e+01  3.525249e+01  \nMODULE_TEMPERATURE   2.109055e+01  2.461806e+01  4.130784e+01  6.554571e+01  \nIRRADIATION          0.000000e+00  2.465348e-02  4.495884e-01  1.221652e+00  \n"
     ]
    }
   ],
   "source": [
    "print(df_plant1_weather.describe().T)"
   ]
  },
  {
   "cell_type": "code",
   "execution_count": 10,
   "metadata": {},
   "outputs": [
    {
     "output_type": "stream",
     "name": "stdout",
     "text": [
      "                DATE_TIME  PLANT_ID       SOURCE_KEY  AMBIENT_TEMPERATURE  \\\n0     2020-05-15 00:00:00   4135001  HmiyD2TTLFNqkNe            25.184316   \n1     2020-05-15 00:15:00   4135001  HmiyD2TTLFNqkNe            25.084589   \n2     2020-05-15 00:30:00   4135001  HmiyD2TTLFNqkNe            24.935753   \n3     2020-05-15 00:45:00   4135001  HmiyD2TTLFNqkNe            24.846130   \n4     2020-05-15 01:00:00   4135001  HmiyD2TTLFNqkNe            24.621525   \n...                   ...       ...              ...                  ...   \n3177  2020-06-17 22:45:00   4135001  HmiyD2TTLFNqkNe            22.150570   \n3178  2020-06-17 23:00:00   4135001  HmiyD2TTLFNqkNe            22.129816   \n3179  2020-06-17 23:15:00   4135001  HmiyD2TTLFNqkNe            22.008275   \n3180  2020-06-17 23:30:00   4135001  HmiyD2TTLFNqkNe            21.969495   \n3181  2020-06-17 23:45:00   4135001  HmiyD2TTLFNqkNe            21.909288   \n\n      MODULE_TEMPERATURE  IRRADIATION  \n0              22.857507          0.0  \n1              22.761668          0.0  \n2              22.592306          0.0  \n3              22.360852          0.0  \n4              22.165423          0.0  \n...                  ...          ...  \n3177           21.480377          0.0  \n3178           21.389024          0.0  \n3179           20.709211          0.0  \n3180           20.734963          0.0  \n3181           20.427972          0.0  \n\n[3182 rows x 6 columns]\n"
     ]
    }
   ],
   "source": [
    "print(df_plant1_weather)"
   ]
  },
  {
   "cell_type": "code",
   "execution_count": null,
   "metadata": {},
   "outputs": [],
   "source": []
  }
 ]
}