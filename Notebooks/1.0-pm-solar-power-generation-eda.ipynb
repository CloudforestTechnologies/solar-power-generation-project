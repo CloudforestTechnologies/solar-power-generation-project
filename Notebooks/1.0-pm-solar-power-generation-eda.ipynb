{
 "metadata": {
  "language_info": {
   "codemirror_mode": {
    "name": "ipython",
    "version": 3
   },
   "file_extension": ".py",
   "mimetype": "text/x-python",
   "name": "python",
   "nbconvert_exporter": "python",
   "pygments_lexer": "ipython3",
   "version": "3.6.6-final"
  },
  "orig_nbformat": 2,
  "kernelspec": {
   "name": "Python 3.6.6 64-bit",
   "display_name": "Python 3.6.6 64-bit",
   "metadata": {
    "interpreter": {
     "hash": "3f92393cf9312ed24f4ccae2fdf5dee1635074d2034ccfaec2d070f8b1ae4f04"
    }
   }
  }
 },
 "nbformat": 4,
 "nbformat_minor": 2,
 "cells": [
  {
   "cell_type": "code",
   "execution_count": 1,
   "metadata": {},
   "outputs": [],
   "source": [
    "# Module Importations\n"
   ]
  },
  {
   "cell_type": "code",
   "execution_count": 1,
   "metadata": {},
   "outputs": [],
   "source": [
    "# Custom Module Importations\n",
    "from Source.data import load_data"
   ]
  },
  {
   "cell_type": "code",
   "execution_count": 3,
   "metadata": {},
   "outputs": [],
   "source": [
    "# Constants"
   ]
  },
  {
   "cell_type": "code",
   "execution_count": 2,
   "metadata": {},
   "outputs": [],
   "source": [
    "# Load datasets\n",
    "df_plant1_gen = load_data.load_data('Plant_1_Generation_Data.csv')"
   ]
  },
  {
   "cell_type": "code",
   "execution_count": 3,
   "metadata": {},
   "outputs": [
    {
     "output_type": "stream",
     "name": "stdout",
     "text": [
      "               count          mean            std        min           25%  \\\nPLANT_ID     68778.0  4.135001e+06       0.000000  4135001.0  4.135001e+06   \nDC_POWER     68778.0  3.147426e+03    4036.457169        0.0  0.000000e+00   \nAC_POWER     68778.0  3.078028e+02     394.396439        0.0  0.000000e+00   \nDAILY_YIELD  68778.0  3.295969e+03    3145.178309        0.0  0.000000e+00   \nTOTAL_YIELD  68778.0  6.978712e+06  416271.982856  6183645.0  6.512003e+06   \n\n                      50%           75%          max  \nPLANT_ID     4.135001e+06  4.135001e+06  4135001.000  \nDC_POWER     4.290000e+02  6.366964e+03    14471.125  \nAC_POWER     4.149375e+01  6.236187e+02     1410.950  \nDAILY_YIELD  2.658714e+03  6.274000e+03     9163.000  \nTOTAL_YIELD  7.146685e+06  7.268706e+06  7846821.000  \n"
     ]
    }
   ],
   "source": [
    "print(df_plant1_gen.describe().T)"
   ]
  },
  {
   "cell_type": "code",
   "execution_count": 6,
   "metadata": {},
   "outputs": [
    {
     "output_type": "stream",
     "name": "stdout",
     "text": [
      "              DATE_TIME  PLANT_ID       SOURCE_KEY  DC_POWER  AC_POWER  \\\n0      15-05-2020 00:00   4135001  1BY6WEcLGh8j5v7       0.0       0.0   \n1      15-05-2020 00:00   4135001  1IF53ai7Xc0U56Y       0.0       0.0   \n2      15-05-2020 00:00   4135001  3PZuoBAID5Wc2HD       0.0       0.0   \n3      15-05-2020 00:00   4135001  7JYdWkrLSPkdwr4       0.0       0.0   \n4      15-05-2020 00:00   4135001  McdE0feGgRqW7Ca       0.0       0.0   \n...                 ...       ...              ...       ...       ...   \n68773  17-06-2020 23:45   4135001  uHbuxQJl8lW7ozc       0.0       0.0   \n68774  17-06-2020 23:45   4135001  wCURE6d3bPkepu2       0.0       0.0   \n68775  17-06-2020 23:45   4135001  z9Y9gH1T5YWrNuG       0.0       0.0   \n68776  17-06-2020 23:45   4135001  zBIq5rxdHJRwDNY       0.0       0.0   \n68777  17-06-2020 23:45   4135001  zVJPv84UY57bAof       0.0       0.0   \n\n       DAILY_YIELD  TOTAL_YIELD  \n0            0.000    6259559.0  \n1            0.000    6183645.0  \n2            0.000    6987759.0  \n3            0.000    7602960.0  \n4            0.000    7158964.0  \n...            ...          ...  \n68773     5967.000    7287002.0  \n68774     5147.625    7028601.0  \n68775     5819.000    7251204.0  \n68776     5817.000    6583369.0  \n68777     5910.000    7363272.0  \n\n[68778 rows x 7 columns]\n"
     ]
    }
   ],
   "source": [
    "print(df_plant1_gen)"
   ]
  },
  {
   "cell_type": "code",
   "execution_count": null,
   "metadata": {},
   "outputs": [],
   "source": []
  }
 ]
}