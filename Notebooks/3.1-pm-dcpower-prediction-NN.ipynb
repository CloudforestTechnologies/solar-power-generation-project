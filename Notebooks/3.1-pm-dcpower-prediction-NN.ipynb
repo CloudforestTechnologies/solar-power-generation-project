{
 "metadata": {
  "language_info": {
   "codemirror_mode": {
    "name": "ipython",
    "version": 3
   },
   "file_extension": ".py",
   "mimetype": "text/x-python",
   "name": "python",
   "nbconvert_exporter": "python",
   "pygments_lexer": "ipython3",
   "version": "3.6.6"
  },
  "orig_nbformat": 2,
  "kernelspec": {
   "name": "python3",
   "display_name": "Python 3.6.6 64-bit"
  },
  "metadata": {
   "interpreter": {
    "hash": "3f92393cf9312ed24f4ccae2fdf5dee1635074d2034ccfaec2d070f8b1ae4f04"
   }
  },
  "interpreter": {
   "hash": "3f92393cf9312ed24f4ccae2fdf5dee1635074d2034ccfaec2d070f8b1ae4f04"
  }
 },
 "nbformat": 4,
 "nbformat_minor": 2,
 "cells": [
  {
   "cell_type": "code",
   "execution_count": 1,
   "metadata": {},
   "outputs": [
    {
     "output_type": "stream",
     "name": "stdout",
     "text": [
      "keras version = 2.4.0\nnumpy version = 1.19.4\nsklearn version = 0.22.2.post1\ntensorflow version = 2.4.1\n"
     ]
    }
   ],
   "source": [
    "# Module Importations\n",
    "import sklearn\n",
    "from sklearn.metrics import mean_absolute_error\n",
    "from sklearn.metrics import mean_squared_error\n",
    "from sklearn.model_selection import train_test_split\n",
    "from sklearn.model_selection import RandomizedSearchCV\n",
    "from sklearn.preprocessing import MinMaxScaler\n",
    "import tensorflow as tf\n",
    "import tensorflow.keras as keras\n",
    "import numpy as np\n",
    "\n",
    "# Print versioning information\n",
    "print('keras version =', keras.__version__)\n",
    "print('numpy version =', np.__version__)  \n",
    "print('sklearn version =', sklearn.__version__)\n",
    "print('tensorflow version =', tf.__version__)"
   ]
  },
  {
   "cell_type": "code",
   "execution_count": 2,
   "metadata": {},
   "outputs": [
    {
     "output_type": "stream",
     "name": "stdout",
     "text": [
      "[keras_helpers]Tensorflow version: 2.4.1\n[keras_helpers]keras version = 2.4.0\n"
     ]
    }
   ],
   "source": [
    "# Custom Module Imports\n",
    "from Source.data import load_data\n",
    "from Source.data import split_data\n",
    "from Source.models import model_evaluation\n",
    "from Source.models import keras_helpers\n",
    "from Source.models import tensorboard_helpers"
   ]
  },
  {
   "cell_type": "code",
   "execution_count": 3,
   "metadata": {},
   "outputs": [],
   "source": [
    "# Constants\n",
    "TRAIN_MODELS = True"
   ]
  },
  {
   "cell_type": "code",
   "execution_count": 4,
   "metadata": {},
   "outputs": [
    {
     "output_type": "stream",
     "name": "stdout",
     "text": [
      "Loading pickled dataframe started ...\n",
      "Loading pickled dataframe complete ...\n",
      "Loading pickled dataframe started ...\n",
      "Loading pickled dataframe complete ...\n"
     ]
    }
   ],
   "source": [
    "# Load dataset\n",
    "df_plant1 = load_data.load_pickled_data(\"df_plant1_feat_eng.pkl\")\n",
    "df_plant2 = load_data.load_pickled_data(\"df_plant2_feat_eng.pkl\")"
   ]
  },
  {
   "cell_type": "code",
   "execution_count": 5,
   "metadata": {},
   "outputs": [
    {
     "output_type": "stream",
     "name": "stdout",
     "text": [
      "<class 'pandas.core.frame.DataFrame'>\nInt64Index: 71808 entries, 0 to 71806\nData columns (total 20 columns):\n #   Column           Non-Null Count  Dtype         \n---  ------           --------------  -----         \n 0   DATE_TIME        71808 non-null  datetime64[ns]\n 1   PLANT_ID         71808 non-null  object        \n 2   SOURCE_KEY       71808 non-null  object        \n 3   DC_POWER         71808 non-null  float64       \n 4   DAILY_YIELD      71808 non-null  float64       \n 5   AMB_TEMP         71808 non-null  float64       \n 6   MOD_TEMP         71808 non-null  float64       \n 7   IRRADIATION      71808 non-null  float64       \n 8   DATE             71808 non-null  object        \n 9   TIME_OF_DAY      71808 non-null  object        \n 10  HOUR             71808 non-null  int64         \n 11  DAY              71808 non-null  int64         \n 12  WEEKDAY          71808 non-null  object        \n 13  MONTH            71808 non-null  int64         \n 14  YEAR             71808 non-null  int64         \n 15  AVG_HR_DC        71808 non-null  float64       \n 16  AVG_HR_YIELD     71808 non-null  float64       \n 17  AVG_DAILY_DC     71808 non-null  float64       \n 18  AVG_DAILY_YIELD  71808 non-null  float64       \n 19  DC-IRR_RATIO     71808 non-null  float64       \ndtypes: datetime64[ns](1), float64(10), int64(4), object(5)\nmemory usage: 11.5+ MB\n"
     ]
    }
   ],
   "source": [
    "df_plant1.info()"
   ]
  },
  {
   "cell_type": "code",
   "execution_count": 6,
   "metadata": {},
   "outputs": [
    {
     "output_type": "stream",
     "name": "stdout",
     "text": [
      "<class 'pandas.core.frame.DataFrame'>\nInt64Index: 71808 entries, 0 to 71807\nData columns (total 4 columns):\n #   Column       Non-Null Count  Dtype  \n---  ------       --------------  -----  \n 0   DC_POWER     71808 non-null  float64\n 1   AMB_TEMP     71808 non-null  float64\n 2   MOD_TEMP     71808 non-null  float64\n 3   IRRADIATION  71808 non-null  float64\ndtypes: float64(4)\nmemory usage: 2.7 MB\n"
     ]
    }
   ],
   "source": [
    "# Drop unrequired data columns\n",
    "\n",
    "# Identify columns to drop\n",
    "cols_to_keep = ['DC_POWER', 'AMB_TEMP', 'MOD_TEMP', 'IRRADIATION', 'TIME_FLOAT']\n",
    "cols_to_drop = []\n",
    "\n",
    "for col in df_plant1.columns:\n",
    "    if col not in cols_to_keep:\n",
    "        cols_to_drop.append(col)\n",
    "\n",
    "for df in [df_plant1, df_plant2]:\n",
    "    df.drop(cols_to_drop, axis = 1, inplace = True)\n",
    "\n",
    "df_plant2.info()"
   ]
  },
  {
   "cell_type": "code",
   "execution_count": 7,
   "metadata": {},
   "outputs": [
    {
     "output_type": "stream",
     "name": "stdout",
     "text": [
      "Original Data Items: 71808\nTraining Data Items: 57447\nEvaluation Data Items: 14361\nOriginal Data Items: 71808\nTraining Data Items: 57447\nEvaluation Data Items: 14361\n"
     ]
    }
   ],
   "source": [
    "# Split data into training / evaluation sets\n",
    "training_set_plant1, evaluation_set_plant1 = split_data.split_train_eval(df_plant1, 0.2)\n",
    "training_set_plant2, evaluation_set_plant2 = split_data.split_train_eval(df_plant2, 0.2)"
   ]
  },
  {
   "cell_type": "code",
   "execution_count": 8,
   "metadata": {},
   "outputs": [],
   "source": [
    "# Create DC Power Target datasets\n",
    "\n",
    "# Modify training sets\n",
    "dc_power_training_data_pt1 = training_set_plant1.drop('DC_POWER', axis = 1)\n",
    "dc_label_data_pt1 = training_set_plant1['DC_POWER'].copy()\n",
    "\n",
    "dc_power_training_data_pt2 = training_set_plant2.drop('DC_POWER', axis = 1)\n",
    "dc_label_data_pt2 = training_set_plant2['DC_POWER'].copy()\n",
    "\n",
    "# Modify evaluation sets\n",
    "dc_evaluation_data_pt1 = evaluation_set_plant1.drop('DC_POWER', axis = 1)\n",
    "dc_eval_label_data_pt1 = evaluation_set_plant1['DC_POWER'].copy()\n",
    "\n",
    "dc_evaluation_data_pt2 = evaluation_set_plant2.drop('DC_POWER', axis = 1)\n",
    "dc_eval_label_data_pt2 = evaluation_set_plant2['DC_POWER'].copy()"
   ]
  },
  {
   "cell_type": "code",
   "execution_count": 9,
   "metadata": {},
   "outputs": [
    {
     "output_type": "stream",
     "name": "stdout",
     "text": [
      "Plant 1:\nFit Train: (57447, 3)\nFit Label: (57447,)\nEval Train: (14361, 3)\nEval Label: (14361,)\nPlant 2:\nFit Train: (57447, 3)\nFit Label: (57447,)\nEval Train: (14361, 3)\nEval Label: (14361,)\n"
     ]
    }
   ],
   "source": [
    "# Check shape of arrays\n",
    "print('Plant 1:')\n",
    "print('Fit Train:', dc_power_training_data_pt1.shape)\n",
    "print('Fit Label:', dc_label_data_pt1.shape)\n",
    "print('Eval Train:', dc_evaluation_data_pt1.shape)\n",
    "print('Eval Label:', dc_eval_label_data_pt1.shape)\n",
    "\n",
    "print('Plant 2:')\n",
    "print('Fit Train:', dc_power_training_data_pt2.shape)\n",
    "print('Fit Label:', dc_label_data_pt2.shape)\n",
    "print('Eval Train:', dc_evaluation_data_pt2.shape)\n",
    "print('Eval Label:', dc_eval_label_data_pt2.shape)"
   ]
  },
  {
   "cell_type": "code",
   "execution_count": 10,
   "metadata": {},
   "outputs": [],
   "source": [
    "# Normalise Inputs\n",
    "normalise_inputs = True\n",
    "normalise_outputs = False\n",
    "\n",
    "normaliser = MinMaxScaler()\n",
    "\n",
    "if normalise_inputs == True:\n",
    "\n",
    "    # Transform training sets\n",
    "    dc_power_training_data_pt1 = normaliser.fit_transform(dc_power_training_data_pt1)\n",
    "    dc_power_training_data_pt2 = normaliser.fit_transform(dc_power_training_data_pt2)\n",
    "\n",
    "    # Transform evaluation sets\n",
    "    dc_evaluation_data_pt1 = normaliser.fit_transform(dc_evaluation_data_pt1)\n",
    "    dc_evaluation_data_pt2 = normaliser.fit_transform(dc_evaluation_data_pt2)\n",
    "\n",
    "if normalise_outputs == True:\n",
    "\n",
    "    # Transform training sets\n",
    "    dc_label_data_pt1 = normaliser.fit_transform(dc_label_data_pt1)\n",
    "    dc_label_data_pt2 = normaliser.fit_transform(dc_label_data_pt2)\n",
    "\n",
    "    # Transform evaluation sets\n",
    "    dc_eval_label_data_pt1 = normaliser.fit_transform(dc_eval_label_data_pt1)\n",
    "    dc_eval_label_data_pt2 = normaliser.fit_transform(dc_eval_label_data_pt2)"
   ]
  },
  {
   "cell_type": "code",
   "execution_count": 11,
   "metadata": {},
   "outputs": [
    {
     "output_type": "execute_result",
     "data": {
      "text/plain": [
       "array([[0.69418927, 0.39836143, 0.24685468],\n",
       "       [0.10297219, 0.06348367, 0.02010156],\n",
       "       [0.10195445, 0.0510256 , 0.        ],\n",
       "       ...,\n",
       "       [0.3994604 , 0.20367104, 0.07955333],\n",
       "       [0.31878711, 0.09578908, 0.        ],\n",
       "       [0.45269604, 0.48094315, 0.44556097]])"
      ]
     },
     "metadata": {},
     "execution_count": 11
    }
   ],
   "source": [
    "# Check values after normalisation\n",
    "dc_power_training_data_pt1"
   ]
  },
  {
   "cell_type": "code",
   "execution_count": 12,
   "metadata": {},
   "outputs": [
    {
     "output_type": "stream",
     "name": "stdout",
     "text": [
      "[[0.77310878 0.77031963 0.62255649]\n [0.31338184 0.08745068 0.        ]\n [0.26876718 0.23906034 0.09710624]\n ...\n [0.11465821 0.06056427 0.        ]\n [0.15250767 0.05541926 0.        ]\n [0.25835535 0.07128375 0.        ]]\n16030    936.842857\n4052       0.000000\n71148    178.350000\n71233    154.514286\n24592    414.100000\n            ...    \n14020    560.000000\n50198     31.471429\n65767      0.000000\n50797      0.000000\n12524      0.000000\nName: DC_POWER, Length: 45957, dtype: float64\n"
     ]
    }
   ],
   "source": [
    "# Create train and test arrays (plant 1)\n",
    "X_train_pt1, X_test_pt1, y_train_pt1, y_test_pt1 = train_test_split(dc_power_training_data_pt1, dc_label_data_pt1, test_size = 0.2, random_state = 0)\n",
    "\n",
    "print(X_train_pt1)\n",
    "print(y_train_pt1)"
   ]
  },
  {
   "cell_type": "code",
   "execution_count": 13,
   "metadata": {},
   "outputs": [
    {
     "output_type": "stream",
     "name": "stdout",
     "text": [
      "Building Model ...\n",
      "Hidden Layers: 2, Neurons: 6, LR: 0.001\n",
      "Epoch 1/20\n",
      "1437/1437 [==============================] - 3s 1ms/step - loss: 255639.6930 - val_loss: 216833.6875\n",
      "Epoch 2/20\n",
      "1437/1437 [==============================] - 2s 1ms/step - loss: 188494.3631 - val_loss: 95570.9609\n",
      "Epoch 3/20\n",
      "1437/1437 [==============================] - 2s 1ms/step - loss: 81304.5251 - val_loss: 52144.9258\n",
      "Epoch 4/20\n",
      "1437/1437 [==============================] - 2s 1ms/step - loss: 44172.3049 - val_loss: 22282.7871\n",
      "Epoch 5/20\n",
      "1437/1437 [==============================] - 2s 1ms/step - loss: 16701.7806 - val_loss: 8929.1338\n",
      "Epoch 6/20\n",
      "1437/1437 [==============================] - 2s 1ms/step - loss: 8075.1533 - val_loss: 6948.6421\n",
      "Epoch 7/20\n",
      "1437/1437 [==============================] - 3s 2ms/step - loss: 6262.1814 - val_loss: 5875.5161\n",
      "Epoch 8/20\n",
      "1437/1437 [==============================] - 3s 2ms/step - loss: 5188.5200 - val_loss: 5159.1421\n",
      "Epoch 9/20\n",
      "1437/1437 [==============================] - 2s 1ms/step - loss: 4434.6175 - val_loss: 4724.8506\n",
      "Epoch 10/20\n",
      "1437/1437 [==============================] - 2s 1ms/step - loss: 4448.7369 - val_loss: 4518.5698\n",
      "Epoch 11/20\n",
      "1437/1437 [==============================] - 2s 1ms/step - loss: 3723.9601 - val_loss: 4422.4829\n",
      "Epoch 12/20\n",
      "1437/1437 [==============================] - 2s 1ms/step - loss: 4033.6873 - val_loss: 4381.5674\n",
      "Epoch 13/20\n",
      "1437/1437 [==============================] - 2s 1ms/step - loss: 3951.4587 - val_loss: 4361.3965\n",
      "Epoch 14/20\n",
      "1437/1437 [==============================] - 2s 1ms/step - loss: 3577.8076 - val_loss: 4345.5337\n",
      "Epoch 15/20\n",
      "1437/1437 [==============================] - 2s 1ms/step - loss: 4132.3492 - val_loss: 4324.6211\n",
      "Epoch 16/20\n",
      "1437/1437 [==============================] - 2s 1ms/step - loss: 3774.9651 - val_loss: 4307.0244\n",
      "Epoch 17/20\n",
      "1437/1437 [==============================] - 2s 1ms/step - loss: 3739.7834 - val_loss: 4309.0264\n",
      "Epoch 18/20\n",
      "1437/1437 [==============================] - 2s 1ms/step - loss: 3606.9550 - val_loss: 4277.7378\n",
      "Epoch 19/20\n",
      "1437/1437 [==============================] - 2s 1ms/step - loss: 3642.0874 - val_loss: 4278.6846\n",
      "Epoch 20/20\n",
      "1437/1437 [==============================] - 2s 1ms/step - loss: 3785.4338 - val_loss: 4261.4570\n"
     ]
    }
   ],
   "source": [
    "# Initial MLP (Target - DC Power, Plant 1)\n",
    "\n",
    "if TRAIN_MODELS == True:\n",
    "    # Clear existing models\n",
    "    keras.backend.clear_session()\n",
    "\n",
    "    # Build model\n",
    "    model = keras_helpers.build_multilayer_perceptron()\n",
    "\n",
    "    # Name model\n",
    "    model_type = \"MLP_DC_Plant1\"\n",
    "    model_id = keras_helpers.name_model(model_type)\n",
    "    filepath_full = keras_helpers.make_save_string(model_id)\n",
    "\n",
    "    # Set save and earlystop callbacks\n",
    "    earlystop_cb = keras.callbacks.EarlyStopping(patience = 5)\n",
    "    checkpoint_cb = keras.callbacks.ModelCheckpoint(filepath = filepath_full, save_best_only = True)\n",
    "\n",
    "    # Train model\n",
    "    model.fit(X_train_pt1, y_train_pt1, epochs = 20, validation_data = (X_test_pt1, y_test_pt1), callbacks =[checkpoint_cb, earlystop_cb])"
   ]
  },
  {
   "cell_type": "code",
   "execution_count": 14,
   "metadata": {},
   "outputs": [
    {
     "output_type": "stream",
     "name": "stdout",
     "text": [
      "Model Path: C:\\Developer\\solar-power-generation-project\\Models\\WJ_MLP_DC_Plant1_2021_06_15-11_00_49.h5\n",
      "Model: \"sequential\"\n",
      "_________________________________________________________________\n",
      "Layer (type)                 Output Shape              Param #   \n",
      "=================================================================\n",
      "dense (Dense)                (None, 6)                 24        \n",
      "_________________________________________________________________\n",
      "dense_1 (Dense)              (None, 6)                 42        \n",
      "_________________________________________________________________\n",
      "dense_2 (Dense)              (None, 1)                 7         \n",
      "=================================================================\n",
      "Total params: 73\n",
      "Trainable params: 73\n",
      "Non-trainable params: 0\n",
      "_________________________________________________________________\n",
      "MLP_DC_Plant1 rmse (Eval): 59.84014389309924\n",
      "MLP_DC_Plant1 mae (Eval): 27.264844396363046\n",
      "MLP_DC_Plant1 r2 (Eval): 0.9775339010913194\n"
     ]
    }
   ],
   "source": [
    "# Evaluate MLP Model (DC Power, Plant 1)\n",
    "\n",
    "if TRAIN_MODELS == False:\n",
    "    filepath_full = r'C:\\Developer\\solar-power-generation-project\\Models\\WJ_MLP_DC_Plant1_2021_06_15-11_00_49.h5'\n",
    "\n",
    "print(\"Model Path:\", filepath_full)\n",
    "\n",
    "# Load model\n",
    "model = keras.models.load_model(filepath_full)\n",
    "\n",
    "# Summarise model\n",
    "model.summary()\n",
    "\n",
    "# Make predictions\n",
    "dc_pred_eval = model.predict(dc_evaluation_data_pt1)\n",
    "\n",
    "# Determine model prediction stats\n",
    "model_name = \"MLP_DC_Plant1\"\n",
    "model_evaluation.evaluate_model(model_name, dc_eval_label_data_pt1, dc_pred_eval)\n",
    "rmse, mae, r2 = model_evaluation.return_model_evaluation_stats(dc_eval_label_data_pt1, dc_pred_eval)"
   ]
  },
  {
   "cell_type": "code",
   "execution_count": 15,
   "metadata": {},
   "outputs": [
    {
     "output_type": "stream",
     "name": "stdout",
     "text": [
      "c:\\Developer\\solar-power-generation-project\\Models\\TensorBoard\\run_2021_06_15-11_01_28\n"
     ]
    }
   ],
   "source": [
    "# Setup tensorboard for logging \n",
    "x = tensorboard_helpers.get_run_logdir()\n",
    "\n",
    "# Print tensorboard directory\n",
    "print(x)"
   ]
  },
  {
   "cell_type": "code",
   "execution_count": 16,
   "metadata": {},
   "outputs": [
    {
     "output_type": "stream",
     "name": "stdout",
     "text": [
      "Building Model ...\n",
      "Hidden Layers: 8, Neurons: 20, LR: 0.001\n",
      "479/479 [==============================] - 0s 786us/step - loss: 3546.7078\n",
      "Building Model ...\n",
      "Hidden Layers: 8, Neurons: 20, LR: 0.001\n",
      "479/479 [==============================] - 0s 899us/step - loss: 3202.5571\n",
      "Building Model ...\n",
      "Hidden Layers: 8, Neurons: 20, LR: 0.001\n",
      "479/479 [==============================] - 1s 1ms/step - loss: 3293.5476\n",
      "Building Model ...\n",
      "Hidden Layers: 12, Neurons: 80, LR: 0.1\n",
      "479/479 [==============================] - 0s 969us/step - loss: nan\n",
      "Building Model ...\n",
      "Hidden Layers: 12, Neurons: 80, LR: 0.1\n",
      "479/479 [==============================] - 1s 1ms/step - loss: 163019.1719\n",
      "Building Model ...\n",
      "Hidden Layers: 12, Neurons: 80, LR: 0.1\n",
      "479/479 [==============================] - 1s 1ms/step - loss: nan\n",
      "Building Model ...\n",
      "Hidden Layers: 4, Neurons: 40, LR: 0.1\n",
      "479/479 [==============================] - 0s 722us/step - loss: 11647.4229\n",
      "Building Model ...\n",
      "Hidden Layers: 4, Neurons: 40, LR: 0.1\n",
      "479/479 [==============================] - 0s 767us/step - loss: 4151.3682\n",
      "Building Model ...\n",
      "Hidden Layers: 4, Neurons: 40, LR: 0.1\n",
      "479/479 [==============================] - 0s 961us/step - loss: 5372.5952\n",
      "Building Model ...\n",
      "Hidden Layers: 16, Neurons: 5, LR: 0.0001\n",
      "479/479 [==============================] - 0s 818us/step - loss: 3571.0847\n",
      "Building Model ...\n",
      "Hidden Layers: 16, Neurons: 5, LR: 0.0001\n",
      "479/479 [==============================] - 0s 908us/step - loss: 249875.7031\n",
      "Building Model ...\n",
      "Hidden Layers: 16, Neurons: 5, LR: 0.0001\n",
      "479/479 [==============================] - 0s 798us/step - loss: 2808.1050\n",
      "Building Model ...\n",
      "Hidden Layers: 12, Neurons: 10, LR: 0.1\n",
      "479/479 [==============================] - 0s 918us/step - loss: 161657.6094\n",
      "Building Model ...\n",
      "Hidden Layers: 12, Neurons: 10, LR: 0.1\n",
      "479/479 [==============================] - 0s 770us/step - loss: 165778.2344\n",
      "Building Model ...\n",
      "Hidden Layers: 12, Neurons: 10, LR: 0.1\n",
      "479/479 [==============================] - 0s 987us/step - loss: 162582.5000\n",
      "Building Model ...\n",
      "Hidden Layers: 20, Neurons: 10, LR: 0.1\n",
      "479/479 [==============================] - 0s 899us/step - loss: 161361.2812\n",
      "Building Model ...\n",
      "Hidden Layers: 20, Neurons: 10, LR: 0.1\n",
      "479/479 [==============================] - 0s 968us/step - loss: 161494.6250\n",
      "Building Model ...\n",
      "Hidden Layers: 20, Neurons: 10, LR: 0.1\n",
      "479/479 [==============================] - 0s 870us/step - loss: 161218.0156\n",
      "Building Model ...\n",
      "Hidden Layers: 16, Neurons: 20, LR: 0.1\n",
      "479/479 [==============================] - 0s 872us/step - loss: 161474.7969\n",
      "Building Model ...\n",
      "Hidden Layers: 16, Neurons: 20, LR: 0.1\n",
      "479/479 [==============================] - 1s 1ms/step - loss: 161958.2031\n",
      "Building Model ...\n",
      "Hidden Layers: 16, Neurons: 20, LR: 0.1\n",
      "479/479 [==============================] - 0s 863us/step - loss: 160974.5625\n",
      "Building Model ...\n",
      "Hidden Layers: 16, Neurons: 100, LR: 0.001\n",
      "479/479 [==============================] - 1s 1ms/step - loss: 3800.6514\n",
      "Building Model ...\n",
      "Hidden Layers: 16, Neurons: 100, LR: 0.001\n",
      "479/479 [==============================] - 1s 3ms/step - loss: 6935.3887\n",
      "Building Model ...\n",
      "Hidden Layers: 16, Neurons: 100, LR: 0.001\n",
      "479/479 [==============================] - 1s 1ms/step - loss: 8366.6699\n",
      "Building Model ...\n",
      "Hidden Layers: 16, Neurons: 60, LR: 0.01\n",
      "479/479 [==============================] - 0s 976us/step - loss: 6202.4116\n",
      "Building Model ...\n",
      "Hidden Layers: 16, Neurons: 60, LR: 0.01\n",
      "479/479 [==============================] - 1s 1ms/step - loss: 3306.0984\n",
      "Building Model ...\n",
      "Hidden Layers: 16, Neurons: 60, LR: 0.01\n",
      "479/479 [==============================] - 0s 903us/step - loss: 3670.3708\n",
      "Building Model ...\n",
      "Hidden Layers: 8, Neurons: 5, LR: 0.0001\n",
      "479/479 [==============================] - 0s 849us/step - loss: 249662.1094\n",
      "Building Model ...\n",
      "Hidden Layers: 8, Neurons: 5, LR: 0.0001\n",
      "479/479 [==============================] - 0s 755us/step - loss: 249876.2969\n",
      "Building Model ...\n",
      "Hidden Layers: 8, Neurons: 5, LR: 0.0001\n",
      "479/479 [==============================] - 0s 732us/step - loss: 2779.6782\n",
      "Building Model ...\n",
      "Hidden Layers: 8, Neurons: 20, LR: 0.001\n"
     ]
    }
   ],
   "source": [
    "# Optimised MLP (Target - DC Power, Plant 1)\n",
    "\n",
    "if TRAIN_MODELS == True:\n",
    "    \n",
    "    # Clear existing models\n",
    "    keras.backend.clear_session()\n",
    "\n",
    "    # Establish parameter distribution for tuning\n",
    "    param_distribs = {\n",
    "        \"n_hidden\": (4, 8, 12, 16, 20),\n",
    "        \"n_neurons\": (5, 10, 20, 40, 60, 80, 100),\n",
    "        \"learning_rate\": (1e-1, 1e-2, 1e-3, 1e-4),\n",
    "    }\n",
    "\n",
    "    # Build model\n",
    "    wrapped_model = keras_helpers.wrap_model()\n",
    "\n",
    "    # Initialise random search\n",
    "    rnd_search_cv = RandomizedSearchCV(wrapped_model, param_distribs, n_iter = 10, cv = 3)\n",
    "\n",
    "    # Name model\n",
    "    model_type = \"MLP_Opt_DC_Plant1\"\n",
    "    model_id = keras_helpers.name_model(model_type)\n",
    "    filepath_full = keras_helpers.make_save_string(model_id)\n",
    "\n",
    "    # Set save and earlystop callbacks\n",
    "    earlystop_cb = keras.callbacks.EarlyStopping(patience = 3)\n",
    "    checkpoint_cb = keras.callbacks.ModelCheckpoint(filepath = filepath_full, save_best_only = True)\n",
    "\n",
    "    # Set TensorBoard callback for logging\n",
    "    tb_logdir = tensorboard_helpers.get_run_logdir()\n",
    "    tensorboard_cb = keras.callbacks.TensorBoard(tb_logdir)\n",
    "\n",
    "    # Train model\n",
    "    rnd_search_cv.fit(X_train_pt1, y_train_pt1, epochs = 100, validation_data = (X_test_pt1, y_test_pt1), callbacks = [checkpoint_cb, earlystop_cb, tensorboard_cb], verbose = 0)"
   ]
  },
  {
   "cell_type": "code",
   "execution_count": 17,
   "metadata": {},
   "outputs": [
    {
     "output_type": "stream",
     "name": "stdout",
     "text": [
      "Model Path: C:\\Developer\\solar-power-generation-project\\Models\\WJ_MLP_Opt_DC_Plant1_2021_06_15-11_01_28.h5\n",
      "Model: \"sequential_21\"\n",
      "_________________________________________________________________\n",
      "Layer (type)                 Output Shape              Param #   \n",
      "=================================================================\n",
      "dense_285 (Dense)            (None, 100)               400       \n",
      "_________________________________________________________________\n",
      "dense_286 (Dense)            (None, 100)               10100     \n",
      "_________________________________________________________________\n",
      "dense_287 (Dense)            (None, 100)               10100     \n",
      "_________________________________________________________________\n",
      "dense_288 (Dense)            (None, 100)               10100     \n",
      "_________________________________________________________________\n",
      "dense_289 (Dense)            (None, 100)               10100     \n",
      "_________________________________________________________________\n",
      "dense_290 (Dense)            (None, 100)               10100     \n",
      "_________________________________________________________________\n",
      "dense_291 (Dense)            (None, 100)               10100     \n",
      "_________________________________________________________________\n",
      "dense_292 (Dense)            (None, 100)               10100     \n",
      "_________________________________________________________________\n",
      "dense_293 (Dense)            (None, 100)               10100     \n",
      "_________________________________________________________________\n",
      "dense_294 (Dense)            (None, 100)               10100     \n",
      "_________________________________________________________________\n",
      "dense_295 (Dense)            (None, 100)               10100     \n",
      "_________________________________________________________________\n",
      "dense_296 (Dense)            (None, 100)               10100     \n",
      "_________________________________________________________________\n",
      "dense_297 (Dense)            (None, 100)               10100     \n",
      "_________________________________________________________________\n",
      "dense_298 (Dense)            (None, 100)               10100     \n",
      "_________________________________________________________________\n",
      "dense_299 (Dense)            (None, 100)               10100     \n",
      "_________________________________________________________________\n",
      "dense_300 (Dense)            (None, 100)               10100     \n",
      "_________________________________________________________________\n",
      "dense_301 (Dense)            (None, 1)                 101       \n",
      "=================================================================\n",
      "Total params: 152,001\n",
      "Trainable params: 152,001\n",
      "Non-trainable params: 0\n",
      "_________________________________________________________________\n",
      "MLP_Opt_DC_pt1 rmse (Eval): 54.77244714107313\n",
      "MLP_Opt_DC_pt1 mae (Eval): 23.672577726326484\n",
      "MLP_Opt_DC_pt1 r2 (Eval): 0.9811779597394674\n"
     ]
    }
   ],
   "source": [
    "# Evaluate MLP Model (DC Power, Plant 1)\n",
    "\n",
    "if TRAIN_MODELS == False:\n",
    "    filepath_full = r'C:\\Developer\\solar-power-generation-project\\Models\\WJ_MLP_Opt_DC_Plant1_2021_06_15-11_01_28.h5'\n",
    "\n",
    "print(\"Model Path:\", filepath_full)\n",
    "\n",
    "wrapped_model = keras.models.load_model(filepath_full)\n",
    "\n",
    "# Summarise model\n",
    "wrapped_model.summary()\n",
    "\n",
    "# Make predictions\n",
    "dc_pred_eval = wrapped_model.predict(dc_evaluation_data_pt1)\n",
    "\n",
    "model_name = \"MLP_Opt_DC_pt1\"\n",
    "model_evaluation.evaluate_model(model_name, dc_eval_label_data_pt1, dc_pred_eval)\n",
    "rmse, mae, r2 = model_evaluation.return_model_evaluation_stats(dc_eval_label_data_pt1, dc_pred_eval)"
   ]
  },
  {
   "cell_type": "code",
   "execution_count": 18,
   "metadata": {},
   "outputs": [
    {
     "output_type": "stream",
     "name": "stdout",
     "text": [
      "[[0.78718932 0.86385524 0.75714748]\n [0.40111725 0.13940226 0.        ]\n [0.366359   0.24734289 0.16542722]\n ...\n [0.17626336 0.06610678 0.        ]\n [0.19348786 0.04786465 0.        ]\n [0.30564703 0.10208519 0.        ]]\n16031    1196.980000\n4052        0.000000\n71148     285.164286\n71234     140.678571\n24593     896.435714\n            ...     \n14020     872.093333\n50199      57.906667\n65768       0.000000\n50783       0.000000\n12524       0.000000\nName: DC_POWER, Length: 45957, dtype: float64\n"
     ]
    }
   ],
   "source": [
    "# Create train and test arrays (plant 2)\n",
    "X_train_pt2, X_test_pt2, y_train_pt2, y_test_pt2 = train_test_split(dc_power_training_data_pt2, dc_label_data_pt2, test_size = 0.2, random_state = 0)\n",
    "\n",
    "print(X_train_pt2)\n",
    "print(y_train_pt2)"
   ]
  },
  {
   "cell_type": "code",
   "execution_count": 19,
   "metadata": {},
   "outputs": [
    {
     "output_type": "stream",
     "name": "stdout",
     "text": [
      "Building Model ...\n",
      "Hidden Layers: 2, Neurons: 6, LR: 0.001\n",
      "Epoch 1/20\n",
      "1437/1437 [==============================] - 2s 1ms/step - loss: 195947.4769 - val_loss: 177463.9219\n",
      "Epoch 2/20\n",
      "1437/1437 [==============================] - 1s 1ms/step - loss: 159760.0966 - val_loss: 100184.2891\n",
      "Epoch 3/20\n",
      "1437/1437 [==============================] - 1s 1ms/step - loss: 86172.5268 - val_loss: 62383.9570\n",
      "Epoch 4/20\n",
      "1437/1437 [==============================] - 1s 1ms/step - loss: 56682.4975 - val_loss: 52640.6250\n",
      "Epoch 5/20\n",
      "1437/1437 [==============================] - 2s 1ms/step - loss: 49718.3835 - val_loss: 50611.1328\n",
      "Epoch 6/20\n",
      "1437/1437 [==============================] - 2s 1ms/step - loss: 49152.5908 - val_loss: 49678.6562\n",
      "Epoch 7/20\n",
      "1437/1437 [==============================] - 1s 995us/step - loss: 47428.5806 - val_loss: 49248.7969\n",
      "Epoch 8/20\n",
      "1437/1437 [==============================] - 2s 1ms/step - loss: 46986.5463 - val_loss: 49124.5273\n",
      "Epoch 9/20\n",
      "1437/1437 [==============================] - 2s 1ms/step - loss: 47625.5866 - val_loss: 49048.0508\n",
      "Epoch 10/20\n",
      "1437/1437 [==============================] - 2s 1ms/step - loss: 48493.1932 - val_loss: 48995.7227\n",
      "Epoch 11/20\n",
      "1437/1437 [==============================] - 1s 1ms/step - loss: 47423.4141 - val_loss: 48937.4805\n",
      "Epoch 12/20\n",
      "1437/1437 [==============================] - 2s 1ms/step - loss: 47328.5985 - val_loss: 48891.5273\n",
      "Epoch 13/20\n",
      "1437/1437 [==============================] - 3s 2ms/step - loss: 47720.0477 - val_loss: 48851.1094\n",
      "Epoch 14/20\n",
      "1437/1437 [==============================] - 2s 1ms/step - loss: 47481.9412 - val_loss: 48798.1055\n",
      "Epoch 15/20\n",
      "1437/1437 [==============================] - 2s 1ms/step - loss: 47809.4968 - val_loss: 48765.6055\n",
      "Epoch 16/20\n",
      "1437/1437 [==============================] - 2s 1ms/step - loss: 46652.0978 - val_loss: 48710.3320\n",
      "Epoch 17/20\n",
      "1437/1437 [==============================] - 1s 1ms/step - loss: 47995.5402 - val_loss: 48671.4023\n",
      "Epoch 18/20\n",
      "1437/1437 [==============================] - 2s 1ms/step - loss: 47047.2181 - val_loss: 48677.4688\n",
      "Epoch 19/20\n",
      "1437/1437 [==============================] - 2s 1ms/step - loss: 47386.8843 - val_loss: 48627.9141\n",
      "Epoch 20/20\n",
      "1437/1437 [==============================] - 1s 1ms/step - loss: 48371.1260 - val_loss: 48585.8828\n"
     ]
    }
   ],
   "source": [
    "# Initial MLP (Target - DC Power, Plant 2)\n",
    "\n",
    "if TRAIN_MODELS == True:\n",
    "    \n",
    "    # Clear existing models\n",
    "    keras.backend.clear_session()\n",
    "\n",
    "    # Build model\n",
    "    model = keras_helpers.build_multilayer_perceptron()\n",
    "\n",
    "    # Name model\n",
    "    model_type = \"MLP_DC_Plant2\"\n",
    "    model_id = keras_helpers.name_model(model_type)\n",
    "    filepath_full = keras_helpers.make_save_string(model_id)\n",
    "\n",
    "    # Set save and earlystop callbacks\n",
    "    earlystop_cb = keras.callbacks.EarlyStopping(patience = 5)\n",
    "    checkpoint_cb = keras.callbacks.ModelCheckpoint(filepath = filepath_full, save_best_only = True)\n",
    "\n",
    "    # Train model\n",
    "    model.fit(X_train_pt2, y_train_pt2, epochs = 20, validation_data = (X_test_pt2, y_test_pt2), callbacks =[checkpoint_cb, earlystop_cb])"
   ]
  },
  {
   "cell_type": "code",
   "execution_count": 20,
   "metadata": {},
   "outputs": [
    {
     "output_type": "stream",
     "name": "stdout",
     "text": [
      "Model Path: C:\\Developer\\solar-power-generation-project\\Models\\WJ_MLP_DC_Plant2_2021_06_15-11_17_41.h5\n",
      "Model: \"sequential\"\n",
      "_________________________________________________________________\n",
      "Layer (type)                 Output Shape              Param #   \n",
      "=================================================================\n",
      "dense (Dense)                (None, 6)                 24        \n",
      "_________________________________________________________________\n",
      "dense_1 (Dense)              (None, 6)                 42        \n",
      "_________________________________________________________________\n",
      "dense_2 (Dense)              (None, 1)                 7         \n",
      "=================================================================\n",
      "Total params: 73\n",
      "Trainable params: 73\n",
      "Non-trainable params: 0\n",
      "_________________________________________________________________\n",
      "MLP_DC rmse (Eval): 220.79794521453246\n",
      "MLP_DC mae (Eval): 100.84691823791688\n",
      "MLP_DC r2 (Eval): 0.6469278228861899\n"
     ]
    }
   ],
   "source": [
    "# Evaluate MLP Model (DC Power, Plant 2)\n",
    "\n",
    "if TRAIN_MODELS == False:\n",
    "    filepath_full = r'C:\\Developer\\solar-power-generation-project\\Models\\WJ_MLP_DC_Plant2_2021_06_15-11_17_41.h5'\n",
    "\n",
    "print(\"Model Path:\", filepath_full)\n",
    "\n",
    "# Load model\n",
    "model = keras.models.load_model(filepath_full)\n",
    "\n",
    "# Summarise model\n",
    "model.summary()\n",
    "\n",
    "# Make predictions\n",
    "dc_pred_eval = model.predict(dc_evaluation_data_pt2)\n",
    "\n",
    "# Determine model prediction stats\n",
    "model_name = \"MLP_DC\"\n",
    "model_evaluation.evaluate_model(model_name, dc_eval_label_data_pt2, dc_pred_eval)\n",
    "rmse, mae, r2 = model_evaluation.return_model_evaluation_stats(dc_eval_label_data_pt2, dc_pred_eval)"
   ]
  },
  {
   "cell_type": "code",
   "execution_count": 21,
   "metadata": {},
   "outputs": [
    {
     "output_type": "stream",
     "name": "stdout",
     "text": [
      "c:\\Developer\\solar-power-generation-project\\Models\\TensorBoard\\run_2021_06_15-11_18_15\n"
     ]
    }
   ],
   "source": [
    "# Setup tensorboard for logging \n",
    "x = tensorboard_helpers.get_run_logdir()\n",
    "\n",
    "# Print tensorboard directory\n",
    "print(x)"
   ]
  },
  {
   "cell_type": "code",
   "execution_count": 22,
   "metadata": {},
   "outputs": [
    {
     "output_type": "stream",
     "name": "stdout",
     "text": [
      "Building Model ...\n",
      "Hidden Layers: 16, Neurons: 10, LR: 0.001\n",
      "479/479 [==============================] - 0s 814us/step - loss: 136779.6562\n",
      "Building Model ...\n",
      "Hidden Layers: 16, Neurons: 10, LR: 0.001\n",
      "479/479 [==============================] - 0s 903us/step - loss: 46643.7812\n",
      "Building Model ...\n",
      "Hidden Layers: 16, Neurons: 10, LR: 0.001\n",
      "479/479 [==============================] - 0s 839us/step - loss: 48796.4688\n",
      "Building Model ...\n",
      "Hidden Layers: 8, Neurons: 5, LR: 0.0001\n",
      "479/479 [==============================] - 0s 707us/step - loss: 47992.5898\n",
      "Building Model ...\n",
      "Hidden Layers: 8, Neurons: 5, LR: 0.0001\n",
      "479/479 [==============================] - 0s 900us/step - loss: 46642.5938\n",
      "Building Model ...\n",
      "Hidden Layers: 8, Neurons: 5, LR: 0.0001\n",
      "479/479 [==============================] - 0s 699us/step - loss: 194434.7031\n",
      "Building Model ...\n",
      "Hidden Layers: 4, Neurons: 10, LR: 0.01\n",
      "479/479 [==============================] - 0s 986us/step - loss: 46412.8750\n",
      "Building Model ...\n",
      "Hidden Layers: 4, Neurons: 10, LR: 0.01\n",
      "479/479 [==============================] - 0s 755us/step - loss: 46685.9414\n",
      "Building Model ...\n",
      "Hidden Layers: 4, Neurons: 10, LR: 0.01\n",
      "479/479 [==============================] - 0s 684us/step - loss: 48093.4453\n",
      "Building Model ...\n",
      "Hidden Layers: 16, Neurons: 10, LR: 0.01\n",
      "479/479 [==============================] - 1s 1ms/step - loss: 55696.7578\n",
      "Building Model ...\n",
      "Hidden Layers: 16, Neurons: 10, LR: 0.01\n",
      "479/479 [==============================] - 1s 1ms/step - loss: 47700.2969\n",
      "Building Model ...\n",
      "Hidden Layers: 16, Neurons: 10, LR: 0.01\n",
      "479/479 [==============================] - 0s 930us/step - loss: 48176.6641\n",
      "Building Model ...\n",
      "Hidden Layers: 8, Neurons: 140, LR: 0.0001\n",
      "479/479 [==============================] - 1s 1ms/step - loss: 46802.5273\n",
      "Building Model ...\n",
      "Hidden Layers: 8, Neurons: 140, LR: 0.0001\n",
      "479/479 [==============================] - 1s 1ms/step - loss: 46270.9805\n",
      "Building Model ...\n",
      "Hidden Layers: 8, Neurons: 140, LR: 0.0001\n",
      "479/479 [==============================] - 1s 2ms/step - loss: 47759.6602\n",
      "Building Model ...\n",
      "Hidden Layers: 16, Neurons: 120, LR: 0.0001\n",
      "479/479 [==============================] - 1s 3ms/step - loss: 46624.7617\n",
      "Building Model ...\n",
      "Hidden Layers: 16, Neurons: 120, LR: 0.0001\n",
      "479/479 [==============================] - 1s 2ms/step - loss: 48272.2148\n",
      "Building Model ...\n",
      "Hidden Layers: 16, Neurons: 120, LR: 0.0001\n",
      "479/479 [==============================] - 1s 2ms/step - loss: 49215.8203\n",
      "Building Model ...\n",
      "Hidden Layers: 16, Neurons: 180, LR: 0.1\n",
      "479/479 [==============================] - 1s 3ms/step - loss: nan\n",
      "Building Model ...\n",
      "Hidden Layers: 16, Neurons: 180, LR: 0.1\n",
      "479/479 [==============================] - 2s 3ms/step - loss: nan\n",
      "Building Model ...\n",
      "Hidden Layers: 16, Neurons: 180, LR: 0.1\n",
      "479/479 [==============================] - 2s 4ms/step - loss: nan\n",
      "Building Model ...\n",
      "Hidden Layers: 8, Neurons: 140, LR: 0.01\n",
      "479/479 [==============================] - 1s 2ms/step - loss: 52114.8867\n",
      "Building Model ...\n",
      "Hidden Layers: 8, Neurons: 140, LR: 0.01\n",
      "479/479 [==============================] - 1s 2ms/step - loss: 47599.2148\n",
      "Building Model ...\n",
      "Hidden Layers: 8, Neurons: 140, LR: 0.01\n",
      "479/479 [==============================] - 1s 2ms/step - loss: 49095.0664\n",
      "Building Model ...\n",
      "Hidden Layers: 12, Neurons: 120, LR: 0.0001\n",
      "479/479 [==============================] - 1s 1ms/step - loss: 46073.2070\n",
      "Building Model ...\n",
      "Hidden Layers: 12, Neurons: 120, LR: 0.0001\n",
      "479/479 [==============================] - 0s 993us/step - loss: 45447.0312\n",
      "Building Model ...\n",
      "Hidden Layers: 12, Neurons: 120, LR: 0.0001\n",
      "479/479 [==============================] - 1s 1ms/step - loss: 49821.9883\n",
      "Building Model ...\n",
      "Hidden Layers: 8, Neurons: 140, LR: 0.001\n",
      "479/479 [==============================] - 0s 1ms/step - loss: 47906.3555\n",
      "Building Model ...\n",
      "Hidden Layers: 8, Neurons: 140, LR: 0.001\n",
      "479/479 [==============================] - 1s 1ms/step - loss: 47089.2500\n",
      "Building Model ...\n",
      "Hidden Layers: 8, Neurons: 140, LR: 0.001\n",
      "479/479 [==============================] - 1s 1ms/step - loss: 54424.9141\n",
      "Building Model ...\n",
      "Hidden Layers: 8, Neurons: 140, LR: 0.0001\n"
     ]
    }
   ],
   "source": [
    "# Optimised MLP (Target - DC Power, Plant 2)\n",
    "\n",
    "if TRAIN_MODELS == True:\n",
    "    \n",
    "    # Clear existing models\n",
    "    keras.backend.clear_session()\n",
    "\n",
    "    # Establish parameter distribution for tuning\n",
    "    param_distribs = {\n",
    "        \"n_hidden\": (4, 8, 12, 16),\n",
    "        \"n_neurons\": (5, 10, 20, 40, 60, 80, 100, 120, 140, 160, 180, 200),\n",
    "        \"learning_rate\": (1e-1, 1e-2, 1e-3, 1e-4),\n",
    "    }\n",
    "\n",
    "    # Build model\n",
    "    wrapped_model = keras_helpers.wrap_model()\n",
    "\n",
    "    # Initialise random search\n",
    "    rnd_search_cv = RandomizedSearchCV(wrapped_model, param_distribs, n_iter = 10, cv = 3)\n",
    "\n",
    "    # Name model\n",
    "    model_type = \"MLP_Opt_DC_Plant2\"\n",
    "    model_id = keras_helpers.name_model(model_type)\n",
    "    filepath_full = keras_helpers.make_save_string(model_id)\n",
    "\n",
    "    # Set save and earlystop callbacks\n",
    "    earlystop_cb = keras.callbacks.EarlyStopping(patience = 3)\n",
    "    checkpoint_cb = keras.callbacks.ModelCheckpoint(filepath = filepath_full, save_best_only = True)\n",
    "\n",
    "    # Set TensorBoard callback for logging\n",
    "    tb_logdir = tensorboard_helpers.get_run_logdir()\n",
    "    tensorboard_cb = keras.callbacks.TensorBoard(tb_logdir)\n",
    "\n",
    "    # Train model\n",
    "    rnd_search_cv.fit(X_train_pt2, y_train_pt2, epochs = 100, validation_data = (X_test_pt2, y_test_pt2), callbacks = [checkpoint_cb, earlystop_cb, tensorboard_cb], verbose = 0)"
   ]
  },
  {
   "cell_type": "code",
   "execution_count": 23,
   "metadata": {},
   "outputs": [
    {
     "output_type": "stream",
     "name": "stdout",
     "text": [
      "Model Path: C:\\Developer\\solar-power-generation-project\\Models\\WJ_MLP_Opt_DC_Plant1_2021_06_15-11_18_15.h5\n",
      "Model: \"sequential_16\"\n",
      "_________________________________________________________________\n",
      "Layer (type)                 Output Shape              Param #   \n",
      "=================================================================\n",
      "dense_188 (Dense)            (None, 120)               480       \n",
      "_________________________________________________________________\n",
      "dense_189 (Dense)            (None, 120)               14520     \n",
      "_________________________________________________________________\n",
      "dense_190 (Dense)            (None, 120)               14520     \n",
      "_________________________________________________________________\n",
      "dense_191 (Dense)            (None, 120)               14520     \n",
      "_________________________________________________________________\n",
      "dense_192 (Dense)            (None, 120)               14520     \n",
      "_________________________________________________________________\n",
      "dense_193 (Dense)            (None, 120)               14520     \n",
      "_________________________________________________________________\n",
      "dense_194 (Dense)            (None, 120)               14520     \n",
      "_________________________________________________________________\n",
      "dense_195 (Dense)            (None, 120)               14520     \n",
      "_________________________________________________________________\n",
      "dense_196 (Dense)            (None, 120)               14520     \n",
      "_________________________________________________________________\n",
      "dense_197 (Dense)            (None, 120)               14520     \n",
      "_________________________________________________________________\n",
      "dense_198 (Dense)            (None, 120)               14520     \n",
      "_________________________________________________________________\n",
      "dense_199 (Dense)            (None, 120)               14520     \n",
      "_________________________________________________________________\n",
      "dense_200 (Dense)            (None, 120)               14520     \n",
      "_________________________________________________________________\n",
      "dense_201 (Dense)            (None, 120)               14520     \n",
      "_________________________________________________________________\n",
      "dense_202 (Dense)            (None, 120)               14520     \n",
      "_________________________________________________________________\n",
      "dense_203 (Dense)            (None, 120)               14520     \n",
      "_________________________________________________________________\n",
      "dense_204 (Dense)            (None, 1)                 121       \n",
      "=================================================================\n",
      "Total params: 218,401\n",
      "Trainable params: 218,401\n",
      "Non-trainable params: 0\n",
      "_________________________________________________________________\n",
      "MLP_Opt_DC_pt2 rmse (Eval): 217.40125416200996\n",
      "MLP_Opt_DC_pt2 mae (Eval): 97.66611661889732\n",
      "MLP_Opt_DC_pt2 r2 (Eval): 0.6577073837151397\n"
     ]
    }
   ],
   "source": [
    "# Evaluate MLP Model (DC Power, Plant 2)\n",
    "\n",
    "if TRAIN_MODELS == False:\n",
    "    filepath_full = r'C:\\Developer\\solar-power-generation-project\\Models\\WJ_MLP_Opt_DC_2021_01_13-15_30_27.h5'\n",
    "\n",
    "print(\"Model Path:\", filepath_full)\n",
    "\n",
    "wrapped_model = keras.models.load_model(filepath_full)\n",
    "\n",
    "# Summarise model\n",
    "wrapped_model.summary()\n",
    "\n",
    "# Make predictions\n",
    "dc_pred_eval = wrapped_model.predict(dc_evaluation_data_pt2)\n",
    "\n",
    "model_name = \"MLP_Opt_DC_pt2\"\n",
    "model_evaluation.evaluate_model(model_name, dc_eval_label_data_pt2, dc_pred_eval)\n",
    "rmse, mae, r2 = model_evaluation.return_model_evaluation_stats(dc_eval_label_data_pt2, dc_pred_eval)"
   ]
  }
 ]
}