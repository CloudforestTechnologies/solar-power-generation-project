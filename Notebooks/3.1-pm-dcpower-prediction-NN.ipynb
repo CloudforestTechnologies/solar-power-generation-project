{
 "metadata": {
  "language_info": {
   "codemirror_mode": {
    "name": "ipython",
    "version": 3
   },
   "file_extension": ".py",
   "mimetype": "text/x-python",
   "name": "python",
   "nbconvert_exporter": "python",
   "pygments_lexer": "ipython3",
   "version": "3.6.6"
  },
  "orig_nbformat": 2,
  "kernelspec": {
   "name": "python3",
   "display_name": "Python 3.6.6 64-bit"
  },
  "metadata": {
   "interpreter": {
    "hash": "3f92393cf9312ed24f4ccae2fdf5dee1635074d2034ccfaec2d070f8b1ae4f04"
   }
  },
  "interpreter": {
   "hash": "3f92393cf9312ed24f4ccae2fdf5dee1635074d2034ccfaec2d070f8b1ae4f04"
  }
 },
 "nbformat": 4,
 "nbformat_minor": 2,
 "cells": [
  {
   "cell_type": "code",
   "execution_count": 1,
   "metadata": {},
   "outputs": [
    {
     "output_type": "stream",
     "name": "stdout",
     "text": [
      "keras version = 2.4.0\nnumpy version = 1.19.4\nsklearn version = 0.22.2.post1\ntensorflow version = 2.4.1\n"
     ]
    }
   ],
   "source": [
    "# Module Importations\n",
    "import sklearn\n",
    "from sklearn.metrics import mean_absolute_error\n",
    "from sklearn.metrics import mean_squared_error\n",
    "from sklearn.model_selection import train_test_split\n",
    "from sklearn.model_selection import RandomizedSearchCV\n",
    "from sklearn.preprocessing import MinMaxScaler\n",
    "import tensorflow as tf\n",
    "import tensorflow.keras as keras\n",
    "import numpy as np\n",
    "\n",
    "# Print versioning information\n",
    "print('keras version =', keras.__version__)\n",
    "print('numpy version =', np.__version__)  \n",
    "print('sklearn version =', sklearn.__version__)\n",
    "print('tensorflow version =', tf.__version__)"
   ]
  },
  {
   "cell_type": "code",
   "execution_count": 2,
   "metadata": {},
   "outputs": [
    {
     "output_type": "stream",
     "name": "stdout",
     "text": [
      "[keras_helpers]Tensorflow version: 2.4.1\n[keras_helpers]keras version = 2.4.0\n"
     ]
    }
   ],
   "source": [
    "# Custom Module Imports\n",
    "from Source.data import load_data\n",
    "from Source.data import split_data\n",
    "from Source.models import model_evaluation\n",
    "from Source.models import keras_helpers\n",
    "from Source.models import tensorboard_helpers"
   ]
  },
  {
   "cell_type": "code",
   "execution_count": 3,
   "metadata": {},
   "outputs": [],
   "source": [
    "# Constants\n",
    "TRAIN_MODELS = True"
   ]
  },
  {
   "cell_type": "code",
   "execution_count": 4,
   "metadata": {},
   "outputs": [
    {
     "output_type": "stream",
     "name": "stdout",
     "text": [
      "Loading pickled dataframe started ...\n",
      "Loading pickled dataframe complete ...\n",
      "Loading pickled dataframe started ...\n",
      "Loading pickled dataframe complete ...\n"
     ]
    }
   ],
   "source": [
    "# Load dataset\n",
    "df_plant1 = load_data.load_pickled_data(\"df_plant1_feat_eng.pkl\")\n",
    "df_plant2 = load_data.load_pickled_data(\"df_plant2_feat_eng.pkl\")"
   ]
  },
  {
   "cell_type": "code",
   "execution_count": 5,
   "metadata": {},
   "outputs": [
    {
     "output_type": "stream",
     "name": "stdout",
     "text": [
      "<class 'pandas.core.frame.DataFrame'>\nInt64Index: 71808 entries, 0 to 71806\nData columns (total 20 columns):\n #   Column           Non-Null Count  Dtype         \n---  ------           --------------  -----         \n 0   DATE_TIME        71808 non-null  datetime64[ns]\n 1   PLANT_ID         71808 non-null  object        \n 2   SOURCE_KEY       71808 non-null  object        \n 3   DC_POWER         71808 non-null  float64       \n 4   DAILY_YIELD      71808 non-null  float64       \n 5   AMB_TEMP         71808 non-null  float64       \n 6   MOD_TEMP         71808 non-null  float64       \n 7   IRRADIATION      71808 non-null  float64       \n 8   DATE             71808 non-null  object        \n 9   TIME_OF_DAY      71808 non-null  object        \n 10  HOUR             71808 non-null  int64         \n 11  DAY              71808 non-null  int64         \n 12  WEEKDAY          71808 non-null  object        \n 13  MONTH            71808 non-null  int64         \n 14  YEAR             71808 non-null  int64         \n 15  AVG_HR_DC        71808 non-null  float64       \n 16  AVG_HR_YIELD     71808 non-null  float64       \n 17  AVG_DAILY_DC     71808 non-null  float64       \n 18  AVG_DAILY_YIELD  71808 non-null  float64       \n 19  DC-IRR_RATIO     71808 non-null  float64       \ndtypes: datetime64[ns](1), float64(10), int64(4), object(5)\nmemory usage: 11.5+ MB\n"
     ]
    }
   ],
   "source": [
    "df_plant1.info()"
   ]
  },
  {
   "cell_type": "code",
   "execution_count": 6,
   "metadata": {},
   "outputs": [
    {
     "output_type": "stream",
     "name": "stdout",
     "text": [
      "<class 'pandas.core.frame.DataFrame'>\nInt64Index: 71808 entries, 0 to 71807\nData columns (total 4 columns):\n #   Column       Non-Null Count  Dtype  \n---  ------       --------------  -----  \n 0   DC_POWER     71808 non-null  float64\n 1   AMB_TEMP     71808 non-null  float64\n 2   MOD_TEMP     71808 non-null  float64\n 3   IRRADIATION  71808 non-null  float64\ndtypes: float64(4)\nmemory usage: 2.7 MB\n"
     ]
    }
   ],
   "source": [
    "# Drop unrequired data columns\n",
    "\n",
    "# Identify columns to drop\n",
    "cols_to_keep = ['DC_POWER', 'AMB_TEMP', 'MOD_TEMP', 'IRRADIATION', 'TIME_FLOAT']\n",
    "cols_to_drop = []\n",
    "\n",
    "for col in df_plant1.columns:\n",
    "    if col not in cols_to_keep:\n",
    "        cols_to_drop.append(col)\n",
    "\n",
    "for df in [df_plant1, df_plant2]:\n",
    "    df.drop(cols_to_drop, axis = 1, inplace = True)\n",
    "\n",
    "df_plant2.info()"
   ]
  },
  {
   "cell_type": "code",
   "execution_count": 7,
   "metadata": {},
   "outputs": [
    {
     "output_type": "stream",
     "name": "stdout",
     "text": [
      "Original Data Items: 71808\n",
      "Training Data Items: 57447\n",
      "Evaluation Data Items: 14361\n",
      "Original Data Items: 71808\n",
      "Training Data Items: 57447\n",
      "Evaluation Data Items: 14361\n"
     ]
    }
   ],
   "source": [
    "# Split data into training / evaluation sets\n",
    "training_set_plant1, evaluation_set_plant1 = split_data.split_train_eval(df_plant1, 0.2)\n",
    "training_set_plant2, evaluation_set_plant2 = split_data.split_train_eval(df_plant2, 0.2)"
   ]
  },
  {
   "cell_type": "code",
   "execution_count": 8,
   "metadata": {},
   "outputs": [],
   "source": [
    "# Create DC Power Target datasets\n",
    "\n",
    "# Modify training sets\n",
    "dc_power_training_data_pt1 = training_set_plant1.drop('DC_POWER', axis = 1)\n",
    "dc_label_data_pt1 = training_set_plant1['DC_POWER'].copy()\n",
    "\n",
    "dc_power_training_data_pt2 = training_set_plant2.drop('DC_POWER', axis = 1)\n",
    "dc_label_data_pt2 = training_set_plant2['DC_POWER'].copy()\n",
    "\n",
    "# Modify evaluation sets\n",
    "dc_evaluation_data_pt1 = evaluation_set_plant1.drop('DC_POWER', axis = 1)\n",
    "dc_eval_label_data_pt1 = evaluation_set_plant1['DC_POWER'].copy()\n",
    "\n",
    "dc_evaluation_data_pt2 = evaluation_set_plant2.drop('DC_POWER', axis = 1)\n",
    "dc_eval_label_data_pt2 = evaluation_set_plant2['DC_POWER'].copy()"
   ]
  },
  {
   "cell_type": "code",
   "execution_count": 9,
   "metadata": {},
   "outputs": [
    {
     "output_type": "stream",
     "name": "stdout",
     "text": [
      "Plant 1:\nFit Train: (57447, 3)\nFit Label: (57447,)\nEval Train: (14361, 3)\nEval Label: (14361,)\nPlant 2:\nFit Train: (57447, 3)\nFit Label: (57447,)\nEval Train: (14361, 3)\nEval Label: (14361,)\n"
     ]
    }
   ],
   "source": [
    "# Check shape of arrays\n",
    "print('Plant 1:')\n",
    "print('Fit Train:', dc_power_training_data_pt1.shape)\n",
    "print('Fit Label:', dc_label_data_pt1.shape)\n",
    "print('Eval Train:', dc_evaluation_data_pt1.shape)\n",
    "print('Eval Label:', dc_eval_label_data_pt1.shape)\n",
    "\n",
    "print('Plant 2:')\n",
    "print('Fit Train:', dc_power_training_data_pt2.shape)\n",
    "print('Fit Label:', dc_label_data_pt2.shape)\n",
    "print('Eval Train:', dc_evaluation_data_pt2.shape)\n",
    "print('Eval Label:', dc_eval_label_data_pt2.shape)"
   ]
  },
  {
   "cell_type": "code",
   "execution_count": 10,
   "metadata": {},
   "outputs": [],
   "source": [
    "# Normalise Inputs\n",
    "normalise_inputs = True\n",
    "normalise_outputs = False\n",
    "\n",
    "normaliser = MinMaxScaler()\n",
    "\n",
    "if normalise_inputs == True:\n",
    "\n",
    "    # Transform training sets\n",
    "    dc_power_training_data_pt1 = normaliser.fit_transform(dc_power_training_data_pt1)\n",
    "    dc_power_training_data_pt2 = normaliser.fit_transform(dc_power_training_data_pt2)\n",
    "\n",
    "    # Transform evaluation sets\n",
    "    dc_evaluation_data_pt1 = normaliser.fit_transform(dc_evaluation_data_pt1)\n",
    "    dc_evaluation_data_pt2 = normaliser.fit_transform(dc_evaluation_data_pt2)\n",
    "\n",
    "if normalise_outputs == True:\n",
    "\n",
    "    # Transform training sets\n",
    "    dc_label_data_pt1 = normaliser.fit_transform(dc_label_data_pt1)\n",
    "    dc_label_data_pt2 = normaliser.fit_transform(dc_label_data_pt2)\n",
    "\n",
    "    # Transform evaluation sets\n",
    "    dc_eval_label_data_pt1 = normaliser.fit_transform(dc_eval_label_data_pt1)\n",
    "    dc_eval_label_data_pt2 = normaliser.fit_transform(dc_eval_label_data_pt2)"
   ]
  },
  {
   "cell_type": "code",
   "execution_count": 11,
   "metadata": {},
   "outputs": [
    {
     "output_type": "execute_result",
     "data": {
      "text/plain": [
       "array([[0.69418927, 0.39836143, 0.24685468],\n",
       "       [0.10297219, 0.06348367, 0.02010156],\n",
       "       [0.10195445, 0.0510256 , 0.        ],\n",
       "       ...,\n",
       "       [0.3994604 , 0.20367104, 0.07955333],\n",
       "       [0.31878711, 0.09578908, 0.        ],\n",
       "       [0.45269604, 0.48094315, 0.44556097]])"
      ]
     },
     "metadata": {},
     "execution_count": 11
    }
   ],
   "source": [
    "# Check values after normalisation\n",
    "dc_power_training_data_pt1"
   ]
  },
  {
   "cell_type": "code",
   "execution_count": 12,
   "metadata": {},
   "outputs": [
    {
     "output_type": "stream",
     "name": "stdout",
     "text": [
      "[[0.77310878 0.77031963 0.62255649]\n [0.31338184 0.08745068 0.        ]\n [0.26876718 0.23906034 0.09710624]\n ...\n [0.11465821 0.06056427 0.        ]\n [0.15250767 0.05541926 0.        ]\n [0.25835535 0.07128375 0.        ]]\n16030    936.842857\n4052       0.000000\n71148    178.350000\n71233    154.514286\n24592    414.100000\n            ...    \n14020    560.000000\n50198     31.471429\n65767      0.000000\n50797      0.000000\n12524      0.000000\nName: DC_POWER, Length: 45957, dtype: float64\n"
     ]
    }
   ],
   "source": [
    "# Create train and test arrays (plant 1)\n",
    "X_train_pt1, X_test_pt1, y_train_pt1, y_test_pt1 = train_test_split(dc_power_training_data_pt1, dc_label_data_pt1, test_size = 0.2, random_state = 0)\n",
    "\n",
    "print(X_train_pt1)\n",
    "print(y_train_pt1)"
   ]
  },
  {
   "cell_type": "code",
   "execution_count": 13,
   "metadata": {},
   "outputs": [
    {
     "output_type": "stream",
     "name": "stdout",
     "text": [
      "Building Model ...\n",
      "Hidden Layers: 2, Neurons: 6, LR: 0.001\n",
      "Epoch 1/20\n",
      "1437/1437 [==============================] - 3s 2ms/step - loss: 250894.5647 - val_loss: 210326.7031\n",
      "Epoch 2/20\n",
      "1437/1437 [==============================] - 1s 943us/step - loss: 179945.4961 - val_loss: 89436.4531\n",
      "Epoch 3/20\n",
      "1437/1437 [==============================] - 1s 997us/step - loss: 76186.7619 - val_loss: 49187.0430\n",
      "Epoch 4/20\n",
      "1437/1437 [==============================] - 1s 950us/step - loss: 41035.7110 - val_loss: 20125.5508\n",
      "Epoch 5/20\n",
      "1437/1437 [==============================] - 1s 954us/step - loss: 14779.6260 - val_loss: 8065.3442\n",
      "Epoch 6/20\n",
      "1437/1437 [==============================] - 1s 933us/step - loss: 7337.7965 - val_loss: 6379.6616\n",
      "Epoch 7/20\n",
      "1437/1437 [==============================] - 1s 974us/step - loss: 6010.8275 - val_loss: 5434.2432\n",
      "Epoch 8/20\n",
      "1437/1437 [==============================] - 1s 964us/step - loss: 4624.8989 - val_loss: 4835.4912\n",
      "Epoch 9/20\n",
      "1437/1437 [==============================] - 2s 1ms/step - loss: 4595.8221 - val_loss: 4478.1060\n",
      "Epoch 10/20\n",
      "1437/1437 [==============================] - 3s 2ms/step - loss: 3660.3926 - val_loss: 4320.3735\n",
      "Epoch 11/20\n",
      "1437/1437 [==============================] - 1s 1ms/step - loss: 3660.4018 - val_loss: 4264.1997\n",
      "Epoch 12/20\n",
      "1437/1437 [==============================] - 1s 961us/step - loss: 3762.7548 - val_loss: 4249.6250\n",
      "Epoch 13/20\n",
      "1437/1437 [==============================] - 1s 952us/step - loss: 3586.5323 - val_loss: 4213.9946\n",
      "Epoch 14/20\n",
      "1437/1437 [==============================] - 1s 953us/step - loss: 3654.0456 - val_loss: 4190.9902\n",
      "Epoch 15/20\n",
      "1437/1437 [==============================] - 1s 989us/step - loss: 3657.3479 - val_loss: 4158.4614\n",
      "Epoch 16/20\n",
      "1437/1437 [==============================] - 1s 986us/step - loss: 3788.3795 - val_loss: 4128.7979\n",
      "Epoch 17/20\n",
      "1437/1437 [==============================] - 1s 961us/step - loss: 3220.1221 - val_loss: 4096.5991\n",
      "Epoch 18/20\n",
      "1437/1437 [==============================] - 1s 960us/step - loss: 3436.7518 - val_loss: 4075.1633\n",
      "Epoch 19/20\n",
      "1437/1437 [==============================] - 1s 959us/step - loss: 3390.9741 - val_loss: 4037.2168\n",
      "Epoch 20/20\n",
      "1437/1437 [==============================] - 1s 920us/step - loss: 3604.2144 - val_loss: 4017.8577\n"
     ]
    }
   ],
   "source": [
    "# Initial MLP (Target - DC Power, Plant 1)\n",
    "\n",
    "if TRAIN_MODELS == True:\n",
    "    # Clear existing models\n",
    "    keras.backend.clear_session()\n",
    "\n",
    "    # Build model\n",
    "    model = keras_helpers.build_multilayer_perceptron()\n",
    "\n",
    "    # Name model\n",
    "    model_type = \"MLP_DC_Plant1\"\n",
    "    model_id = keras_helpers.name_model(model_type)\n",
    "    filepath_full = keras_helpers.make_save_string(model_id)\n",
    "\n",
    "    # Set save and earlystop callbacks\n",
    "    earlystop_cb = keras.callbacks.EarlyStopping(patience = 5)\n",
    "    checkpoint_cb = keras.callbacks.ModelCheckpoint(filepath = filepath_full, save_best_only = True)\n",
    "\n",
    "    # Train model\n",
    "    model.fit(X_train_pt1, y_train_pt1, epochs = 20, validation_data = (X_test_pt1, y_test_pt1), callbacks =[checkpoint_cb, earlystop_cb])"
   ]
  },
  {
   "cell_type": "code",
   "execution_count": 14,
   "metadata": {},
   "outputs": [
    {
     "output_type": "stream",
     "name": "stdout",
     "text": [
      "Model Path: C:\\Developer\\solar-power-generation-project\\Models\\WJ_MLP_DC_Plant1_2021_06_17-10_06_45.h5\n",
      "Model: \"sequential\"\n",
      "_________________________________________________________________\n",
      "Layer (type)                 Output Shape              Param #   \n",
      "=================================================================\n",
      "dense (Dense)                (None, 6)                 24        \n",
      "_________________________________________________________________\n",
      "dense_1 (Dense)              (None, 6)                 42        \n",
      "_________________________________________________________________\n",
      "dense_2 (Dense)              (None, 1)                 7         \n",
      "=================================================================\n",
      "Total params: 73\n",
      "Trainable params: 73\n",
      "Non-trainable params: 0\n",
      "_________________________________________________________________\n",
      "MLP_DC_Plant1 rmse (Eval): 57.95040260050794\n",
      "MLP_DC_Plant1 mae (Eval): 25.128179285486347\n",
      "MLP_DC_Plant1 r2 (Eval): 0.9789304469388972\n"
     ]
    }
   ],
   "source": [
    "# Evaluate MLP Model (DC Power, Plant 1)\n",
    "\n",
    "if TRAIN_MODELS == False:\n",
    "    filepath_full = r'C:\\Developer\\solar-power-generation-project\\Models\\WJ_MLP_DC_Plant1_2021_06_15-11_00_49.h5'\n",
    "\n",
    "print(\"Model Path:\", filepath_full)\n",
    "\n",
    "# Load model\n",
    "model = keras.models.load_model(filepath_full)\n",
    "\n",
    "# Summarise model\n",
    "model.summary()\n",
    "\n",
    "# Make predictions\n",
    "dc_pred_eval = model.predict(dc_evaluation_data_pt1)\n",
    "\n",
    "# Determine model prediction stats\n",
    "model_name = \"MLP_DC_Plant1\"\n",
    "model_evaluation.evaluate_model(model_name, dc_eval_label_data_pt1, dc_pred_eval)\n",
    "rmse, mae, r2 = model_evaluation.return_model_evaluation_stats(dc_eval_label_data_pt1, dc_pred_eval)"
   ]
  },
  {
   "cell_type": "code",
   "execution_count": 15,
   "metadata": {},
   "outputs": [
    {
     "output_type": "stream",
     "name": "stdout",
     "text": [
      "c:\\Developer\\solar-power-generation-project\\Models\\TensorBoard\\run_2021_06_17-10_07_18\n"
     ]
    }
   ],
   "source": [
    "# Setup tensorboard for logging \n",
    "x = tensorboard_helpers.get_run_logdir()\n",
    "\n",
    "# Print tensorboard directory\n",
    "print(x)"
   ]
  },
  {
   "cell_type": "code",
   "execution_count": 16,
   "metadata": {},
   "outputs": [
    {
     "output_type": "stream",
     "name": "stdout",
     "text": [
      "Building Model ...\n",
      "Hidden Layers: 8, Neurons: 20, LR: 0.001\n",
      "479/479 [==============================] - 0s 712us/step - loss: 3837.6233\n",
      "Building Model ...\n",
      "Hidden Layers: 8, Neurons: 20, LR: 0.001\n",
      "479/479 [==============================] - 0s 840us/step - loss: 3184.5522\n",
      "Building Model ...\n",
      "Hidden Layers: 8, Neurons: 20, LR: 0.001\n",
      "479/479 [==============================] - 1s 1ms/step - loss: 2839.2083\n",
      "Building Model ...\n",
      "Hidden Layers: 12, Neurons: 80, LR: 0.1\n",
      "479/479 [==============================] - 0s 837us/step - loss: 160671.8750\n",
      "Building Model ...\n",
      "Hidden Layers: 12, Neurons: 80, LR: 0.1\n",
      "479/479 [==============================] - 0s 878us/step - loss: 164916.5312\n",
      "Building Model ...\n",
      "Hidden Layers: 12, Neurons: 80, LR: 0.1\n",
      "479/479 [==============================] - 0s 881us/step - loss: 161420.1719\n",
      "Building Model ...\n",
      "Hidden Layers: 4, Neurons: 40, LR: 0.1\n",
      "479/479 [==============================] - 0s 775us/step - loss: 5897.8755\n",
      "Building Model ...\n",
      "Hidden Layers: 4, Neurons: 40, LR: 0.1\n",
      "479/479 [==============================] - 0s 667us/step - loss: 6127.0962\n",
      "Building Model ...\n",
      "Hidden Layers: 4, Neurons: 40, LR: 0.1\n",
      "479/479 [==============================] - 0s 797us/step - loss: 4242.0674\n",
      "Building Model ...\n",
      "Hidden Layers: 16, Neurons: 5, LR: 0.0001\n",
      "479/479 [==============================] - 0s 822us/step - loss: 3577.1191\n",
      "Building Model ...\n",
      "Hidden Layers: 16, Neurons: 5, LR: 0.0001\n",
      "479/479 [==============================] - 0s 786us/step - loss: 249876.6406\n",
      "Building Model ...\n",
      "Hidden Layers: 16, Neurons: 5, LR: 0.0001\n",
      "479/479 [==============================] - 0s 784us/step - loss: 250032.6719\n",
      "Building Model ...\n",
      "Hidden Layers: 12, Neurons: 10, LR: 0.1\n",
      "479/479 [==============================] - 0s 812us/step - loss: 161377.2656\n",
      "Building Model ...\n",
      "Hidden Layers: 12, Neurons: 10, LR: 0.1\n",
      "479/479 [==============================] - 0s 762us/step - loss: 163033.4062\n",
      "Building Model ...\n",
      "Hidden Layers: 12, Neurons: 10, LR: 0.1\n",
      "479/479 [==============================] - 0s 816us/step - loss: 161017.9375\n",
      "Building Model ...\n",
      "Hidden Layers: 20, Neurons: 10, LR: 0.1\n",
      "479/479 [==============================] - 1s 1ms/step - loss: 161220.4844\n",
      "Building Model ...\n",
      "Hidden Layers: 20, Neurons: 10, LR: 0.1\n",
      "479/479 [==============================] - 1s 2ms/step - loss: 161495.3438\n",
      "Building Model ...\n",
      "Hidden Layers: 20, Neurons: 10, LR: 0.1\n",
      "479/479 [==============================] - 0s 931us/step - loss: 163932.1562\n",
      "Building Model ...\n",
      "Hidden Layers: 16, Neurons: 20, LR: 0.1\n",
      "479/479 [==============================] - 1s 1ms/step - loss: 164010.5156\n",
      "Building Model ...\n",
      "Hidden Layers: 16, Neurons: 20, LR: 0.1\n",
      "479/479 [==============================] - 0s 936us/step - loss: 163621.8281\n",
      "Building Model ...\n",
      "Hidden Layers: 16, Neurons: 20, LR: 0.1\n",
      "479/479 [==============================] - 1s 1ms/step - loss: 160797.6406\n",
      "Building Model ...\n",
      "Hidden Layers: 16, Neurons: 100, LR: 0.001\n",
      "479/479 [==============================] - 1s 1ms/step - loss: 4145.3428\n",
      "Building Model ...\n",
      "Hidden Layers: 16, Neurons: 100, LR: 0.001\n",
      "479/479 [==============================] - 1s 2ms/step - loss: 4110.0249\n",
      "Building Model ...\n",
      "Hidden Layers: 16, Neurons: 100, LR: 0.001\n",
      "479/479 [==============================] - 1s 1ms/step - loss: 2837.7844\n",
      "Building Model ...\n",
      "Hidden Layers: 16, Neurons: 60, LR: 0.01\n",
      "479/479 [==============================] - 1s 1ms/step - loss: 7713.9932\n",
      "Building Model ...\n",
      "Hidden Layers: 16, Neurons: 60, LR: 0.01\n",
      "479/479 [==============================] - 1s 1ms/step - loss: 4854.2104\n",
      "Building Model ...\n",
      "Hidden Layers: 16, Neurons: 60, LR: 0.01\n",
      "479/479 [==============================] - 1s 1ms/step - loss: 3905.2852\n",
      "Building Model ...\n",
      "Hidden Layers: 8, Neurons: 5, LR: 0.0001\n",
      "479/479 [==============================] - 0s 887us/step - loss: 3530.1294\n",
      "Building Model ...\n",
      "Hidden Layers: 8, Neurons: 5, LR: 0.0001\n",
      "479/479 [==============================] - 0s 724us/step - loss: 249875.8125\n",
      "Building Model ...\n",
      "Hidden Layers: 8, Neurons: 5, LR: 0.0001\n",
      "479/479 [==============================] - 0s 815us/step - loss: 2810.2310\n",
      "Building Model ...\n",
      "Hidden Layers: 8, Neurons: 20, LR: 0.001\n"
     ]
    }
   ],
   "source": [
    "# Optimised MLP (Target - DC Power, Plant 1)\n",
    "\n",
    "if TRAIN_MODELS == True:\n",
    "    \n",
    "    # Clear existing models\n",
    "    keras.backend.clear_session()\n",
    "\n",
    "    # Establish parameter distribution for tuning\n",
    "    param_distribs = {\n",
    "        \"n_hidden\": (4, 8, 12, 16, 20),\n",
    "        \"n_neurons\": (5, 10, 20, 40, 60, 80, 100),\n",
    "        \"learning_rate\": (1e-1, 1e-2, 1e-3, 1e-4),\n",
    "    }\n",
    "\n",
    "    # Build model\n",
    "    wrapped_model = keras_helpers.wrap_model()\n",
    "\n",
    "    # Initialise random search\n",
    "    rnd_search_cv = RandomizedSearchCV(wrapped_model, param_distribs, n_iter = 10, cv = 3)\n",
    "\n",
    "    # Name model\n",
    "    model_type = \"MLP_Opt_DC_Plant1\"\n",
    "    model_id = keras_helpers.name_model(model_type)\n",
    "    filepath_full = keras_helpers.make_save_string(model_id)\n",
    "\n",
    "    # Set save and earlystop callbacks\n",
    "    earlystop_cb = keras.callbacks.EarlyStopping(patience = 3)\n",
    "    checkpoint_cb = keras.callbacks.ModelCheckpoint(filepath = filepath_full, save_best_only = True)\n",
    "\n",
    "    # Set TensorBoard callback for logging\n",
    "    tb_logdir = tensorboard_helpers.get_run_logdir()\n",
    "    tensorboard_cb = keras.callbacks.TensorBoard(tb_logdir)\n",
    "\n",
    "    # Train model\n",
    "    rnd_search_cv.fit(X_train_pt1, y_train_pt1, epochs = 100, validation_data = (X_test_pt1, y_test_pt1), callbacks = [checkpoint_cb, earlystop_cb, tensorboard_cb], verbose = 0)"
   ]
  },
  {
   "cell_type": "code",
   "execution_count": 17,
   "metadata": {},
   "outputs": [
    {
     "output_type": "stream",
     "name": "stdout",
     "text": [
      "Model Path: C:\\Developer\\solar-power-generation-project\\Models\\WJ_MLP_Opt_DC_Plant1_2021_06_17-10_07_18.h5\n",
      "Model: \"sequential_9\"\n",
      "_________________________________________________________________\n",
      "Layer (type)                 Output Shape              Param #   \n",
      "=================================================================\n",
      "dense_81 (Dense)             (None, 5)                 20        \n",
      "_________________________________________________________________\n",
      "dense_82 (Dense)             (None, 5)                 30        \n",
      "_________________________________________________________________\n",
      "dense_83 (Dense)             (None, 5)                 30        \n",
      "_________________________________________________________________\n",
      "dense_84 (Dense)             (None, 5)                 30        \n",
      "_________________________________________________________________\n",
      "dense_85 (Dense)             (None, 5)                 30        \n",
      "_________________________________________________________________\n",
      "dense_86 (Dense)             (None, 5)                 30        \n",
      "_________________________________________________________________\n",
      "dense_87 (Dense)             (None, 5)                 30        \n",
      "_________________________________________________________________\n",
      "dense_88 (Dense)             (None, 5)                 30        \n",
      "_________________________________________________________________\n",
      "dense_89 (Dense)             (None, 5)                 30        \n",
      "_________________________________________________________________\n",
      "dense_90 (Dense)             (None, 5)                 30        \n",
      "_________________________________________________________________\n",
      "dense_91 (Dense)             (None, 5)                 30        \n",
      "_________________________________________________________________\n",
      "dense_92 (Dense)             (None, 5)                 30        \n",
      "_________________________________________________________________\n",
      "dense_93 (Dense)             (None, 5)                 30        \n",
      "_________________________________________________________________\n",
      "dense_94 (Dense)             (None, 5)                 30        \n",
      "_________________________________________________________________\n",
      "dense_95 (Dense)             (None, 5)                 30        \n",
      "_________________________________________________________________\n",
      "dense_96 (Dense)             (None, 5)                 30        \n",
      "_________________________________________________________________\n",
      "dense_97 (Dense)             (None, 1)                 6         \n",
      "=================================================================\n",
      "Total params: 476\n",
      "Trainable params: 476\n",
      "Non-trainable params: 0\n",
      "_________________________________________________________________\n",
      "MLP_Opt_DC_pt1 rmse (Eval): 55.06942188763415\n",
      "MLP_Opt_DC_pt1 mae (Eval): 22.326289469459514\n",
      "MLP_Opt_DC_pt1 r2 (Eval): 0.9809733012131029\n"
     ]
    }
   ],
   "source": [
    "# Evaluate MLP Model (DC Power, Plant 1)\n",
    "\n",
    "if TRAIN_MODELS == False:\n",
    "    filepath_full = r'C:\\Developer\\solar-power-generation-project\\Models\\WJ_MLP_Opt_DC_Plant1_2021_06_15-11_01_28.h5'\n",
    "\n",
    "print(\"Model Path:\", filepath_full)\n",
    "\n",
    "wrapped_model = keras.models.load_model(filepath_full)\n",
    "\n",
    "# Summarise model\n",
    "wrapped_model.summary()\n",
    "\n",
    "# Make predictions\n",
    "dc_pred_eval = wrapped_model.predict(dc_evaluation_data_pt1)\n",
    "\n",
    "model_name = \"MLP_Opt_DC_pt1\"\n",
    "model_evaluation.evaluate_model(model_name, dc_eval_label_data_pt1, dc_pred_eval)\n",
    "rmse, mae, r2 = model_evaluation.return_model_evaluation_stats(dc_eval_label_data_pt1, dc_pred_eval)"
   ]
  },
  {
   "cell_type": "code",
   "execution_count": 18,
   "metadata": {},
   "outputs": [
    {
     "output_type": "stream",
     "name": "stdout",
     "text": [
      "[[0.78718932 0.86385524 0.75714748]\n [0.40111725 0.13940226 0.        ]\n [0.366359   0.24734289 0.16542722]\n ...\n [0.17626336 0.06610678 0.        ]\n [0.19348786 0.04786465 0.        ]\n [0.30564703 0.10208519 0.        ]]\n16031    1196.980000\n4052        0.000000\n71148     285.164286\n71234     140.678571\n24593     896.435714\n            ...     \n14020     872.093333\n50199      57.906667\n65768       0.000000\n50783       0.000000\n12524       0.000000\nName: DC_POWER, Length: 45957, dtype: float64\n"
     ]
    }
   ],
   "source": [
    "# Create train and test arrays (plant 2)\n",
    "X_train_pt2, X_test_pt2, y_train_pt2, y_test_pt2 = train_test_split(dc_power_training_data_pt2, dc_label_data_pt2, test_size = 0.2, random_state = 0)\n",
    "\n",
    "print(X_train_pt2)\n",
    "print(y_train_pt2)"
   ]
  },
  {
   "cell_type": "code",
   "execution_count": 19,
   "metadata": {},
   "outputs": [
    {
     "output_type": "stream",
     "name": "stdout",
     "text": [
      "Building Model ...\n",
      "Hidden Layers: 2, Neurons: 6, LR: 0.001\n",
      "Epoch 1/20\n",
      "1437/1437 [==============================] - 2s 1ms/step - loss: 191559.7850 - val_loss: 123949.9062\n",
      "Epoch 2/20\n",
      "1437/1437 [==============================] - 2s 1ms/step - loss: 104599.2144 - val_loss: 78712.4453\n",
      "Epoch 3/20\n",
      "1437/1437 [==============================] - 2s 1ms/step - loss: 72575.3590 - val_loss: 61846.8594\n",
      "Epoch 4/20\n",
      "1437/1437 [==============================] - 2s 1ms/step - loss: 58887.5257 - val_loss: 56998.9805\n",
      "Epoch 5/20\n",
      "1437/1437 [==============================] - 2s 1ms/step - loss: 55489.3471 - val_loss: 56203.6523\n",
      "Epoch 6/20\n",
      "1437/1437 [==============================] - 2s 1ms/step - loss: 54908.9232 - val_loss: 55836.2031\n",
      "Epoch 7/20\n",
      "1437/1437 [==============================] - 2s 1ms/step - loss: 55469.3370 - val_loss: 55483.2227\n",
      "Epoch 8/20\n",
      "1437/1437 [==============================] - 2s 1ms/step - loss: 54281.2689 - val_loss: 55251.7500\n",
      "Epoch 9/20\n",
      "1437/1437 [==============================] - 2s 1ms/step - loss: 54251.4476 - val_loss: 55033.8047\n",
      "Epoch 10/20\n",
      "1437/1437 [==============================] - 2s 1ms/step - loss: 53493.1415 - val_loss: 54870.9219\n",
      "Epoch 11/20\n",
      "1437/1437 [==============================] - 1s 1ms/step - loss: 52287.9309 - val_loss: 54754.1328\n",
      "Epoch 12/20\n",
      "1437/1437 [==============================] - 2s 1ms/step - loss: 53073.8992 - val_loss: 54731.5508\n",
      "Epoch 13/20\n",
      "1437/1437 [==============================] - 2s 1ms/step - loss: 54280.6082 - val_loss: 54607.4961\n",
      "Epoch 14/20\n",
      "1437/1437 [==============================] - 2s 1ms/step - loss: 52982.3004 - val_loss: 54553.5430\n",
      "Epoch 15/20\n",
      "1437/1437 [==============================] - 2s 1ms/step - loss: 52979.4990 - val_loss: 54527.9336\n",
      "Epoch 16/20\n",
      "1437/1437 [==============================] - 2s 1ms/step - loss: 53646.1354 - val_loss: 54511.7812\n",
      "Epoch 17/20\n",
      "1437/1437 [==============================] - 2s 1ms/step - loss: 52939.9298 - val_loss: 54492.9688\n",
      "Epoch 18/20\n",
      "1437/1437 [==============================] - 2s 1ms/step - loss: 52822.8341 - val_loss: 54524.0391\n",
      "Epoch 19/20\n",
      "1437/1437 [==============================] - 2s 1ms/step - loss: 53401.4082 - val_loss: 54553.2695\n",
      "Epoch 20/20\n",
      "1437/1437 [==============================] - 2s 1ms/step - loss: 52492.4751 - val_loss: 54568.6992\n"
     ]
    }
   ],
   "source": [
    "# Initial MLP (Target - DC Power, Plant 2)\n",
    "\n",
    "if TRAIN_MODELS == True:\n",
    "    \n",
    "    # Clear existing models\n",
    "    keras.backend.clear_session()\n",
    "\n",
    "    # Build model\n",
    "    model = keras_helpers.build_multilayer_perceptron()\n",
    "\n",
    "    # Name model\n",
    "    model_type = \"MLP_DC_Plant2\"\n",
    "    model_id = keras_helpers.name_model(model_type)\n",
    "    filepath_full = keras_helpers.make_save_string(model_id)\n",
    "\n",
    "    # Set save and earlystop callbacks\n",
    "    earlystop_cb = keras.callbacks.EarlyStopping(patience = 5)\n",
    "    checkpoint_cb = keras.callbacks.ModelCheckpoint(filepath = filepath_full, save_best_only = True)\n",
    "\n",
    "    # Train model\n",
    "    model.fit(X_train_pt2, y_train_pt2, epochs = 20, validation_data = (X_test_pt2, y_test_pt2), callbacks =[checkpoint_cb, earlystop_cb])"
   ]
  },
  {
   "cell_type": "code",
   "execution_count": 20,
   "metadata": {},
   "outputs": [
    {
     "output_type": "stream",
     "name": "stdout",
     "text": [
      "Model Path: C:\\Developer\\solar-power-generation-project\\Models\\WJ_MLP_DC_Plant2_2021_06_17-10_25_09.h5\n",
      "Model: \"sequential\"\n",
      "_________________________________________________________________\n",
      "Layer (type)                 Output Shape              Param #   \n",
      "=================================================================\n",
      "dense (Dense)                (None, 6)                 24        \n",
      "_________________________________________________________________\n",
      "dense_1 (Dense)              (None, 6)                 42        \n",
      "_________________________________________________________________\n",
      "dense_2 (Dense)              (None, 1)                 7         \n",
      "=================================================================\n",
      "Total params: 73\n",
      "Trainable params: 73\n",
      "Non-trainable params: 0\n",
      "_________________________________________________________________\n",
      "MLP_DC rmse (Eval): 233.78362970666456\n",
      "MLP_DC mae (Eval): 132.08992482894666\n",
      "MLP_DC r2 (Eval): 0.6041764450340577\n"
     ]
    }
   ],
   "source": [
    "# Evaluate MLP Model (DC Power, Plant 2)\n",
    "\n",
    "if TRAIN_MODELS == False:\n",
    "    filepath_full = r'C:\\Developer\\solar-power-generation-project\\Models\\WJ_MLP_DC_Plant2_2021_06_15-11_17_41.h5'\n",
    "\n",
    "print(\"Model Path:\", filepath_full)\n",
    "\n",
    "# Load model\n",
    "model = keras.models.load_model(filepath_full)\n",
    "\n",
    "# Summarise model\n",
    "model.summary()\n",
    "\n",
    "# Make predictions\n",
    "dc_pred_eval = model.predict(dc_evaluation_data_pt2)\n",
    "\n",
    "# Determine model prediction stats\n",
    "model_name = \"MLP_DC\"\n",
    "model_evaluation.evaluate_model(model_name, dc_eval_label_data_pt2, dc_pred_eval)\n",
    "rmse, mae, r2 = model_evaluation.return_model_evaluation_stats(dc_eval_label_data_pt2, dc_pred_eval)"
   ]
  },
  {
   "cell_type": "code",
   "execution_count": 21,
   "metadata": {},
   "outputs": [
    {
     "output_type": "stream",
     "name": "stdout",
     "text": [
      "c:\\Developer\\solar-power-generation-project\\Models\\TensorBoard\\run_2021_06_17-10_25_41\n"
     ]
    }
   ],
   "source": [
    "# Setup tensorboard for logging \n",
    "x = tensorboard_helpers.get_run_logdir()\n",
    "\n",
    "# Print tensorboard directory\n",
    "print(x)"
   ]
  },
  {
   "cell_type": "code",
   "execution_count": 22,
   "metadata": {},
   "outputs": [
    {
     "output_type": "stream",
     "name": "stdout",
     "text": [
      "Building Model ...\n",
      "Hidden Layers: 16, Neurons: 10, LR: 0.001\n",
      "479/479 [==============================] - 0s 793us/step - loss: 51010.3164\n",
      "Building Model ...\n",
      "Hidden Layers: 16, Neurons: 10, LR: 0.001\n",
      "479/479 [==============================] - 0s 873us/step - loss: 47000.7617\n",
      "Building Model ...\n",
      "Hidden Layers: 16, Neurons: 10, LR: 0.001\n",
      "479/479 [==============================] - 1s 1ms/step - loss: 48712.6406\n",
      "Building Model ...\n",
      "Hidden Layers: 8, Neurons: 5, LR: 0.0001\n",
      "479/479 [==============================] - 0s 711us/step - loss: 47549.0547\n",
      "Building Model ...\n",
      "Hidden Layers: 8, Neurons: 5, LR: 0.0001\n",
      "479/479 [==============================] - 0s 720us/step - loss: 45636.6172\n",
      "Building Model ...\n",
      "Hidden Layers: 8, Neurons: 5, LR: 0.0001\n",
      "479/479 [==============================] - 0s 735us/step - loss: 194435.4531\n",
      "Building Model ...\n",
      "Hidden Layers: 4, Neurons: 10, LR: 0.01\n",
      "479/479 [==============================] - 0s 702us/step - loss: 50170.5586\n",
      "Building Model ...\n",
      "Hidden Layers: 4, Neurons: 10, LR: 0.01\n",
      "479/479 [==============================] - 0s 826us/step - loss: 45685.7383\n",
      "Building Model ...\n",
      "Hidden Layers: 4, Neurons: 10, LR: 0.01\n",
      "479/479 [==============================] - 0s 712us/step - loss: 51675.1719\n",
      "Building Model ...\n",
      "Hidden Layers: 16, Neurons: 10, LR: 0.01\n",
      "479/479 [==============================] - 0s 900us/step - loss: 48593.2383\n",
      "Building Model ...\n",
      "Hidden Layers: 16, Neurons: 10, LR: 0.01\n",
      "479/479 [==============================] - 0s 837us/step - loss: 47535.2383\n",
      "Building Model ...\n",
      "Hidden Layers: 16, Neurons: 10, LR: 0.01\n",
      "479/479 [==============================] - 1s 1ms/step - loss: 52176.5000\n",
      "Building Model ...\n",
      "Hidden Layers: 8, Neurons: 140, LR: 0.0001\n",
      "479/479 [==============================] - 1s 1ms/step - loss: 46447.8359\n",
      "Building Model ...\n",
      "Hidden Layers: 8, Neurons: 140, LR: 0.0001\n",
      "479/479 [==============================] - 1s 1ms/step - loss: 45518.4492\n",
      "Building Model ...\n",
      "Hidden Layers: 8, Neurons: 140, LR: 0.0001\n",
      "479/479 [==============================] - 1s 2ms/step - loss: 47670.6680\n",
      "Building Model ...\n",
      "Hidden Layers: 16, Neurons: 120, LR: 0.0001\n",
      "479/479 [==============================] - 1s 1ms/step - loss: 46115.3086\n",
      "Building Model ...\n",
      "Hidden Layers: 16, Neurons: 120, LR: 0.0001\n",
      "479/479 [==============================] - 1s 1ms/step - loss: 46315.5898\n",
      "Building Model ...\n",
      "Hidden Layers: 16, Neurons: 120, LR: 0.0001\n",
      "479/479 [==============================] - 1s 1ms/step - loss: 51083.1875\n",
      "Building Model ...\n",
      "Hidden Layers: 16, Neurons: 180, LR: 0.1\n",
      "479/479 [==============================] - 1s 2ms/step - loss: nan\n",
      "Building Model ...\n",
      "Hidden Layers: 16, Neurons: 180, LR: 0.1\n",
      "479/479 [==============================] - 1s 2ms/step - loss: nan\n",
      "Building Model ...\n",
      "Hidden Layers: 16, Neurons: 180, LR: 0.1\n",
      "479/479 [==============================] - 1s 2ms/step - loss: nan\n",
      "Building Model ...\n",
      "Hidden Layers: 8, Neurons: 140, LR: 0.01\n",
      "479/479 [==============================] - 0s 982us/step - loss: 51812.1055\n",
      "Building Model ...\n",
      "Hidden Layers: 8, Neurons: 140, LR: 0.01\n",
      "479/479 [==============================] - 1s 1ms/step - loss: 54432.1016\n",
      "Building Model ...\n",
      "Hidden Layers: 8, Neurons: 140, LR: 0.01\n",
      "479/479 [==============================] - 0s 984us/step - loss: 58269.2461\n",
      "Building Model ...\n",
      "Hidden Layers: 12, Neurons: 120, LR: 0.0001\n",
      "479/479 [==============================] - 0s 1ms/step - loss: 47503.2266\n",
      "Building Model ...\n",
      "Hidden Layers: 12, Neurons: 120, LR: 0.0001\n",
      "479/479 [==============================] - 1s 2ms/step - loss: 45705.2188\n",
      "Building Model ...\n",
      "Hidden Layers: 12, Neurons: 120, LR: 0.0001\n",
      "479/479 [==============================] - 0s 983us/step - loss: 48674.5938\n",
      "Building Model ...\n",
      "Hidden Layers: 8, Neurons: 140, LR: 0.001\n",
      "479/479 [==============================] - 1s 1ms/step - loss: 47737.5156\n",
      "Building Model ...\n",
      "Hidden Layers: 8, Neurons: 140, LR: 0.001\n",
      "479/479 [==============================] - 1s 1ms/step - loss: 51517.3984\n",
      "Building Model ...\n",
      "Hidden Layers: 8, Neurons: 140, LR: 0.001\n",
      "479/479 [==============================] - 1s 1ms/step - loss: 49338.8320\n",
      "Building Model ...\n",
      "Hidden Layers: 8, Neurons: 140, LR: 0.0001\n"
     ]
    }
   ],
   "source": [
    "# Optimised MLP (Target - DC Power, Plant 2)\n",
    "\n",
    "if TRAIN_MODELS == True:\n",
    "    \n",
    "    # Clear existing models\n",
    "    keras.backend.clear_session()\n",
    "\n",
    "    # Establish parameter distribution for tuning\n",
    "    param_distribs = {\n",
    "        \"n_hidden\": (4, 8, 12, 16),\n",
    "        \"n_neurons\": (5, 10, 20, 40, 60, 80, 100, 120, 140, 160, 180, 200),\n",
    "        \"learning_rate\": (1e-1, 1e-2, 1e-3, 1e-4),\n",
    "    }\n",
    "\n",
    "    # Build model\n",
    "    wrapped_model = keras_helpers.wrap_model()\n",
    "\n",
    "    # Initialise random search\n",
    "    rnd_search_cv = RandomizedSearchCV(wrapped_model, param_distribs, n_iter = 10, cv = 3)\n",
    "\n",
    "    # Name model\n",
    "    model_type = \"MLP_Opt_DC_Plant2\"\n",
    "    model_id = keras_helpers.name_model(model_type)\n",
    "    filepath_full = keras_helpers.make_save_string(model_id)\n",
    "\n",
    "    # Set save and earlystop callbacks\n",
    "    earlystop_cb = keras.callbacks.EarlyStopping(patience = 3)\n",
    "    checkpoint_cb = keras.callbacks.ModelCheckpoint(filepath = filepath_full, save_best_only = True)\n",
    "\n",
    "    # Set TensorBoard callback for logging\n",
    "    tb_logdir = tensorboard_helpers.get_run_logdir()\n",
    "    tensorboard_cb = keras.callbacks.TensorBoard(tb_logdir)\n",
    "\n",
    "    # Train model\n",
    "    rnd_search_cv.fit(X_train_pt2, y_train_pt2, epochs = 100, validation_data = (X_test_pt2, y_test_pt2), callbacks = [checkpoint_cb, earlystop_cb, tensorboard_cb], verbose = 0)"
   ]
  },
  {
   "cell_type": "code",
   "execution_count": 23,
   "metadata": {},
   "outputs": [
    {
     "output_type": "stream",
     "name": "stdout",
     "text": [
      "Model Path: C:\\Developer\\solar-power-generation-project\\Models\\WJ_MLP_Opt_DC_Plant2_2021_06_17-10_25_41.h5\n",
      "Model: \"sequential_25\"\n",
      "_________________________________________________________________\n",
      "Layer (type)                 Output Shape              Param #   \n",
      "=================================================================\n",
      "dense_313 (Dense)            (None, 120)               480       \n",
      "_________________________________________________________________\n",
      "dense_314 (Dense)            (None, 120)               14520     \n",
      "_________________________________________________________________\n",
      "dense_315 (Dense)            (None, 120)               14520     \n",
      "_________________________________________________________________\n",
      "dense_316 (Dense)            (None, 120)               14520     \n",
      "_________________________________________________________________\n",
      "dense_317 (Dense)            (None, 120)               14520     \n",
      "_________________________________________________________________\n",
      "dense_318 (Dense)            (None, 120)               14520     \n",
      "_________________________________________________________________\n",
      "dense_319 (Dense)            (None, 120)               14520     \n",
      "_________________________________________________________________\n",
      "dense_320 (Dense)            (None, 120)               14520     \n",
      "_________________________________________________________________\n",
      "dense_321 (Dense)            (None, 120)               14520     \n",
      "_________________________________________________________________\n",
      "dense_322 (Dense)            (None, 120)               14520     \n",
      "_________________________________________________________________\n",
      "dense_323 (Dense)            (None, 120)               14520     \n",
      "_________________________________________________________________\n",
      "dense_324 (Dense)            (None, 120)               14520     \n",
      "_________________________________________________________________\n",
      "dense_325 (Dense)            (None, 1)                 121       \n",
      "=================================================================\n",
      "Total params: 160,321\n",
      "Trainable params: 160,321\n",
      "Non-trainable params: 0\n",
      "_________________________________________________________________\n",
      "MLP_Opt_DC_pt2 rmse (Eval): 217.55750431514062\n",
      "MLP_Opt_DC_pt2 mae (Eval): 97.38743713199348\n",
      "MLP_Opt_DC_pt2 r2 (Eval): 0.6572151833034459\n"
     ]
    }
   ],
   "source": [
    "# Evaluate MLP Model (DC Power, Plant 2)\n",
    "\n",
    "if TRAIN_MODELS == False:\n",
    "    filepath_full = r'C:\\Developer\\solar-power-generation-project\\Models\\WJ_MLP_Opt_DC_2021_01_13-15_30_27.h5'\n",
    "\n",
    "print(\"Model Path:\", filepath_full)\n",
    "\n",
    "wrapped_model = keras.models.load_model(filepath_full)\n",
    "\n",
    "# Summarise model\n",
    "wrapped_model.summary()\n",
    "\n",
    "# Make predictions\n",
    "dc_pred_eval = wrapped_model.predict(dc_evaluation_data_pt2)\n",
    "\n",
    "model_name = \"MLP_Opt_DC_pt2\"\n",
    "model_evaluation.evaluate_model(model_name, dc_eval_label_data_pt2, dc_pred_eval)\n",
    "rmse, mae, r2 = model_evaluation.return_model_evaluation_stats(dc_eval_label_data_pt2, dc_pred_eval)"
   ]
  }
 ]
}