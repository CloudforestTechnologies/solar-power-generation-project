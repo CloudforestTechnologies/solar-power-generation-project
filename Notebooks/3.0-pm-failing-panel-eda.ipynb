{
 "metadata": {
  "language_info": {
   "codemirror_mode": {
    "name": "ipython",
    "version": 3
   },
   "file_extension": ".py",
   "mimetype": "text/x-python",
   "name": "python",
   "nbconvert_exporter": "python",
   "pygments_lexer": "ipython3",
   "version": "3.6.6-final"
  },
  "orig_nbformat": 2,
  "kernelspec": {
   "name": "python3",
   "display_name": "Python 3",
   "language": "python"
  }
 },
 "nbformat": 4,
 "nbformat_minor": 2,
 "cells": [
  {
   "cell_type": "code",
   "execution_count": 1,
   "metadata": {},
   "outputs": [
    {
     "output_type": "stream",
     "name": "stdout",
     "text": [
      "seaborn version = 0.10.0\nnumpy version = 1.19.4\npandas version = 1.1.4\n"
     ]
    }
   ],
   "source": [
    "# Module Imports\n",
    "import datetime\n",
    "from matplotlib import pyplot as plt\n",
    "import numpy as np\n",
    "import pandas as pd \n",
    "import seaborn as sns\n",
    "\n",
    "# Print versioning information\n",
    "print('seaborn version =', sns.__version__)\n",
    "print('numpy version =', np.__version__)  \n",
    "print('pandas version =', pd.__version__)"
   ]
  },
  {
   "cell_type": "code",
   "execution_count": 2,
   "metadata": {},
   "outputs": [],
   "source": [
    "# Custom Module Imports\n",
    "from Source.data import load_data\n",
    "from Source.visualisation import figures_helper"
   ]
  },
  {
   "cell_type": "code",
   "execution_count": null,
   "metadata": {},
   "outputs": [],
   "source": [
    "# Constants"
   ]
  },
  {
   "cell_type": "code",
   "execution_count": 3,
   "metadata": {},
   "outputs": [
    {
     "output_type": "stream",
     "name": "stdout",
     "text": [
      "Loading pickled dataframe started ...\nLoading pickled dataframe complete ...\n<class 'pandas.core.frame.DataFrame'>\nRangeIndex: 137556 entries, 0 to 137555\nData columns (total 13 columns):\n #   Column       Non-Null Count   Dtype         \n---  ------       --------------   -----         \n 0   DATE_TIME    137556 non-null  datetime64[ns]\n 1   PLANT_ID     137556 non-null  int64         \n 2   SOURCE_KEY   137556 non-null  object        \n 3   DC_POWER     137556 non-null  float64       \n 4   AC_POWER     137556 non-null  float64       \n 5   DAILY_YIELD  137556 non-null  float64       \n 6   TOTAL_YIELD  137556 non-null  float64       \n 7   CELL_NO      137556 non-null  object        \n 8   TIME_OF_DAY  137556 non-null  object        \n 9   AMB_TEMP     137556 non-null  float64       \n 10  MOD_TEMP     137556 non-null  float64       \n 11  IRRADIATION  137556 non-null  float64       \n 12  PLANT        137556 non-null  object        \ndtypes: datetime64[ns](1), float64(7), int64(1), object(4)\nmemory usage: 13.6+ MB\nNone\n"
     ]
    }
   ],
   "source": [
    "# Load full dataset\n",
    "full_data_df = load_data.load_pickled_data('full_data_df.pkl')\n",
    "\n",
    "print(full_data_df.info())"
   ]
  },
  {
   "cell_type": "code",
   "execution_count": 4,
   "metadata": {},
   "outputs": [
    {
     "output_type": "stream",
     "name": "stdout",
     "text": [
      "   DATE_TIME  PLANT_ID       SOURCE_KEY  DC_POWER  AC_POWER  DAILY_YIELD  \\\n0 2020-05-15   4135001  1BY6WEcLGh8j5v7       0.0       0.0          0.0   \n1 2020-05-15   4135001  1IF53ai7Xc0U56Y       0.0       0.0          0.0   \n2 2020-05-15   4135001  3PZuoBAID5Wc2HD       0.0       0.0          0.0   \n3 2020-05-15   4135001  7JYdWkrLSPkdwr4       0.0       0.0          0.0   \n4 2020-05-15   4135001  McdE0feGgRqW7Ca       0.0       0.0          0.0   \n\n   TOTAL_YIELD CELL_NO TIME_OF_DAY   AMB_TEMP   MOD_TEMP  IRRADIATION   PLANT  \n0    6259559.0      01    00:00:00  25.184316  22.857507          0.0  plant1  \n1    6183645.0      02    00:00:00  25.184316  22.857507          0.0  plant1  \n2    6987759.0      03    00:00:00  25.184316  22.857507          0.0  plant1  \n3    7602960.0      03    00:00:00  25.184316  22.857507          0.0  plant1  \n4    7158964.0      05    00:00:00  25.184316  22.857507          0.0  plant1  \n"
     ]
    }
   ],
   "source": [
    "# Peek at dataset\n",
    "print(full_data_df.head(5))"
   ]
  },
  {
   "cell_type": "code",
   "execution_count": null,
   "metadata": {},
   "outputs": [],
   "source": []
  }
 ]
}